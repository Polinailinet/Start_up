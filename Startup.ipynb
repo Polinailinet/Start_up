{
 "cells": [
  {
   "cell_type": "markdown",
   "id": "671dc1e1",
   "metadata": {},
   "source": [
    "# Startup"
   ]
  },
  {
   "cell_type": "markdown",
   "id": "4741c192",
   "metadata": {},
   "source": [
    "## 0. Общая информация"
   ]
  },
  {
   "cell_type": "markdown",
   "id": "b2ed120a",
   "metadata": {},
   "source": [
    "По легенде я работаю в стартапе, который продаёт продукты питания. Мне нужно разобраться, как ведут себя пользователи мобильного приложения. \n",
    "\n",
    "*Каждая запись в логе — это действие пользователя, или событие.*\n",
    "\n",
    "- _EventName_ — название события;\n",
    "- _DeviceIDHash_ — уникальный идентификатор пользователя;\n",
    "- _EventTimestamp_ — время события;\n",
    "- _ExpId_ — номер эксперимента: 246 и 247 — контрольные группы, а 248 — экспериментальная."
   ]
  },
  {
   "cell_type": "markdown",
   "id": "010411dc",
   "metadata": {},
   "source": [
    "## 1. Чтение данных"
   ]
  },
  {
   "cell_type": "code",
   "execution_count": 1,
   "id": "a62e9641",
   "metadata": {},
   "outputs": [],
   "source": [
    "import pandas as pd\n",
    "from scipy import stats\n",
    "import matplotlib.pyplot as plt\n",
    "import plotly.graph_objs as go\n",
    "import plotly.express as px\n",
    "\n",
    "from scipy import stats as st # модуль для z-теста пропорций\n",
    "import numpy as np\n",
    "import math as mth\n",
    "\n",
    "from datetime import datetime as dt"
   ]
  },
  {
   "cell_type": "code",
   "execution_count": 2,
   "id": "7ad8dd7d",
   "metadata": {},
   "outputs": [
    {
     "name": "stdout",
     "output_type": "stream",
     "text": [
      "                      EventName         DeviceIDHash  EventTimestamp  ExpId\n",
      "0              MainScreenAppear  4575588528974610257      1564029816    246\n",
      "1              MainScreenAppear  7416695313311560658      1564053102    246\n",
      "2       PaymentScreenSuccessful  3518123091307005509      1564054127    248\n",
      "3              CartScreenAppear  3518123091307005509      1564054127    248\n",
      "4       PaymentScreenSuccessful  6217807653094995999      1564055322    248\n",
      "...                         ...                  ...             ...    ...\n",
      "244121         MainScreenAppear  4599628364049201812      1565212345    247\n",
      "244122         MainScreenAppear  5849806612437486590      1565212439    246\n",
      "244123         MainScreenAppear  5746969938801999050      1565212483    246\n",
      "244124         MainScreenAppear  5746969938801999050      1565212498    246\n",
      "244125       OffersScreenAppear  5746969938801999050      1565212517    246\n",
      "\n",
      "[244126 rows x 4 columns]\n"
     ]
    }
   ],
   "source": [
    "# в атрибут parse_dates передаем колоники со стандартизированными данными и они распознаются как дата\n",
    "try:\n",
    "    logs = pd.read_csv('/datasets/logs_exp.csv', sep='\\t',parse_dates=['EventTimestamp']) # отделяем названия стобцов друг от друга\n",
    "except:\n",
    "    logs = pd.read_csv('logs_exp.csv', sep='\\t')\n",
    "print(logs)"
   ]
  },
  {
   "cell_type": "markdown",
   "id": "7fd67298",
   "metadata": {},
   "source": [
    "## 2. Изучение и подготовка данных"
   ]
  },
  {
   "cell_type": "markdown",
   "id": "42b11ac2",
   "metadata": {},
   "source": [
    "### 2.1. Описание данных\n",
    "\n",
    "Каждая запись в логе — это действие пользователя, или событие.\n",
    "\n",
    "- _EventName_ — название события;\n",
    "- _DeviceIDHash_ — уникальный идентификатор пользователя;\n",
    "- _EventTimestamp_ — время события;\n",
    "- _ExpId_ — номер эксперимента: 246 и 247 — контрольные группы, а 248 — экспериментальная."
   ]
  },
  {
   "cell_type": "markdown",
   "id": "a8dc1d1f",
   "metadata": {},
   "source": [
    "### 2.2. Меняем названия столбцов"
   ]
  },
  {
   "cell_type": "code",
   "execution_count": 3,
   "id": "6fa6313d",
   "metadata": {},
   "outputs": [
    {
     "name": "stdout",
     "output_type": "stream",
     "text": [
      "<class 'pandas.core.frame.DataFrame'>\n",
      "RangeIndex: 244126 entries, 0 to 244125\n",
      "Data columns (total 4 columns):\n",
      " #   Column          Non-Null Count   Dtype \n",
      "---  ------          --------------   ----- \n",
      " 0   eventname       244126 non-null  object\n",
      " 1   deviceidhash    244126 non-null  int64 \n",
      " 2   eventtimestamp  244126 non-null  int64 \n",
      " 3   expid           244126 non-null  int64 \n",
      "dtypes: int64(3), object(1)\n",
      "memory usage: 7.5+ MB\n"
     ]
    }
   ],
   "source": [
    "logs.columns = logs.columns.str.lower().str.strip().str.replace(' ', '_')\n",
    "logs.info()"
   ]
  },
  {
   "cell_type": "markdown",
   "id": "99e2a22f",
   "metadata": {},
   "source": [
    "### 2.3. Проверяем пропуски и типы данных"
   ]
  },
  {
   "cell_type": "code",
   "execution_count": 4,
   "id": "42fe661f",
   "metadata": {},
   "outputs": [
    {
     "data": {
      "text/plain": [
       "eventname         0\n",
       "deviceidhash      0\n",
       "eventtimestamp    0\n",
       "expid             0\n",
       "dtype: int64"
      ]
     },
     "execution_count": 4,
     "metadata": {},
     "output_type": "execute_result"
    }
   ],
   "source": [
    "logs.isna().sum()# подсчёт пропусков"
   ]
  },
  {
   "cell_type": "code",
   "execution_count": 5,
   "id": "d367a4ca",
   "metadata": {},
   "outputs": [
    {
     "data": {
      "text/html": [
       "<div>\n",
       "<style scoped>\n",
       "    .dataframe tbody tr th:only-of-type {\n",
       "        vertical-align: middle;\n",
       "    }\n",
       "\n",
       "    .dataframe tbody tr th {\n",
       "        vertical-align: top;\n",
       "    }\n",
       "\n",
       "    .dataframe thead th {\n",
       "        text-align: right;\n",
       "    }\n",
       "</style>\n",
       "<table border=\"1\" class=\"dataframe\">\n",
       "  <thead>\n",
       "    <tr style=\"text-align: right;\">\n",
       "      <th></th>\n",
       "      <th>eventname</th>\n",
       "      <th>deviceidhash</th>\n",
       "      <th>eventtimestamp</th>\n",
       "      <th>expid</th>\n",
       "    </tr>\n",
       "  </thead>\n",
       "  <tbody>\n",
       "    <tr>\n",
       "      <th>0</th>\n",
       "      <td>MainScreenAppear</td>\n",
       "      <td>4575588528974610257</td>\n",
       "      <td>1564029816</td>\n",
       "      <td>246</td>\n",
       "    </tr>\n",
       "    <tr>\n",
       "      <th>1</th>\n",
       "      <td>MainScreenAppear</td>\n",
       "      <td>7416695313311560658</td>\n",
       "      <td>1564053102</td>\n",
       "      <td>246</td>\n",
       "    </tr>\n",
       "    <tr>\n",
       "      <th>2</th>\n",
       "      <td>PaymentScreenSuccessful</td>\n",
       "      <td>3518123091307005509</td>\n",
       "      <td>1564054127</td>\n",
       "      <td>248</td>\n",
       "    </tr>\n",
       "    <tr>\n",
       "      <th>3</th>\n",
       "      <td>CartScreenAppear</td>\n",
       "      <td>3518123091307005509</td>\n",
       "      <td>1564054127</td>\n",
       "      <td>248</td>\n",
       "    </tr>\n",
       "    <tr>\n",
       "      <th>4</th>\n",
       "      <td>PaymentScreenSuccessful</td>\n",
       "      <td>6217807653094995999</td>\n",
       "      <td>1564055322</td>\n",
       "      <td>248</td>\n",
       "    </tr>\n",
       "  </tbody>\n",
       "</table>\n",
       "</div>"
      ],
      "text/plain": [
       "                 eventname         deviceidhash  eventtimestamp  expid\n",
       "0         MainScreenAppear  4575588528974610257      1564029816    246\n",
       "1         MainScreenAppear  7416695313311560658      1564053102    246\n",
       "2  PaymentScreenSuccessful  3518123091307005509      1564054127    248\n",
       "3         CartScreenAppear  3518123091307005509      1564054127    248\n",
       "4  PaymentScreenSuccessful  6217807653094995999      1564055322    248"
      ]
     },
     "metadata": {},
     "output_type": "display_data"
    },
    {
     "name": "stdout",
     "output_type": "stream",
     "text": [
      "<class 'pandas.core.frame.DataFrame'>\n",
      "RangeIndex: 244126 entries, 0 to 244125\n",
      "Data columns (total 4 columns):\n",
      " #   Column          Non-Null Count   Dtype \n",
      "---  ------          --------------   ----- \n",
      " 0   eventname       244126 non-null  object\n",
      " 1   deviceidhash    244126 non-null  int64 \n",
      " 2   eventtimestamp  244126 non-null  int64 \n",
      " 3   expid           244126 non-null  int64 \n",
      "dtypes: int64(3), object(1)\n",
      "memory usage: 7.5+ MB\n"
     ]
    },
    {
     "data": {
      "text/plain": [
       "(None, None)"
      ]
     },
     "execution_count": 5,
     "metadata": {},
     "output_type": "execute_result"
    }
   ],
   "source": [
    "display(logs.head()), logs.info()"
   ]
  },
  {
   "cell_type": "code",
   "execution_count": 6,
   "id": "cf446379",
   "metadata": {},
   "outputs": [
    {
     "name": "stdout",
     "output_type": "stream",
     "text": [
      "Количество дубликатов: 413\n"
     ]
    }
   ],
   "source": [
    "print('Количество дубликатов:', logs.duplicated().sum())"
   ]
  },
  {
   "cell_type": "code",
   "execution_count": 7,
   "id": "41b40128",
   "metadata": {},
   "outputs": [
    {
     "data": {
      "text/html": [
       "<div>\n",
       "<style scoped>\n",
       "    .dataframe tbody tr th:only-of-type {\n",
       "        vertical-align: middle;\n",
       "    }\n",
       "\n",
       "    .dataframe tbody tr th {\n",
       "        vertical-align: top;\n",
       "    }\n",
       "\n",
       "    .dataframe thead th {\n",
       "        text-align: right;\n",
       "    }\n",
       "</style>\n",
       "<table border=\"1\" class=\"dataframe\">\n",
       "  <thead>\n",
       "    <tr style=\"text-align: right;\">\n",
       "      <th></th>\n",
       "      <th>eventname</th>\n",
       "      <th>deviceidhash</th>\n",
       "      <th>eventtimestamp</th>\n",
       "      <th>expid</th>\n",
       "    </tr>\n",
       "  </thead>\n",
       "  <tbody>\n",
       "    <tr>\n",
       "      <th>0</th>\n",
       "      <td>MainScreenAppear</td>\n",
       "      <td>4575588528974610257</td>\n",
       "      <td>1564029816</td>\n",
       "      <td>246</td>\n",
       "    </tr>\n",
       "    <tr>\n",
       "      <th>1</th>\n",
       "      <td>MainScreenAppear</td>\n",
       "      <td>7416695313311560658</td>\n",
       "      <td>1564053102</td>\n",
       "      <td>246</td>\n",
       "    </tr>\n",
       "    <tr>\n",
       "      <th>2</th>\n",
       "      <td>PaymentScreenSuccessful</td>\n",
       "      <td>3518123091307005509</td>\n",
       "      <td>1564054127</td>\n",
       "      <td>248</td>\n",
       "    </tr>\n",
       "    <tr>\n",
       "      <th>3</th>\n",
       "      <td>CartScreenAppear</td>\n",
       "      <td>3518123091307005509</td>\n",
       "      <td>1564054127</td>\n",
       "      <td>248</td>\n",
       "    </tr>\n",
       "    <tr>\n",
       "      <th>4</th>\n",
       "      <td>PaymentScreenSuccessful</td>\n",
       "      <td>6217807653094995999</td>\n",
       "      <td>1564055322</td>\n",
       "      <td>248</td>\n",
       "    </tr>\n",
       "  </tbody>\n",
       "</table>\n",
       "</div>"
      ],
      "text/plain": [
       "                 eventname         deviceidhash  eventtimestamp  expid\n",
       "0         MainScreenAppear  4575588528974610257      1564029816    246\n",
       "1         MainScreenAppear  7416695313311560658      1564053102    246\n",
       "2  PaymentScreenSuccessful  3518123091307005509      1564054127    248\n",
       "3         CartScreenAppear  3518123091307005509      1564054127    248\n",
       "4  PaymentScreenSuccessful  6217807653094995999      1564055322    248"
      ]
     },
     "metadata": {},
     "output_type": "display_data"
    },
    {
     "name": "stdout",
     "output_type": "stream",
     "text": [
      "<class 'pandas.core.frame.DataFrame'>\n",
      "RangeIndex: 243713 entries, 0 to 243712\n",
      "Data columns (total 4 columns):\n",
      " #   Column          Non-Null Count   Dtype \n",
      "---  ------          --------------   ----- \n",
      " 0   eventname       243713 non-null  object\n",
      " 1   deviceidhash    243713 non-null  int64 \n",
      " 2   eventtimestamp  243713 non-null  int64 \n",
      " 3   expid           243713 non-null  int64 \n",
      "dtypes: int64(3), object(1)\n",
      "memory usage: 7.4+ MB\n",
      "Количество дубликатов: 0\n"
     ]
    }
   ],
   "source": [
    "logs =  logs.drop_duplicates().reset_index(drop=True)# удаление явных дубликатов (с удалением старых индексов и формированием новых)\n",
    "display(logs.head()), logs.info()\n",
    "print('Количество дубликатов:', logs.duplicated().sum()) # проверка"
   ]
  },
  {
   "cell_type": "markdown",
   "id": "e74ab30a",
   "metadata": {},
   "source": [
    "**Выводы**:\n",
    "- eventtimestamp имеет тип int64, но так как это дата, то нужно перевети в формат datetime, чтобы добавить столбец даты и времени, а так же отдельный столбец дат.\n",
    "- Пропусков нет, дубликаты мы удалили."
   ]
  },
  {
   "cell_type": "markdown",
   "id": "0de6c67b",
   "metadata": {},
   "source": [
    "### 2.4. Добавление столбца даты и времени, и отдельный столбец дат."
   ]
  },
  {
   "cell_type": "code",
   "execution_count": 8,
   "id": "4bfc845a",
   "metadata": {},
   "outputs": [
    {
     "data": {
      "text/plain": [
       "0        2019-07-25 04:43:36\n",
       "1        2019-07-25 11:11:42\n",
       "2        2019-07-25 11:28:47\n",
       "3        2019-07-25 11:28:47\n",
       "4        2019-07-25 11:48:42\n",
       "                 ...        \n",
       "243708   2019-08-07 21:12:25\n",
       "243709   2019-08-07 21:13:59\n",
       "243710   2019-08-07 21:14:43\n",
       "243711   2019-08-07 21:14:58\n",
       "243712   2019-08-07 21:15:17\n",
       "Name: eventtimestamp, Length: 243713, dtype: datetime64[ns]"
      ]
     },
     "execution_count": 8,
     "metadata": {},
     "output_type": "execute_result"
    }
   ],
   "source": [
    "logs['eventtimestamp'] = pd.to_datetime(logs['eventtimestamp'], unit='s')\n",
    "logs['eventtimestamp']"
   ]
  },
  {
   "cell_type": "code",
   "execution_count": 9,
   "id": "3e9e5ffd",
   "metadata": {},
   "outputs": [
    {
     "data": {
      "text/html": [
       "<div>\n",
       "<style scoped>\n",
       "    .dataframe tbody tr th:only-of-type {\n",
       "        vertical-align: middle;\n",
       "    }\n",
       "\n",
       "    .dataframe tbody tr th {\n",
       "        vertical-align: top;\n",
       "    }\n",
       "\n",
       "    .dataframe thead th {\n",
       "        text-align: right;\n",
       "    }\n",
       "</style>\n",
       "<table border=\"1\" class=\"dataframe\">\n",
       "  <thead>\n",
       "    <tr style=\"text-align: right;\">\n",
       "      <th></th>\n",
       "      <th>eventname</th>\n",
       "      <th>deviceidhash</th>\n",
       "      <th>eventtimestamp</th>\n",
       "      <th>expid</th>\n",
       "    </tr>\n",
       "  </thead>\n",
       "  <tbody>\n",
       "    <tr>\n",
       "      <th>0</th>\n",
       "      <td>MainScreenAppear</td>\n",
       "      <td>4575588528974610257</td>\n",
       "      <td>2019-07-25 04:43:36</td>\n",
       "      <td>246</td>\n",
       "    </tr>\n",
       "    <tr>\n",
       "      <th>1</th>\n",
       "      <td>MainScreenAppear</td>\n",
       "      <td>7416695313311560658</td>\n",
       "      <td>2019-07-25 11:11:42</td>\n",
       "      <td>246</td>\n",
       "    </tr>\n",
       "    <tr>\n",
       "      <th>2</th>\n",
       "      <td>PaymentScreenSuccessful</td>\n",
       "      <td>3518123091307005509</td>\n",
       "      <td>2019-07-25 11:28:47</td>\n",
       "      <td>248</td>\n",
       "    </tr>\n",
       "    <tr>\n",
       "      <th>3</th>\n",
       "      <td>CartScreenAppear</td>\n",
       "      <td>3518123091307005509</td>\n",
       "      <td>2019-07-25 11:28:47</td>\n",
       "      <td>248</td>\n",
       "    </tr>\n",
       "    <tr>\n",
       "      <th>4</th>\n",
       "      <td>PaymentScreenSuccessful</td>\n",
       "      <td>6217807653094995999</td>\n",
       "      <td>2019-07-25 11:48:42</td>\n",
       "      <td>248</td>\n",
       "    </tr>\n",
       "  </tbody>\n",
       "</table>\n",
       "</div>"
      ],
      "text/plain": [
       "                 eventname         deviceidhash      eventtimestamp  expid\n",
       "0         MainScreenAppear  4575588528974610257 2019-07-25 04:43:36    246\n",
       "1         MainScreenAppear  7416695313311560658 2019-07-25 11:11:42    246\n",
       "2  PaymentScreenSuccessful  3518123091307005509 2019-07-25 11:28:47    248\n",
       "3         CartScreenAppear  3518123091307005509 2019-07-25 11:28:47    248\n",
       "4  PaymentScreenSuccessful  6217807653094995999 2019-07-25 11:48:42    248"
      ]
     },
     "execution_count": 9,
     "metadata": {},
     "output_type": "execute_result"
    }
   ],
   "source": [
    "logs.head() # проверка"
   ]
  },
  {
   "cell_type": "code",
   "execution_count": 10,
   "id": "37152b2b",
   "metadata": {},
   "outputs": [
    {
     "data": {
      "text/html": [
       "<div>\n",
       "<style scoped>\n",
       "    .dataframe tbody tr th:only-of-type {\n",
       "        vertical-align: middle;\n",
       "    }\n",
       "\n",
       "    .dataframe tbody tr th {\n",
       "        vertical-align: top;\n",
       "    }\n",
       "\n",
       "    .dataframe thead th {\n",
       "        text-align: right;\n",
       "    }\n",
       "</style>\n",
       "<table border=\"1\" class=\"dataframe\">\n",
       "  <thead>\n",
       "    <tr style=\"text-align: right;\">\n",
       "      <th></th>\n",
       "      <th>eventname</th>\n",
       "      <th>deviceidhash</th>\n",
       "      <th>eventtimestamp</th>\n",
       "      <th>expid</th>\n",
       "      <th>datetime</th>\n",
       "    </tr>\n",
       "  </thead>\n",
       "  <tbody>\n",
       "    <tr>\n",
       "      <th>0</th>\n",
       "      <td>MainScreenAppear</td>\n",
       "      <td>4575588528974610257</td>\n",
       "      <td>2019-07-25 04:43:36</td>\n",
       "      <td>246</td>\n",
       "      <td>2019-07-25 04:43:36</td>\n",
       "    </tr>\n",
       "    <tr>\n",
       "      <th>1</th>\n",
       "      <td>MainScreenAppear</td>\n",
       "      <td>7416695313311560658</td>\n",
       "      <td>2019-07-25 11:11:42</td>\n",
       "      <td>246</td>\n",
       "      <td>2019-07-25 11:11:42</td>\n",
       "    </tr>\n",
       "    <tr>\n",
       "      <th>2</th>\n",
       "      <td>PaymentScreenSuccessful</td>\n",
       "      <td>3518123091307005509</td>\n",
       "      <td>2019-07-25 11:28:47</td>\n",
       "      <td>248</td>\n",
       "      <td>2019-07-25 11:28:47</td>\n",
       "    </tr>\n",
       "    <tr>\n",
       "      <th>3</th>\n",
       "      <td>CartScreenAppear</td>\n",
       "      <td>3518123091307005509</td>\n",
       "      <td>2019-07-25 11:28:47</td>\n",
       "      <td>248</td>\n",
       "      <td>2019-07-25 11:28:47</td>\n",
       "    </tr>\n",
       "    <tr>\n",
       "      <th>4</th>\n",
       "      <td>PaymentScreenSuccessful</td>\n",
       "      <td>6217807653094995999</td>\n",
       "      <td>2019-07-25 11:48:42</td>\n",
       "      <td>248</td>\n",
       "      <td>2019-07-25 11:48:42</td>\n",
       "    </tr>\n",
       "  </tbody>\n",
       "</table>\n",
       "</div>"
      ],
      "text/plain": [
       "                 eventname         deviceidhash      eventtimestamp  expid  \\\n",
       "0         MainScreenAppear  4575588528974610257 2019-07-25 04:43:36    246   \n",
       "1         MainScreenAppear  7416695313311560658 2019-07-25 11:11:42    246   \n",
       "2  PaymentScreenSuccessful  3518123091307005509 2019-07-25 11:28:47    248   \n",
       "3         CartScreenAppear  3518123091307005509 2019-07-25 11:28:47    248   \n",
       "4  PaymentScreenSuccessful  6217807653094995999 2019-07-25 11:48:42    248   \n",
       "\n",
       "             datetime  \n",
       "0 2019-07-25 04:43:36  \n",
       "1 2019-07-25 11:11:42  \n",
       "2 2019-07-25 11:28:47  \n",
       "3 2019-07-25 11:28:47  \n",
       "4 2019-07-25 11:48:42  "
      ]
     },
     "execution_count": 10,
     "metadata": {},
     "output_type": "execute_result"
    }
   ],
   "source": [
    "# Добавление столбца даты и времени (datetime)\n",
    "logs['datetime'] = pd.to_datetime(logs['eventtimestamp'], unit='s')\n",
    "logs.head()"
   ]
  },
  {
   "cell_type": "code",
   "execution_count": 11,
   "id": "83caf1e5",
   "metadata": {},
   "outputs": [
    {
     "name": "stdout",
     "output_type": "stream",
     "text": [
      "<class 'pandas.core.frame.DataFrame'>\n",
      "RangeIndex: 243713 entries, 0 to 243712\n",
      "Data columns (total 6 columns):\n",
      " #   Column          Non-Null Count   Dtype         \n",
      "---  ------          --------------   -----         \n",
      " 0   eventname       243713 non-null  object        \n",
      " 1   deviceidhash    243713 non-null  int64         \n",
      " 2   eventtimestamp  243713 non-null  datetime64[ns]\n",
      " 3   expid           243713 non-null  int64         \n",
      " 4   datetime        243713 non-null  datetime64[ns]\n",
      " 5   date            243713 non-null  datetime64[ns]\n",
      "dtypes: datetime64[ns](3), int64(2), object(1)\n",
      "memory usage: 11.2+ MB\n"
     ]
    }
   ],
   "source": [
    "# Добавление столбца даты (date)\n",
    "logs['date'] = logs['eventtimestamp'].dt.date\n",
    "logs['date'] = pd.to_datetime(logs['date']) # преобразование в datetime\n",
    "logs.head()\n",
    "logs.info()"
   ]
  },
  {
   "cell_type": "markdown",
   "id": "618ca2ce",
   "metadata": {},
   "source": [
    "**Выводы**\n",
    "\n",
    "- Дубликаты удалили. На памяти это не сильно отразилось.\n",
    "\n",
    "- Добавили столбцы даты и времени (datetime) и отдельно даты (date). При этом объем используемой памяти увеличился с 7.4+ MB до 11.2+ MB, что в общем-то логично."
   ]
  },
  {
   "cell_type": "code",
   "execution_count": 12,
   "id": "7bb3687c",
   "metadata": {},
   "outputs": [
    {
     "name": "stdout",
     "output_type": "stream",
     "text": [
      "<class 'pandas.core.frame.DataFrame'>\n",
      "RangeIndex: 243713 entries, 0 to 243712\n",
      "Data columns (total 6 columns):\n",
      " #   Column          Non-Null Count   Dtype         \n",
      "---  ------          --------------   -----         \n",
      " 0   eventname       243713 non-null  object        \n",
      " 1   deviceidhash    243713 non-null  int64         \n",
      " 2   eventtimestamp  243713 non-null  datetime64[ns]\n",
      " 3   expid           243713 non-null  int64         \n",
      " 4   datetime        243713 non-null  datetime64[ns]\n",
      " 5   date            243713 non-null  datetime64[ns]\n",
      "dtypes: datetime64[ns](3), int64(2), object(1)\n",
      "memory usage: 11.2+ MB\n"
     ]
    }
   ],
   "source": [
    "# проверяем не переместились ли пользователи из одной группы в другую. \n",
    "# Удаляем индексы deviceidhash. Смотрим группу 246 и 247, очищаем\n",
    "duplicates = logs.loc[logs['expid'] == '246','deviceidhash'].isin(logs.loc[logs['expid'] == '247','deviceidhash'])\n",
    "logs = logs.drop(duplicates[duplicates].index)\n",
    "logs.info()"
   ]
  },
  {
   "cell_type": "code",
   "execution_count": 13,
   "id": "bfbef252",
   "metadata": {},
   "outputs": [
    {
     "name": "stdout",
     "output_type": "stream",
     "text": [
      "Пересечения пользователей в разных группах не найдено\n"
     ]
    }
   ],
   "source": [
    "# Можно ещё так\n",
    "users_246 = set(logs[logs['expid'] == 246]['deviceidhash'].unique())\n",
    "users_247 = set(logs[logs['expid'] == 247]['deviceidhash'].unique())\n",
    "\n",
    "# Нахождение пересечения пользователей\n",
    "common_users = users_246.intersection(users_247)\n",
    "\n",
    "if len(common_users) == 0:\n",
    "    print('Пересечения пользователей в разных группах не найдено')\n",
    "else:\n",
    "    print(f'Найдено {len(common_users)} общих пользователей в разных группах')\n"
   ]
  },
  {
   "cell_type": "markdown",
   "id": "c5367a81",
   "metadata": {},
   "source": [
    "## 3. Изучение и проверка данных"
   ]
  },
  {
   "cell_type": "markdown",
   "id": "45eacde8",
   "metadata": {},
   "source": [
    "- Сколько всего событий в логе?\n",
    "- Сколько всего пользователей в логе?\n",
    "- Сколько в среднем событий приходится на пользователя?\n",
    "- Данными за какой период вы располагаете? Найдите максимальную и минимальную дату. Постройте гистограмму по дате и времени. Можно ли быть уверенным, что у вас одинаково полные данные за весь период? Технически в логи новых дней по некоторым пользователям могут «доезжать» события из прошлого — это может «перекашивать данные». Определите, с какого момента данные полные и отбросьте более старые. Данными за какой период времени вы располагаете на самом деле?\n",
    "- Много ли событий и пользователей вы потеряли, отбросив старые данные?\n",
    "- Проверьте, что у вас есть пользователи из всех трёх экспериментальных групп."
   ]
  },
  {
   "cell_type": "markdown",
   "id": "0d5359f6",
   "metadata": {},
   "source": [
    "### 3.1. Описание данных\n",
    "\n",
    "Каждая запись в логе — это действие пользователя, или событие.\n",
    "\n",
    "- _eventname_ — название события;\n",
    "- _deviceidhash_ — уникальный идентификатор пользователя;\n",
    "- _eventtimestamp_ — время события;\n",
    "- _expid_ — номер эксперимента: 246 и 247 — контрольные группы, а 248 — экспериментальная;\n",
    "- _datetime_ - дата в время событий;\n",
    "- _date_ - дата события."
   ]
  },
  {
   "cell_type": "code",
   "execution_count": 14,
   "id": "042e3faf",
   "metadata": {},
   "outputs": [
    {
     "name": "stdout",
     "output_type": "stream",
     "text": [
      "<class 'pandas.core.frame.DataFrame'>\n",
      "RangeIndex: 243713 entries, 0 to 243712\n",
      "Data columns (total 6 columns):\n",
      " #   Column          Non-Null Count   Dtype         \n",
      "---  ------          --------------   -----         \n",
      " 0   eventname       243713 non-null  object        \n",
      " 1   deviceidhash    243713 non-null  int64         \n",
      " 2   eventtimestamp  243713 non-null  datetime64[ns]\n",
      " 3   expid           243713 non-null  int64         \n",
      " 4   datetime        243713 non-null  datetime64[ns]\n",
      " 5   date            243713 non-null  datetime64[ns]\n",
      "dtypes: datetime64[ns](3), int64(2), object(1)\n",
      "memory usage: 11.2+ MB\n"
     ]
    }
   ],
   "source": [
    "logs.info()"
   ]
  },
  {
   "cell_type": "markdown",
   "id": "d6c2302d",
   "metadata": {},
   "source": [
    "### 3.2. Количество событий в логе"
   ]
  },
  {
   "cell_type": "code",
   "execution_count": 15,
   "id": "5225309d",
   "metadata": {},
   "outputs": [
    {
     "data": {
      "text/plain": [
       "243713"
      ]
     },
     "execution_count": 15,
     "metadata": {},
     "output_type": "execute_result"
    }
   ],
   "source": [
    "logs.shape[0]"
   ]
  },
  {
   "cell_type": "markdown",
   "id": "dda40df9",
   "metadata": {},
   "source": [
    "### 3.3. Количество пользователей в логе"
   ]
  },
  {
   "cell_type": "code",
   "execution_count": 16,
   "id": "37f8068b",
   "metadata": {},
   "outputs": [
    {
     "data": {
      "text/plain": [
       "7551"
      ]
     },
     "execution_count": 16,
     "metadata": {},
     "output_type": "execute_result"
    }
   ],
   "source": [
    "logs['deviceidhash'].nunique()"
   ]
  },
  {
   "cell_type": "markdown",
   "id": "409aa2ad",
   "metadata": {},
   "source": [
    "### 3.4. Количество событий на одного пользователя в среднем."
   ]
  },
  {
   "cell_type": "code",
   "execution_count": 17,
   "id": "1759273e",
   "metadata": {},
   "outputs": [
    {
     "data": {
      "text/plain": [
       "32.27559263673685"
      ]
     },
     "execution_count": 17,
     "metadata": {},
     "output_type": "execute_result"
    }
   ],
   "source": [
    "events_per_user = logs.shape[0] / logs['deviceidhash'].nunique()\n",
    "events_per_user"
   ]
  },
  {
   "cell_type": "code",
   "execution_count": 18,
   "id": "e5657e80",
   "metadata": {},
   "outputs": [
    {
     "data": {
      "image/png": "[encoded data removed]",
      "text/plain": [
       "<Figure size 432x288 with 1 Axes>"
      ]
     },
     "metadata": {
      "needs_background": "light"
     },
     "output_type": "display_data"
    }
   ],
   "source": [
    "# Группировка по пользователям и подсчет количества событий\n",
    "events_by_user = logs.groupby('deviceidhash', as_index=False).agg({'eventname': 'count'})\n",
    "\n",
    "# Построение гистограммы\n",
    "plt.hist(events_by_user['eventname'], bins=50)\n",
    "plt.title('Распределение количества событий по пользователям')\n",
    "plt.xlabel('Количество событий')\n",
    "plt.ylabel('Количество пользователей')\n",
    "plt.show()"
   ]
  },
  {
   "cell_type": "code",
   "execution_count": 55,
   "id": "bc16096f",
   "metadata": {},
   "outputs": [
    {
     "data": {
      "text/plain": [
       "deviceidhash    4.688022e+18\n",
       "eventname       2.000000e+01\n",
       "dtype: float64"
      ]
     },
     "execution_count": 55,
     "metadata": {},
     "output_type": "execute_result"
    }
   ],
   "source": [
    "events_by_user.median()"
   ]
  },
  {
   "cell_type": "markdown",
   "id": "7d679eea",
   "metadata": {},
   "source": [
    "**Выводы**:\n",
    " - В логе 243713 событий.\n",
    " - Количество уникальных пользователей 7551\n",
    " - В среднем приходится 32.27559263673685 на одного пользователя.Не смотря на это, по гистограмме видны аномально большое количество пользователей, кто сделал явно меньше 32 событий. \n",
    " - Гистограмма имеет большой хвост, что говорит о том, выбросы сильно влияют на среднее, значит в нашем случае медиана лучше характеризует поведение пользователей : это 2 события."
   ]
  },
  {
   "cell_type": "markdown",
   "id": "1ae025cf",
   "metadata": {},
   "source": [
    "### 3.5. Максимальная и минимальная дата.\n",
    "\n",
    "- Постройте гистограмму по дате и времени. Можно ли быть уверенным, что у вас одинаково полные данные за весь период? Технически в логи новых дней по некоторым пользователям могут «доезжать» события из прошлого — это может «перекашивать данные». \n",
    "- Определите, с какого момента данные полные и отбросьте более старые. Данными за какой период времени вы располагаете на самом деле?"
   ]
  },
  {
   "cell_type": "code",
   "execution_count": 20,
   "id": "7e7fc79c",
   "metadata": {},
   "outputs": [
    {
     "name": "stdout",
     "output_type": "stream",
     "text": [
      "Минимальная дата: 2019-07-25 00:00:00\n",
      "Максимальная дата: 2019-08-07 00:00:00\n"
     ]
    }
   ],
   "source": [
    "print('Минимальная дата:', logs['date'].min())\n",
    "print('Максимальная дата:', logs['date'].max())"
   ]
  },
  {
   "cell_type": "markdown",
   "id": "c568c2f2",
   "metadata": {},
   "source": [
    " - Мы располагаем даннами с 25 июля 2019 года по 7 августа 2019 года"
   ]
  },
  {
   "cell_type": "code",
   "execution_count": 21,
   "id": "808d78f9",
   "metadata": {},
   "outputs": [
    {
     "data": {
      "image/png": "[encoded data removed]",
      "text/plain": [
       "<Figure size 432x288 with 1 Axes>"
      ]
     },
     "metadata": {
      "needs_background": "light"
     },
     "output_type": "display_data"
    }
   ],
   "source": [
    "logs['datetime'].hist(bins=14*24)\n",
    "plt.xlabel('Дата и время')\n",
    "plt.ylabel('Количество событий')\n",
    "plt.xticks(rotation = 90) # поворот надписей оси Х на 90 градусов\n",
    "plt.title(\"Гистограмма по дате и времени\")\n",
    "plt.show()"
   ]
  },
  {
   "cell_type": "markdown",
   "id": "221d014e",
   "metadata": {},
   "source": [
    "**Выводы**:\n",
    "- Нельзя сказать с уверенностю, что у нас одинаково полные данные за весь период. Технически в логи новых дней по некоторым пользователям могут «доезжать» события из прошлого — это может «перекашивать данные». \n",
    "- Судя по гистограмме, у нас есть полные данные с 1 по 8 августа включительно.\n",
    "- Тест был запущен 1-го августа, а предыдущие события - это старые логи, которые \"доехали\" в выборку"
   ]
  },
  {
   "cell_type": "markdown",
   "id": "da9c8c13",
   "metadata": {},
   "source": [
    "### 3.6. Срез данных до 1 августа"
   ]
  },
  {
   "cell_type": "code",
   "execution_count": 56,
   "id": "85d93870",
   "metadata": {},
   "outputs": [
    {
     "data": {
      "text/plain": [
       "2826    246\n",
       "2827    246\n",
       "2828    246\n",
       "2829    246\n",
       "2830    247\n",
       "Name: expid, dtype: int64"
      ]
     },
     "execution_count": 56,
     "metadata": {},
     "output_type": "execute_result"
    }
   ],
   "source": [
    "# Установка определенной даты\n",
    "cutoff_date = '2019-08-01'\n",
    "\n",
    "# Создание нового датафрейма с данными, датированными после определенной даты\n",
    "logs_filtered = logs[logs['datetime'] >= cutoff_date]\n",
    "\n",
    "# Вывод первых строк нового датафрейма для проверки\n",
    "logs_filtered.head()\n",
    "logs_filtered['expid'].head(5) # проверка  пользов. эксперементальных групп"
   ]
  },
  {
   "cell_type": "code",
   "execution_count": 23,
   "id": "0ee3ba69",
   "metadata": {},
   "outputs": [
    {
     "name": "stdout",
     "output_type": "stream",
     "text": [
      "Минимальная дата: 2019-08-01 00:07:28\n",
      "Максимальная дата: 2019-08-07 21:15:17\n"
     ]
    }
   ],
   "source": [
    "print('Минимальная дата:', logs_filtered['datetime'].min())\n",
    "print('Максимальная дата:', logs_filtered['datetime'].max())"
   ]
  },
  {
   "cell_type": "code",
   "execution_count": 24,
   "id": "abd651c7",
   "metadata": {},
   "outputs": [
    {
     "data": {
      "image/png": "[encoded data removed]",
      "text/plain": [
       "<Figure size 432x288 with 1 Axes>"
      ]
     },
     "metadata": {
      "needs_background": "light"
     },
     "output_type": "display_data"
    }
   ],
   "source": [
    "#Проверка правильности фильтрации\n",
    "logs_filtered['datetime'].hist(bins=100)\n",
    "plt.xlabel('Дата и время')\n",
    "plt.ylabel('Количество событий')\n",
    "plt.xticks(rotation = 90) # поворот надписей оси Х на 90 градусов\n",
    "plt.title(\"Гистограмма по дате и времени\")\n",
    "plt.show()"
   ]
  },
  {
   "cell_type": "code",
   "execution_count": 65,
   "id": "e611f87a",
   "metadata": {},
   "outputs": [
    {
     "name": "stdout",
     "output_type": "stream",
     "text": [
      "Потеряно 2826 событий (1.16%)\n",
      "Потеряно 17 пользователей (0.23%)\n"
     ]
    }
   ],
   "source": [
    "# Рассчет количества событий и пользователей до удаления значений\n",
    "events_before = len(logs)\n",
    "users_before = len(logs_filtered['deviceidhash'].unique())\n",
    "\n",
    "# Рассчет количества событий и пользователей после удаления значений\n",
    "events_after = len(logs_filtered)\n",
    "users_after = len(logs['deviceidhash'].unique())\n",
    "\n",
    "# Рассчет потерянных событий и пользователей в абсолютных значениях\n",
    "events_lost = events_before - events_after\n",
    "users_lost = users_after - users_before \n",
    "\n",
    "# Рассчет потерянных событий и пользователей в относительных значениях\n",
    "events_lost_percent = events_lost / events_before * 100\n",
    "users_lost_percent = users_lost / users_before * 100\n",
    "\n",
    "# Вывод результатов\n",
    "print(f'Потеряно {events_lost} событий ({events_lost_percent:.2f}%)')\n",
    "print(f'Потеряно {users_lost} пользователей ({users_lost_percent:.2f}%)')"
   ]
  },
  {
   "cell_type": "code",
   "execution_count": 27,
   "id": "19171797",
   "metadata": {},
   "outputs": [
    {
     "name": "stdout",
     "output_type": "stream",
     "text": [
      "<class 'pandas.core.frame.DataFrame'>\n",
      "Int64Index: 240887 entries, 2826 to 243712\n",
      "Data columns (total 6 columns):\n",
      " #   Column          Non-Null Count   Dtype         \n",
      "---  ------          --------------   -----         \n",
      " 0   eventname       240887 non-null  object        \n",
      " 1   deviceidhash    240887 non-null  int64         \n",
      " 2   eventtimestamp  240887 non-null  datetime64[ns]\n",
      " 3   expid           240887 non-null  int64         \n",
      " 4   datetime        240887 non-null  datetime64[ns]\n",
      " 5   date            240887 non-null  datetime64[ns]\n",
      "dtypes: datetime64[ns](3), int64(2), object(1)\n",
      "memory usage: 12.9+ MB\n"
     ]
    }
   ],
   "source": [
    "logs_filtered.info()"
   ]
  },
  {
   "cell_type": "markdown",
   "id": "3f997ec2",
   "metadata": {},
   "source": [
    "**Выводы**:\n",
    "\n",
    "- Мы нашли количество событий в логе, количество уникальных пользователей. \n",
    "- Определили максимальную и минимальную даты.\n",
    "- Отбросили данные до 1 августа.\n",
    "- Потеряли 17 пользователей, что составляет меньше 1%.\n",
    "- При этом объем используемой памяти вырос с 11,2+ МБ до 12.9+ MБ"
   ]
  },
  {
   "cell_type": "markdown",
   "id": "9af5d76a",
   "metadata": {},
   "source": [
    "## 4. Изучение воронки событий."
   ]
  },
  {
   "cell_type": "markdown",
   "id": "adf0d270",
   "metadata": {},
   "source": [
    "- Какие события есть в логах, как часто они встречаются.\n",
    "- Сколько пользователей совершали каждое из этих событий? Какая доля пользователей хоть раз совершала событие?\n",
    "- Какой порядок  событий? Все ли они выстраиваются в последовательную цепочку?\n",
    "- По воронке событий определить, какая доля пользователей проходит на следующий шаг воронки (от числа пользователей на предыдущем). То есть для последовательности событий A → B → C посчитайте отношение числа пользователей с событием B к количеству пользователей с событием A, а также отношение числа пользователей с событием C к количеству пользователей с событием B.\n",
    "- На каком шаге теряете больше всего пользователей?\n",
    "- Какая доля пользователей доходит от первого события до оплаты?"
   ]
  },
  {
   "cell_type": "markdown",
   "id": "27e732ea",
   "metadata": {},
   "source": [
    "### 4.1. Какие события есть в логах, как часто они встречаются?"
   ]
  },
  {
   "cell_type": "markdown",
   "id": "f0e2ed08",
   "metadata": {},
   "source": [
    "### 4.1.1. Описание данных\n",
    "\n",
    "Каждая запись в логе — это действие пользователя, или событие.\n",
    "\n",
    "- _eventname_ — название события;\n",
    "- _deviceidhash_ — уникальный идентификатор пользователя;\n",
    "- _eventtimestamp_ — время события;\n",
    "- _expid_ — номер эксперимента: 246 и 247 — контрольные группы, а 248 — экспериментальная;\n",
    "- _datetime_ - дата в время событий;\n",
    "- _date_ - дата события."
   ]
  },
  {
   "cell_type": "code",
   "execution_count": 28,
   "id": "187348bf",
   "metadata": {},
   "outputs": [
    {
     "data": {
      "text/plain": [
       "MainScreenAppear           117328\n",
       "OffersScreenAppear          46333\n",
       "CartScreenAppear            42303\n",
       "PaymentScreenSuccessful     33918\n",
       "Tutorial                     1005\n",
       "Name: eventname, dtype: int64"
      ]
     },
     "execution_count": 28,
     "metadata": {},
     "output_type": "execute_result"
    }
   ],
   "source": [
    "# Подсчет количества каждого события\n",
    "event_counts = logs_filtered['eventname'].value_counts().sort_values(ascending=False)\n",
    "\n",
    "# Вывод результата\n",
    "event_counts"
   ]
  },
  {
   "cell_type": "markdown",
   "id": "f798d3e5",
   "metadata": {},
   "source": [
    "**Вывод:**\n",
    "\n",
    "\n",
    "- MainScreenAppear           _117328 главный экран_\n",
    "- OffersScreenAppear          _46333 экран предложений_ \n",
    "- CartScreenAppear            _42303 экран корзины_\n",
    "- PaymentScreenSuccessful     _33918 экран оплаты прошел успешно_ \n",
    "- Tutorial                     _1005 Учебное пособие_\n",
    "\n",
    "\n",
    "\n",
    "\n",
    "- Видно, что количество каждого события уменьшается от шага к шагу. Посчитаем, сколько пользователей совершали каждое из этих событий."
   ]
  },
  {
   "cell_type": "markdown",
   "id": "6e73208c",
   "metadata": {},
   "source": [
    "### 4.2. Подсчет пользователей, которые совершали каждое из этих событий."
   ]
  },
  {
   "cell_type": "code",
   "execution_count": 29,
   "id": "5f90bc21",
   "metadata": {},
   "outputs": [
    {
     "data": {
      "text/plain": [
       "eventname\n",
       "MainScreenAppear           7419\n",
       "OffersScreenAppear         4593\n",
       "CartScreenAppear           3734\n",
       "PaymentScreenSuccessful    3539\n",
       "Tutorial                    840\n",
       "Name: deviceidhash, dtype: int64"
      ]
     },
     "execution_count": 29,
     "metadata": {},
     "output_type": "execute_result"
    }
   ],
   "source": [
    "# Подсчет количества уникальных пользователей для каждого события\n",
    "users_per_event = logs_filtered.groupby('eventname')['deviceidhash'].nunique().sort_values(ascending=False)\n",
    "\n",
    "# Вывод результата\n",
    "users_per_event"
   ]
  },
  {
   "cell_type": "code",
   "execution_count": 30,
   "id": "4eaed457",
   "metadata": {},
   "outputs": [
    {
     "data": {
      "text/plain": [
       "eventname\n",
       "MainScreenAppear           98.47\n",
       "OffersScreenAppear         60.96\n",
       "CartScreenAppear           49.56\n",
       "PaymentScreenSuccessful    46.97\n",
       "Tutorial                   11.15\n",
       "Name: deviceidhash, dtype: float64"
      ]
     },
     "execution_count": 30,
     "metadata": {},
     "output_type": "execute_result"
    }
   ],
   "source": [
    "# Подсчет доли пользователей, которые хоть раз совершали событие\n",
    "total_users = logs_filtered['deviceidhash'].nunique()\n",
    "user_ratio_per_event = (users_per_event / total_users * 100).round (2)\n",
    "\n",
    "# Вывод результата\n",
    "user_ratio_per_event"
   ]
  },
  {
   "cell_type": "markdown",
   "id": "df331f77",
   "metadata": {},
   "source": [
    "### 4.3. Порядок событий."
   ]
  },
  {
   "cell_type": "markdown",
   "id": "eb9feb2c",
   "metadata": {},
   "source": [
    "Главный экран ``>>>`` экран предложений ``>>>`` экран корзины ``>>>`` экран успешной оплаты ``>>>`` обучение\n",
    "\n",
    "- Складывается впечатление, что какое-то звено цепочки пропущено. Может быть авторизация."
   ]
  },
  {
   "cell_type": "code",
   "execution_count": 31,
   "id": "51780527",
   "metadata": {},
   "outputs": [
    {
     "data": {
      "text/plain": [
       "2826              Tutorial\n",
       "2827      MainScreenAppear\n",
       "2828      MainScreenAppear\n",
       "2829    OffersScreenAppear\n",
       "2830      MainScreenAppear\n",
       "Name: eventname, dtype: object"
      ]
     },
     "execution_count": 31,
     "metadata": {},
     "output_type": "execute_result"
    }
   ],
   "source": [
    "logs_filtered['eventname'].head()"
   ]
  },
  {
   "cell_type": "code",
   "execution_count": 58,
   "id": "2f0f48a7",
   "metadata": {},
   "outputs": [
    {
     "data": {
      "text/html": [
       "<div>\n",
       "<style scoped>\n",
       "    .dataframe tbody tr th:only-of-type {\n",
       "        vertical-align: middle;\n",
       "    }\n",
       "\n",
       "    .dataframe tbody tr th {\n",
       "        vertical-align: top;\n",
       "    }\n",
       "\n",
       "    .dataframe thead th {\n",
       "        text-align: right;\n",
       "    }\n",
       "</style>\n",
       "<table border=\"1\" class=\"dataframe\">\n",
       "  <thead>\n",
       "    <tr style=\"text-align: right;\">\n",
       "      <th></th>\n",
       "      <th>deviceidhash</th>\n",
       "    </tr>\n",
       "    <tr>\n",
       "      <th>eventname</th>\n",
       "      <th></th>\n",
       "    </tr>\n",
       "  </thead>\n",
       "  <tbody>\n",
       "    <tr>\n",
       "      <th>MainScreenAppear</th>\n",
       "      <td>7419</td>\n",
       "    </tr>\n",
       "    <tr>\n",
       "      <th>OffersScreenAppear</th>\n",
       "      <td>4593</td>\n",
       "    </tr>\n",
       "    <tr>\n",
       "      <th>CartScreenAppear</th>\n",
       "      <td>3734</td>\n",
       "    </tr>\n",
       "    <tr>\n",
       "      <th>PaymentScreenSuccessful</th>\n",
       "      <td>3539</td>\n",
       "    </tr>\n",
       "    <tr>\n",
       "      <th>Tutorial</th>\n",
       "      <td>840</td>\n",
       "    </tr>\n",
       "  </tbody>\n",
       "</table>\n",
       "</div>"
      ],
      "text/plain": [
       "                         deviceidhash\n",
       "eventname                            \n",
       "MainScreenAppear                 7419\n",
       "OffersScreenAppear               4593\n",
       "CartScreenAppear                 3734\n",
       "PaymentScreenSuccessful          3539\n",
       "Tutorial                          840"
      ]
     },
     "execution_count": 58,
     "metadata": {},
     "output_type": "execute_result"
    }
   ],
   "source": [
    "users_count = logs_filtered.groupby('eventname')\\\n",
    ".agg({'deviceidhash': 'nunique'}).sort_values(by='deviceidhash', ascending=False)\n",
    "\n",
    "\n",
    "users_count"
   ]
  },
  {
   "cell_type": "code",
   "execution_count": 33,
   "id": "0995a8bc",
   "metadata": {},
   "outputs": [
    {
     "data": {
      "text/html": [
       "<div>\n",
       "<style scoped>\n",
       "    .dataframe tbody tr th:only-of-type {\n",
       "        vertical-align: middle;\n",
       "    }\n",
       "\n",
       "    .dataframe tbody tr th {\n",
       "        vertical-align: top;\n",
       "    }\n",
       "\n",
       "    .dataframe thead th {\n",
       "        text-align: right;\n",
       "    }\n",
       "</style>\n",
       "<table border=\"1\" class=\"dataframe\">\n",
       "  <thead>\n",
       "    <tr style=\"text-align: right;\">\n",
       "      <th></th>\n",
       "      <th>conversion, %</th>\n",
       "    </tr>\n",
       "  </thead>\n",
       "  <tbody>\n",
       "    <tr>\n",
       "      <th>MainScreenAppear &gt; OffersScreenAppear</th>\n",
       "      <td>61.908613</td>\n",
       "    </tr>\n",
       "    <tr>\n",
       "      <th>OffersScreenAppear &gt; CartScreenAppear</th>\n",
       "      <td>81.297627</td>\n",
       "    </tr>\n",
       "    <tr>\n",
       "      <th>CartScreenAppear &gt; PaymentScreenSuccessful</th>\n",
       "      <td>94.777718</td>\n",
       "    </tr>\n",
       "    <tr>\n",
       "      <th>PaymentScreenSuccessful &gt; Tutorial</th>\n",
       "      <td>23.735519</td>\n",
       "    </tr>\n",
       "  </tbody>\n",
       "</table>\n",
       "</div>"
      ],
      "text/plain": [
       "                                            conversion, %\n",
       "MainScreenAppear > OffersScreenAppear           61.908613\n",
       "OffersScreenAppear > CartScreenAppear           81.297627\n",
       "CartScreenAppear > PaymentScreenSuccessful      94.777718\n",
       "PaymentScreenSuccessful > Tutorial              23.735519"
      ]
     },
     "execution_count": 33,
     "metadata": {},
     "output_type": "execute_result"
    }
   ],
   "source": [
    "# Подсчет количества уникальных пользователей для каждого события\n",
    "users_per_event = logs_filtered.groupby('eventname')['deviceidhash'].nunique()\n",
    "# Расчет долей пользователей, переходящих с одного шага воронки на следующий\n",
    "# Подсчет количества пользователей на каждом шаге воронки\n",
    "funnel = {\n",
    "    #'MainScreenAppear': users_per_event['MainScreenAppear'],\n",
    "    'MainScreenAppear > OffersScreenAppear': users_per_event['OffersScreenAppear'] / users_per_event['MainScreenAppear'] * 100,\n",
    "    'OffersScreenAppear > CartScreenAppear': users_per_event['CartScreenAppear'] / users_per_event['OffersScreenAppear'] * 100,\n",
    "    'CartScreenAppear > PaymentScreenSuccessful': users_per_event['PaymentScreenSuccessful'] / users_per_event['CartScreenAppear'] * 100,\n",
    "    'PaymentScreenSuccessful > Tutorial': users_per_event['Tutorial'] / users_per_event['PaymentScreenSuccessful'] * 100\n",
    "     }\n",
    "\n",
    "# Вывод результата\n",
    "pd.DataFrame.from_dict(funnel, orient='index', columns=['conversion, %'])"
   ]
  },
  {
   "cell_type": "markdown",
   "id": "d214d526",
   "metadata": {},
   "source": [
    "**Вывод:** \n",
    "\n",
    "- Здесь получился верный результат, но расчеты следует оптимизировать."
   ]
  },
  {
   "cell_type": "code",
   "execution_count": 34,
   "id": "c29f0d6c",
   "metadata": {},
   "outputs": [
    {
     "name": "stdout",
     "output_type": "stream",
     "text": [
      "Конверсия события OffersScreenAppear: 61.91%\n",
      "Конверсия события CartScreenAppear: 81.30%\n",
      "Конверсия события PaymentScreenSuccessful: 94.78%\n"
     ]
    }
   ],
   "source": [
    "# Создание списка событий без Tutorial\n",
    "event_list = ['MainScreenAppear', 'OffersScreenAppear', 'CartScreenAppear', 'PaymentScreenSuccessful']\n",
    "\n",
    "# Группировка данных по столбцу eventname\n",
    "grouped = logs_filtered.groupby('eventname')\n",
    "\n",
    "# Подсчет количества уникальных пользователей для каждого события\n",
    "event_counts = grouped.agg({'deviceidhash': 'nunique'})\n",
    "\n",
    "# Смещение shift()\n",
    "event_counts_shifted = event_counts['deviceidhash'].shift(0)\n",
    "\n",
    "# Создание словаря для хранения результатов\n",
    "conversion_dict = {}\n",
    "\n",
    "# Обход списка событий и рассчет конверсии для каждого события\n",
    "for i in range(1, len(event_list)):\n",
    "    event_name = event_list[i]\n",
    "    prev_event_name = event_list[i-1]\n",
    "    event_users = event_counts.loc[event_name, 'deviceidhash']\n",
    "    prev_event_users = event_counts_shifted.loc[prev_event_name]\n",
    "    conversion = event_users / prev_event_users * 100\n",
    "    conversion_dict[event_name] = conversion\n",
    "\n",
    "# Вывод результатов\n",
    "for event_name, conversion in conversion_dict.items():\n",
    "    print(f'Конверсия события {event_name}: {conversion:.2f}%')"
   ]
  },
  {
   "cell_type": "code",
   "execution_count": 35,
   "id": "2ec501df",
   "metadata": {},
   "outputs": [
    {
     "data": {
      "text/html": [
       "<div>\n",
       "<style scoped>\n",
       "    .dataframe tbody tr th:only-of-type {\n",
       "        vertical-align: middle;\n",
       "    }\n",
       "\n",
       "    .dataframe tbody tr th {\n",
       "        vertical-align: top;\n",
       "    }\n",
       "\n",
       "    .dataframe thead th {\n",
       "        text-align: right;\n",
       "    }\n",
       "</style>\n",
       "<table border=\"1\" class=\"dataframe\">\n",
       "  <thead>\n",
       "    <tr style=\"text-align: right;\">\n",
       "      <th></th>\n",
       "      <th>сonversion, %</th>\n",
       "    </tr>\n",
       "  </thead>\n",
       "  <tbody>\n",
       "    <tr>\n",
       "      <th>MainScreenAppear &gt; PaymentScreenSuccessful</th>\n",
       "      <td>47.701847</td>\n",
       "    </tr>\n",
       "  </tbody>\n",
       "</table>\n",
       "</div>"
      ],
      "text/plain": [
       "                                            сonversion, %\n",
       "MainScreenAppear > PaymentScreenSuccessful      47.701847"
      ]
     },
     "execution_count": 35,
     "metadata": {},
     "output_type": "execute_result"
    }
   ],
   "source": [
    "# Подсчет количества уникальных пользователей для каждого события\n",
    "users_per_event = logs_filtered.groupby('eventname')['deviceidhash'].nunique()\n",
    "# Доля пользователей от первого события до оплаты\n",
    "funnel = {\n",
    "     'MainScreenAppear > PaymentScreenSuccessful': users_per_event['PaymentScreenSuccessful'] / users_per_event['MainScreenAppear'] * 100\n",
    "}\n",
    "\n",
    "# Вывод результата\n",
    "pd.DataFrame.from_dict(funnel, orient='index', columns=['сonversion, %'])"
   ]
  },
  {
   "cell_type": "markdown",
   "id": "104d66ef",
   "metadata": {},
   "source": [
    "**Выводы**:\n",
    "\n",
    "- Теперь видно, сколько человек дошли до каждого этапа продуктовой воронки. Примерно 62% зашедших на сайт пользователей перешли на экран предложений. Из них, 81 % перешли на экран корзины, далее на экран успешной оплаты дошло 94 %, а до обучения дошло лишь 23% с прошлого шага.\n",
    "- На первом шаге с главного экрана потерялось 38 % пользователей, если брать тех, кто зашел в приложение по продуктам питания как 100%.\n",
    "- Из расчетов убрали `Tutorial` навряд ли пользователям, которые заказывают продукты питания проходить обучение в мобильном приложении. Так же, возможно обучение можно проходить на разных шагах, а не обязательно после оплаты.\n",
    "- От первого события до оплаты доходит меньше половины пользователей - 47 %."
   ]
  },
  {
   "cell_type": "markdown",
   "id": "57eaa6db",
   "metadata": {},
   "source": [
    "## 5. Изучение результатов эксперимента."
   ]
  },
  {
   "cell_type": "markdown",
   "id": "fe1c225b",
   "metadata": {},
   "source": [
    "- Сколько пользователей в каждой экспериментальной группе?\n",
    "- Есть 2 контрольные группы для А/А-эксперимента, чтобы проверить корректность всех механизмов и расчётов. Проверьте, находят ли статистические критерии разницу между выборками 246 и 247.\n",
    "- Выберите самое популярное событие. Посчитайте число пользователей, совершивших это событие в каждой из контрольных групп. Посчитайте долю пользователей, совершивших это событие. Проверьте, будет ли отличие между группами статистически достоверным. Проделайте то же самое для всех других событий (удобно обернуть проверку в отдельную функцию). Можно ли сказать, что разбиение на группы работает корректно?\n",
    "- Аналогично поступите с группой с изменённым шрифтом. Сравните результаты с каждой из контрольных групп в отдельности по каждому событию. Сравните результаты с объединённой контрольной группой. Какие выводы из эксперимента можно сделать?\n",
    "- Какой уровень значимости вы выбрали при проверке статистических гипотез выше? Посчитайте, сколько проверок статистических гипотез вы сделали. При уровне значимости 0.1 каждый десятый раз можно получать ложный результат. Какой уровень значимости стоит применить? Если вы хотите изменить его, проделайте предыдущие пункты и проверьте свои выводы."
   ]
  },
  {
   "cell_type": "markdown",
   "id": "4fe3dd91",
   "metadata": {},
   "source": [
    "### 5.1. Описание данных\n",
    "\n",
    "Каждая запись в логе — это действие пользователя, или событие.\n",
    "\n",
    "- _eventname_ — название события;\n",
    "- _deviceidhash_ — уникальный идентификатор пользователя;\n",
    "- _eventtimestamp_ — время события;\n",
    "- _expid_ — номер эксперимента: 246 и 247 — контрольные группы, а 248 — экспериментальная;\n",
    "- _datetime_ - дата в время событий;\n",
    "- _date_ - дата события."
   ]
  },
  {
   "cell_type": "markdown",
   "id": "26586e39",
   "metadata": {},
   "source": [
    "### 5.2. Количество пользователей в каждой экспериментальной группе."
   ]
  },
  {
   "cell_type": "code",
   "execution_count": 36,
   "id": "f844a985",
   "metadata": {},
   "outputs": [
    {
     "data": {
      "text/plain": [
       "expid\n",
       "246    2484\n",
       "247    2513\n",
       "248    2537\n",
       "Name: deviceidhash, dtype: int64"
      ]
     },
     "execution_count": 36,
     "metadata": {},
     "output_type": "execute_result"
    }
   ],
   "source": [
    "# Подсчет количества уникальных пользователей в каждой экспериментальной группе\n",
    "users_per_exp = logs_filtered.groupby('expid')['deviceidhash'].nunique()\n",
    "\n",
    "# Вывод результата\n",
    "users_per_exp"
   ]
  },
  {
   "cell_type": "code",
   "execution_count": 64,
   "id": "fbda3cda",
   "metadata": {},
   "outputs": [
    {
     "data": {
      "text/html": [
       "<div>\n",
       "<style scoped>\n",
       "    .dataframe tbody tr th:only-of-type {\n",
       "        vertical-align: middle;\n",
       "    }\n",
       "\n",
       "    .dataframe tbody tr th {\n",
       "        vertical-align: top;\n",
       "    }\n",
       "\n",
       "    .dataframe thead th {\n",
       "        text-align: right;\n",
       "    }\n",
       "</style>\n",
       "<table border=\"1\" class=\"dataframe\">\n",
       "  <thead>\n",
       "    <tr style=\"text-align: right;\">\n",
       "      <th>expid</th>\n",
       "      <th>246</th>\n",
       "      <th>247</th>\n",
       "      <th>248</th>\n",
       "    </tr>\n",
       "    <tr>\n",
       "      <th>eventname</th>\n",
       "      <th></th>\n",
       "      <th></th>\n",
       "      <th></th>\n",
       "    </tr>\n",
       "  </thead>\n",
       "  <tbody>\n",
       "    <tr>\n",
       "      <th>CartScreenAppear</th>\n",
       "      <td>1266</td>\n",
       "      <td>1238</td>\n",
       "      <td>1230</td>\n",
       "    </tr>\n",
       "    <tr>\n",
       "      <th>MainScreenAppear</th>\n",
       "      <td>2450</td>\n",
       "      <td>2476</td>\n",
       "      <td>2493</td>\n",
       "    </tr>\n",
       "    <tr>\n",
       "      <th>OffersScreenAppear</th>\n",
       "      <td>1542</td>\n",
       "      <td>1520</td>\n",
       "      <td>1531</td>\n",
       "    </tr>\n",
       "    <tr>\n",
       "      <th>PaymentScreenSuccessful</th>\n",
       "      <td>1200</td>\n",
       "      <td>1158</td>\n",
       "      <td>1181</td>\n",
       "    </tr>\n",
       "  </tbody>\n",
       "</table>\n",
       "</div>"
      ],
      "text/plain": [
       "expid                     246   247   248\n",
       "eventname                                \n",
       "CartScreenAppear         1266  1238  1230\n",
       "MainScreenAppear         2450  2476  2493\n",
       "OffersScreenAppear       1542  1520  1531\n",
       "PaymentScreenSuccessful  1200  1158  1181"
      ]
     },
     "execution_count": 64,
     "metadata": {},
     "output_type": "execute_result"
    }
   ],
   "source": [
    "# Создание сводной таблицы без Tutorial\n",
    "pivot_table = logs_filtered[logs_filtered['eventname'] != 'Tutorial'].pivot_table(index='expid',\n",
    "                                                                                  columns='eventname',\n",
    "                                                                                  values='deviceidhash',\n",
    "                                                                                  aggfunc='nunique')\n",
    "\n",
    "# Вывод транспонированной таблицы\n",
    "pivot_table.T"
   ]
  },
  {
   "cell_type": "code",
   "execution_count": 41,
   "id": "7d3922b3",
   "metadata": {},
   "outputs": [
    {
     "data": {
      "text/html": [
       "<div>\n",
       "<style scoped>\n",
       "    .dataframe tbody tr th:only-of-type {\n",
       "        vertical-align: middle;\n",
       "    }\n",
       "\n",
       "    .dataframe tbody tr th {\n",
       "        vertical-align: top;\n",
       "    }\n",
       "\n",
       "    .dataframe thead th {\n",
       "        text-align: right;\n",
       "    }\n",
       "</style>\n",
       "<table border=\"1\" class=\"dataframe\">\n",
       "  <thead>\n",
       "    <tr style=\"text-align: right;\">\n",
       "      <th>eventname</th>\n",
       "      <th>CartScreenAppear</th>\n",
       "      <th>MainScreenAppear</th>\n",
       "      <th>OffersScreenAppear</th>\n",
       "      <th>PaymentScreenSuccessful</th>\n",
       "      <th>Tutorial</th>\n",
       "      <th>Total</th>\n",
       "    </tr>\n",
       "    <tr>\n",
       "      <th>expid</th>\n",
       "      <th></th>\n",
       "      <th></th>\n",
       "      <th></th>\n",
       "      <th></th>\n",
       "      <th></th>\n",
       "      <th></th>\n",
       "    </tr>\n",
       "  </thead>\n",
       "  <tbody>\n",
       "    <tr>\n",
       "      <th>246</th>\n",
       "      <td>1266</td>\n",
       "      <td>2450</td>\n",
       "      <td>1542</td>\n",
       "      <td>1200</td>\n",
       "      <td>278</td>\n",
       "      <td>2484</td>\n",
       "    </tr>\n",
       "    <tr>\n",
       "      <th>247</th>\n",
       "      <td>1238</td>\n",
       "      <td>2476</td>\n",
       "      <td>1520</td>\n",
       "      <td>1158</td>\n",
       "      <td>283</td>\n",
       "      <td>2513</td>\n",
       "    </tr>\n",
       "    <tr>\n",
       "      <th>248</th>\n",
       "      <td>1230</td>\n",
       "      <td>2493</td>\n",
       "      <td>1531</td>\n",
       "      <td>1181</td>\n",
       "      <td>279</td>\n",
       "      <td>2537</td>\n",
       "    </tr>\n",
       "  </tbody>\n",
       "</table>\n",
       "</div>"
      ],
      "text/plain": [
       "eventname  CartScreenAppear  MainScreenAppear  OffersScreenAppear  \\\n",
       "expid                                                               \n",
       "246                    1266              2450                1542   \n",
       "247                    1238              2476                1520   \n",
       "248                    1230              2493                1531   \n",
       "\n",
       "eventname  PaymentScreenSuccessful  Tutorial  Total  \n",
       "expid                                                \n",
       "246                           1200       278   2484  \n",
       "247                           1158       283   2513  \n",
       "248                           1181       279   2537  "
      ]
     },
     "execution_count": 41,
     "metadata": {},
     "output_type": "execute_result"
    }
   ],
   "source": [
    "# Создание датафрейма\n",
    "group_count = logs_filtered.pivot_table(index = 'expid', columns = 'eventname', values = 'deviceidhash', aggfunc = 'nunique')\n",
    "# добавление в датайфрейм столбца с общим кол-ом пользователей по группе\n",
    "group_count['Total'] = logs_filtered.groupby('expid')['deviceidhash'].nunique()\n",
    "# group_count['sum_246_247'] = logs_filtered.query('logs_filtered[\"'expid'== '246', '247'\")['event'].sum()\n",
    "group_count"
   ]
  },
  {
   "cell_type": "code",
   "execution_count": 42,
   "id": "2f35fcf5",
   "metadata": {},
   "outputs": [],
   "source": [
    "#В z тесте P-это доли, которые считаются по переменным sussesses и trials\n",
    "# Первая переменная это фильтр лога по группе, шагу воронки и подсчету уникальных пользователей (сделано выше).\n",
    "# Вторая переменная фильтр только по группе.\n",
    "# sussesses - колич. пользователей в событии.\n",
    "# trials - колич. событий всего.\n",
    "# Функция для проведения теста с использованием z-критерия:\n",
    "def proverka(successes1, successes2, trials1, trials2, alpha=0.05): #задаем\n",
    "    # пропорция успехов в первой группе:\n",
    "    p1 = successes1/trials1\n",
    " \n",
    "    # пропорция успехов во второй группе:\n",
    "    p2 = successes2/trials2\n",
    " \n",
    "    # пропорция успехов в комбинированном датасете:\n",
    "    p_combined = (successes1 + successes2) / (trials1 + trials2)\n",
    " \n",
    "    # разница пропорций в датасетах\n",
    "    difference = p1 - p2\n",
    "    \n",
    "    # считаем статистику в ст.отклонениях стандартного нормального распределения\n",
    "    z_value = difference / np.sqrt(p_combined * (1 - p_combined) * (1/trials1 + 1/trials2))\n",
    " \n",
    "    # задаем стандартное нормальное распределение (среднее 0, ст.отклонение 1)\n",
    "    distr = stats.norm(0, 1) \n",
    " \n",
    "    p_value = (1 - distr.cdf(abs(z_value))) * 2\n",
    " \n",
    "    print('p-значение: ', p_value)\n",
    "    print('уровень значимости: ', alpha)\n",
    " \n",
    "    if (p_value < alpha): print(\"Отвергаем нулевую гипотезу: между долями есть значимая разница\")\n",
    "    else: print(\"Не получилось отвергнуть нулевую гипотезу, нет оснований считать доли разными\")  \n",
    "        \n",
    "    print()"
   ]
  },
  {
   "cell_type": "code",
   "execution_count": 43,
   "id": "9a427a5d",
   "metadata": {},
   "outputs": [
    {
     "name": "stdout",
     "output_type": "stream",
     "text": [
      "p-значение:  0.22883372237997213\n",
      "уровень значимости:  0.05\n",
      "Не получилось отвергнуть нулевую гипотезу, нет оснований считать доли разными\n",
      "\n",
      "p-значение:  0.5786197879539783\n",
      "уровень значимости:  0.05\n",
      "Не получилось отвергнуть нулевую гипотезу, нет оснований считать доли разными\n",
      "\n",
      "p-значение:  0.07842923237520116\n",
      "уровень значимости:  0.05\n",
      "Не получилось отвергнуть нулевую гипотезу, нет оснований считать доли разными\n",
      "\n",
      "p-значение:  0.18175875284404386\n",
      "уровень значимости:  0.05\n",
      "Не получилось отвергнуть нулевую гипотезу, нет оснований считать доли разными\n",
      "\n"
     ]
    }
   ],
   "source": [
    "с_246 = group_count.iloc[0,0] #CartScreenAppear 246\n",
    "с_247 = group_count.iloc[1,0] #CartScreenAppear 247\n",
    "с_248 = group_count.iloc[2,0] #CartScreenAppear 248\n",
    "\n",
    "t_246 = group_count.iloc[0,5] #CartScreenAppear 246\n",
    "t_247 = group_count.iloc[1,5] #CartScreenAppear 247\n",
    "t_248 = group_count.iloc[2,5] #CartScreenAppear 248\n",
    "\n",
    "proverka(с_246,с_247,t_246,t_247) # А/А (246, 247)\n",
    "proverka (с_247,с_248,t_247,t_248) # А/А (247, 248)\n",
    "proverka(с_246,с_248,t_246,t_248) # А/В (246, 248)\n",
    "proverka(с_246 + с_247, с_248, group_count.iloc[0,5]+ t_247, t_248) # 246+247/248"
   ]
  },
  {
   "cell_type": "code",
   "execution_count": 44,
   "id": "ae0c7194",
   "metadata": {},
   "outputs": [
    {
     "name": "stdout",
     "output_type": "stream",
     "text": [
      "p-значение:  0.7570597232046099\n",
      "уровень значимости:  0.05\n",
      "Не получилось отвергнуть нулевую гипотезу, нет оснований считать доли разными\n",
      "\n",
      "p-значение:  0.4587053616621515\n",
      "уровень значимости:  0.05\n",
      "Не получилось отвергнуть нулевую гипотезу, нет оснований считать доли разными\n",
      "\n",
      "p-значение:  0.2949721933554552\n",
      "уровень значимости:  0.05\n",
      "Не получилось отвергнуть нулевую гипотезу, нет оснований считать доли разными\n",
      "\n",
      "p-значение:  0.29424526837179577\n",
      "уровень значимости:  0.05\n",
      "Не получилось отвергнуть нулевую гипотезу, нет оснований считать доли разными\n",
      "\n"
     ]
    }
   ],
   "source": [
    "m_246 = group_count.iloc[0,1] #MainScreenAppear 246\n",
    "m_247 = group_count.iloc[1,1] #MainScreenAppear 247\n",
    "m_248 = group_count.iloc[2,1] #MainScreenAppear 248\n",
    "\n",
    "mt_246 = group_count.iloc[0,5] # Total 246\n",
    "mt_247 = group_count.iloc[1,5] # Total 247\n",
    "mt_248 = group_count.iloc[2,5] # Total 248\n",
    "\n",
    "proverka(m_246 ,m_247,mt_246,mt_247) # А/А (246, 247)\n",
    "proverka (m_247,m_248,mt_247,mt_248) # А/А (247, 248)\n",
    "proverka(m_246,m_248,mt_246,mt_248) # А/В (246, 248)\n",
    "proverka(m_246 + m_247, m_248, mt_246 + mt_247, mt_248) # 246+247/248"
   ]
  },
  {
   "cell_type": "code",
   "execution_count": 45,
   "id": "6060996d",
   "metadata": {},
   "outputs": [
    {
     "name": "stdout",
     "output_type": "stream",
     "text": [
      "p-значение:  0.2480954578522181\n",
      "уровень значимости:  0.05\n",
      "Не получилось отвергнуть нулевую гипотезу, нет оснований считать доли разными\n",
      "\n",
      "p-значение:  0.9197817830592261\n",
      "уровень значимости:  0.05\n",
      "Не получилось отвергнуть нулевую гипотезу, нет оснований считать доли разными\n",
      "\n",
      "p-значение:  0.20836205402738917\n",
      "уровень значимости:  0.05\n",
      "Не получилось отвергнуть нулевую гипотезу, нет оснований считать доли разными\n",
      "\n",
      "p-значение:  0.43425549655188256\n",
      "уровень значимости:  0.05\n",
      "Не получилось отвергнуть нулевую гипотезу, нет оснований считать доли разными\n",
      "\n"
     ]
    }
   ],
   "source": [
    "o_246 = group_count.iloc[0,2] #OffersScreenAppear 246\n",
    "o_247 = group_count.iloc[1,2] #OffersScreenAppear 247\n",
    "o_248 = group_count.iloc[2,2] #OffersScreenAppear 248\n",
    "\n",
    "\n",
    "ot_246 = group_count.iloc[0,5] # Total 246\n",
    "ot_247 = group_count.iloc[1,5] # Total 247  \n",
    "ot_248 = group_count.iloc[2,5] # Total 248 \n",
    "\n",
    "proverka(o_246 ,o_247,ot_246,ot_247) # А/А (246, 247)\n",
    "proverka (o_247,o_248,ot_247,ot_248) # А/B (247, 248)\n",
    "proverka(o_246,o_248,ot_246,ot_248) # А/В (246, 248)\n",
    "proverka(o_246 + o_247, o_248, ot_246 + ot_247, ot_248) # 246+247/248"
   ]
  },
  {
   "cell_type": "code",
   "execution_count": 46,
   "id": "0cfc09bf",
   "metadata": {},
   "outputs": [
    {
     "name": "stdout",
     "output_type": "stream",
     "text": [
      "p-значение:  0.11456679313141849\n",
      "уровень значимости:  0.05\n",
      "Не получилось отвергнуть нулевую гипотезу, нет оснований считать доли разными\n",
      "\n",
      "p-значение:  0.7373415053803964\n",
      "уровень значимости:  0.05\n",
      "Не получилось отвергнуть нулевую гипотезу, нет оснований считать доли разными\n",
      "\n",
      "p-значение:  0.2122553275697796\n",
      "уровень значимости:  0.05\n",
      "Не получилось отвергнуть нулевую гипотезу, нет оснований считать доли разными\n",
      "\n",
      "p-значение:  0.6004294282308704\n",
      "уровень значимости:  0.05\n",
      "Не получилось отвергнуть нулевую гипотезу, нет оснований считать доли разными\n",
      "\n"
     ]
    }
   ],
   "source": [
    "p_246 = group_count.iloc[0,3] #PaymentScreenSuccessful 246\n",
    "p_247 = group_count.iloc[1,3] #PaymentScreenSuccessful 247\n",
    "p_248 = group_count.iloc[2,3] #PaymentScreenSuccessful 248\n",
    "\n",
    "\n",
    "pt_246 = group_count.iloc[0,5] # Total 246\n",
    "pt_247 = group_count.iloc[1,5] # Total 247\n",
    "pt_248 = group_count.iloc[2,5] # Total 248\n",
    "\n",
    "proverka(p_246 ,p_247,pt_246,pt_247) # А/А (246, 247)\n",
    "proverka (p_247,p_248,pt_247,pt_248) # А/B (247, 248)\n",
    "proverka(p_246,p_248,pt_246,pt_248) # А/В (246, 248)\n",
    "proverka(p_246 + p_247, p_248, pt_246 + pt_247, pt_248) # 246+247/248"
   ]
  },
  {
   "cell_type": "markdown",
   "id": "a6721fc2",
   "metadata": {},
   "source": [
    "# Вывод\n",
    "\n",
    "- В данном исследования мы проанализировали поведение покупателей на основании логов пользователей, результаты А/А/В-теста. После предобработки данных было рассмотрено поведение 7419-ти пользователей мобильного приложения.\n",
    "\n",
    "**Было выявлено, что**:\n",
    "\n",
    "- В каждой экспериментальной группе было `246 - 2484 наблюдений`, `247 - 2513 наблюдений`, `248- 2537 наблюдений`.\n",
    "- Для того, чтобы проверить корректность всех механизмов и расчётов для А/А-эксперимента. Мы установили, статистические критерии и разницу между выборками 246 и 247 не нашли.\n",
    "- Самое популярное событие это регистрация, после неё до следующего шага доходят  61.91%. \n",
    "- Конверсия события на следующий шаг 81.30%. \n",
    "- Конверсия события PaymentScreenSuccessful: 94.78%. При этом от первого события до оплаты доходит меньше половины пользователей - 47,7 %.\n",
    "\n",
    "\n",
    "**Потеря пользователей**:\n",
    "\n",
    "- Больше всего пользователей терялось после первого шага (> 38%)\n",
    "- Чуть менее 9%  просмотрели товар.\n",
    "- Из них потерялись на следующем шаге и около 2%.\n",
    "- То есть примерно 48% пользователей воспользовались приложением и оплатили заказ.\n",
    "\n",
    "\n",
    "**Анализ результата А/А/В-эксперимента(изменение шрифта во всем приложении)**:\n",
    "\n",
    "- Для этого были ипользованы логи событий за неделю (с 01/08/2019 по 07/08/2019).\n",
    "- Были учтено поведение пользователей, разделенных на три группы:\n",
    "\n",
    "` 246-ая - 2484 пользователя;`\n",
    "`247-ая - 2513 пользователя;`\n",
    "`248-ая - 2537 пользователя.`\n",
    "\n",
    "- Нам нужно было сопоставить доли пользователей по каждому событию между:\n",
    "\n",
    "`контрольными группами 246 и 247;`\n",
    "`каждой из контрольной группы по отдельности и экспериментальной (246-248 и 247-248);`\n",
    "`объединенной контрольной группой и экспериментальной (246+247 и 248).`\n",
    "\n",
    "\n",
    "**Итоговый вывод**:\n",
    "- После проведенного исследования видно, что разбиение на группы работает корректно.\n",
    "- При сравнении результатов с объединённой контрольной группой видно, что изменение шрифта не привлекло бОльшее количество клиентов. Возможно, дизайнерам нужно что-то ещё изменить.\n",
    "- При проверке статистических гипотез выше был взят уровень значимости:  0.05. Было сделано 4 по 4 проверки статистических гипотез. При уровне значимости 0.1 каждый десятый раз можно получать ложный результат."
   ]
  },
  {
   "cell_type": "code",
   "execution_count": null,
   "id": "469daf4c",
   "metadata": {},
   "outputs": [],
   "source": []
  }
 ],
 "metadata": {
  "ExecuteTimeLog": [
   {
    "duration": 1322,
    "start_time": "2023-03-19T15:28:38.527Z"
   },
   {
    "duration": 29,
    "start_time": "2023-03-19T15:28:39.851Z"
   },
   {
    "duration": 23,
    "start_time": "2023-03-19T15:28:39.890Z"
   },
   {
    "duration": 35,
    "start_time": "2023-03-19T15:28:39.915Z"
   },
   {
    "duration": 106,
    "start_time": "2023-03-19T15:28:39.952Z"
   },
   {
    "duration": 219,
    "start_time": "2023-03-19T15:28:40.060Z"
   },
   {
    "duration": 283,
    "start_time": "2023-03-19T15:28:40.289Z"
   },
   {
    "duration": 0,
    "start_time": "2023-03-19T15:28:40.575Z"
   },
   {
    "duration": 0,
    "start_time": "2023-03-19T15:28:40.576Z"
   },
   {
    "duration": 0,
    "start_time": "2023-03-19T15:28:40.578Z"
   },
   {
    "duration": 0,
    "start_time": "2023-03-19T15:28:40.580Z"
   },
   {
    "duration": 1,
    "start_time": "2023-03-19T15:28:40.589Z"
   },
   {
    "duration": 0,
    "start_time": "2023-03-19T15:28:40.591Z"
   },
   {
    "duration": 0,
    "start_time": "2023-03-19T15:28:40.592Z"
   },
   {
    "duration": 0,
    "start_time": "2023-03-19T15:28:40.593Z"
   },
   {
    "duration": 0,
    "start_time": "2023-03-19T15:28:40.595Z"
   },
   {
    "duration": 0,
    "start_time": "2023-03-19T15:28:40.596Z"
   },
   {
    "duration": 0,
    "start_time": "2023-03-19T15:28:40.597Z"
   },
   {
    "duration": 0,
    "start_time": "2023-03-19T15:28:40.598Z"
   },
   {
    "duration": 0,
    "start_time": "2023-03-19T15:28:40.599Z"
   },
   {
    "duration": 0,
    "start_time": "2023-03-19T15:28:40.600Z"
   },
   {
    "duration": 0,
    "start_time": "2023-03-19T15:28:40.601Z"
   },
   {
    "duration": 0,
    "start_time": "2023-03-19T15:28:40.602Z"
   },
   {
    "duration": 0,
    "start_time": "2023-03-19T15:28:40.603Z"
   },
   {
    "duration": 0,
    "start_time": "2023-03-19T15:28:40.604Z"
   },
   {
    "duration": 0,
    "start_time": "2023-03-19T15:28:40.605Z"
   },
   {
    "duration": 0,
    "start_time": "2023-03-19T15:28:40.606Z"
   },
   {
    "duration": 0,
    "start_time": "2023-03-19T15:28:40.607Z"
   },
   {
    "duration": 0,
    "start_time": "2023-03-19T15:28:40.608Z"
   },
   {
    "duration": 0,
    "start_time": "2023-03-19T15:28:40.609Z"
   },
   {
    "duration": 0,
    "start_time": "2023-03-19T15:28:40.610Z"
   },
   {
    "duration": 0,
    "start_time": "2023-03-19T15:28:40.611Z"
   },
   {
    "duration": 0,
    "start_time": "2023-03-19T15:28:40.612Z"
   },
   {
    "duration": 0,
    "start_time": "2023-03-19T15:28:40.614Z"
   },
   {
    "duration": 0,
    "start_time": "2023-03-19T15:28:40.615Z"
   },
   {
    "duration": 0,
    "start_time": "2023-03-19T15:28:40.616Z"
   },
   {
    "duration": 0,
    "start_time": "2023-03-19T15:28:40.617Z"
   },
   {
    "duration": 0,
    "start_time": "2023-03-19T15:28:40.619Z"
   },
   {
    "duration": 0,
    "start_time": "2023-03-19T15:28:40.620Z"
   },
   {
    "duration": 0,
    "start_time": "2023-03-19T15:28:40.621Z"
   },
   {
    "duration": 0,
    "start_time": "2023-03-19T15:28:40.622Z"
   },
   {
    "duration": 0,
    "start_time": "2023-03-19T15:28:40.624Z"
   },
   {
    "duration": 0,
    "start_time": "2023-03-19T15:28:40.625Z"
   },
   {
    "duration": 0,
    "start_time": "2023-03-19T15:28:40.689Z"
   },
   {
    "duration": 0,
    "start_time": "2023-03-19T15:28:40.690Z"
   },
   {
    "duration": 0,
    "start_time": "2023-03-19T15:28:40.691Z"
   },
   {
    "duration": 1,
    "start_time": "2023-03-19T15:28:40.692Z"
   },
   {
    "duration": 0,
    "start_time": "2023-03-19T15:28:40.693Z"
   },
   {
    "duration": 0,
    "start_time": "2023-03-19T15:28:40.694Z"
   },
   {
    "duration": 0,
    "start_time": "2023-03-19T15:28:40.695Z"
   },
   {
    "duration": 0,
    "start_time": "2023-03-19T15:28:40.696Z"
   },
   {
    "duration": 0,
    "start_time": "2023-03-19T15:28:40.697Z"
   },
   {
    "duration": 0,
    "start_time": "2023-03-19T15:28:40.699Z"
   },
   {
    "duration": 0,
    "start_time": "2023-03-19T15:28:40.700Z"
   },
   {
    "duration": 0,
    "start_time": "2023-03-19T15:28:40.701Z"
   },
   {
    "duration": 0,
    "start_time": "2023-03-19T15:28:40.702Z"
   },
   {
    "duration": 0,
    "start_time": "2023-03-19T15:28:40.703Z"
   },
   {
    "duration": 0,
    "start_time": "2023-03-19T15:28:40.704Z"
   },
   {
    "duration": 0,
    "start_time": "2023-03-19T15:28:40.705Z"
   },
   {
    "duration": 0,
    "start_time": "2023-03-19T15:28:40.707Z"
   },
   {
    "duration": 0,
    "start_time": "2023-03-19T15:28:40.708Z"
   },
   {
    "duration": 60,
    "start_time": "2023-03-21T19:43:09.900Z"
   },
   {
    "duration": 10,
    "start_time": "2023-03-21T19:43:22.126Z"
   },
   {
    "duration": 6,
    "start_time": "2023-03-21T19:44:06.911Z"
   },
   {
    "duration": 2009,
    "start_time": "2023-03-21T19:44:19.748Z"
   },
   {
    "duration": 23,
    "start_time": "2023-03-21T19:44:21.758Z"
   },
   {
    "duration": 18,
    "start_time": "2023-03-21T19:44:21.783Z"
   },
   {
    "duration": 29,
    "start_time": "2023-03-21T19:44:21.802Z"
   },
   {
    "duration": 73,
    "start_time": "2023-03-21T19:44:21.832Z"
   },
   {
    "duration": 189,
    "start_time": "2023-03-21T19:44:21.906Z"
   },
   {
    "duration": 272,
    "start_time": "2023-03-21T19:44:22.096Z"
   },
   {
    "duration": 0,
    "start_time": "2023-03-21T19:44:22.371Z"
   },
   {
    "duration": 0,
    "start_time": "2023-03-21T19:44:22.372Z"
   },
   {
    "duration": 0,
    "start_time": "2023-03-21T19:44:22.373Z"
   },
   {
    "duration": 0,
    "start_time": "2023-03-21T19:44:22.374Z"
   },
   {
    "duration": 0,
    "start_time": "2023-03-21T19:44:22.375Z"
   },
   {
    "duration": 0,
    "start_time": "2023-03-21T19:44:22.376Z"
   },
   {
    "duration": 0,
    "start_time": "2023-03-21T19:44:22.377Z"
   },
   {
    "duration": 0,
    "start_time": "2023-03-21T19:44:22.378Z"
   },
   {
    "duration": 0,
    "start_time": "2023-03-21T19:44:22.379Z"
   },
   {
    "duration": 0,
    "start_time": "2023-03-21T19:44:22.380Z"
   },
   {
    "duration": 0,
    "start_time": "2023-03-21T19:44:22.381Z"
   },
   {
    "duration": 0,
    "start_time": "2023-03-21T19:44:22.383Z"
   },
   {
    "duration": 0,
    "start_time": "2023-03-21T19:44:22.383Z"
   },
   {
    "duration": 0,
    "start_time": "2023-03-21T19:44:22.385Z"
   },
   {
    "duration": 0,
    "start_time": "2023-03-21T19:44:22.386Z"
   },
   {
    "duration": 0,
    "start_time": "2023-03-21T19:44:22.387Z"
   },
   {
    "duration": 0,
    "start_time": "2023-03-21T19:44:22.388Z"
   },
   {
    "duration": 0,
    "start_time": "2023-03-21T19:44:22.389Z"
   },
   {
    "duration": 0,
    "start_time": "2023-03-21T19:44:22.424Z"
   },
   {
    "duration": 0,
    "start_time": "2023-03-21T19:44:22.425Z"
   },
   {
    "duration": 0,
    "start_time": "2023-03-21T19:44:22.427Z"
   },
   {
    "duration": 0,
    "start_time": "2023-03-21T19:44:22.428Z"
   },
   {
    "duration": 0,
    "start_time": "2023-03-21T19:44:22.429Z"
   },
   {
    "duration": 0,
    "start_time": "2023-03-21T19:44:22.430Z"
   },
   {
    "duration": 0,
    "start_time": "2023-03-21T19:44:22.432Z"
   },
   {
    "duration": 0,
    "start_time": "2023-03-21T19:44:22.433Z"
   },
   {
    "duration": 0,
    "start_time": "2023-03-21T19:44:22.434Z"
   },
   {
    "duration": 0,
    "start_time": "2023-03-21T19:44:22.436Z"
   },
   {
    "duration": 0,
    "start_time": "2023-03-21T19:44:22.437Z"
   },
   {
    "duration": 0,
    "start_time": "2023-03-21T19:44:22.438Z"
   },
   {
    "duration": 0,
    "start_time": "2023-03-21T19:44:22.439Z"
   },
   {
    "duration": 0,
    "start_time": "2023-03-21T19:44:22.441Z"
   },
   {
    "duration": 0,
    "start_time": "2023-03-21T19:44:22.442Z"
   },
   {
    "duration": 0,
    "start_time": "2023-03-21T19:44:22.444Z"
   },
   {
    "duration": 0,
    "start_time": "2023-03-21T19:44:22.445Z"
   },
   {
    "duration": 0,
    "start_time": "2023-03-21T19:44:22.447Z"
   },
   {
    "duration": 0,
    "start_time": "2023-03-21T19:44:22.448Z"
   },
   {
    "duration": 0,
    "start_time": "2023-03-21T19:44:22.449Z"
   },
   {
    "duration": 0,
    "start_time": "2023-03-21T19:44:22.451Z"
   },
   {
    "duration": 0,
    "start_time": "2023-03-21T19:44:22.452Z"
   },
   {
    "duration": 0,
    "start_time": "2023-03-21T19:44:22.453Z"
   },
   {
    "duration": 0,
    "start_time": "2023-03-21T19:44:22.455Z"
   },
   {
    "duration": 0,
    "start_time": "2023-03-21T19:44:22.456Z"
   },
   {
    "duration": 0,
    "start_time": "2023-03-21T19:44:22.457Z"
   },
   {
    "duration": 0,
    "start_time": "2023-03-21T19:44:22.458Z"
   },
   {
    "duration": 0,
    "start_time": "2023-03-21T19:44:22.459Z"
   },
   {
    "duration": 0,
    "start_time": "2023-03-21T19:44:22.460Z"
   },
   {
    "duration": 0,
    "start_time": "2023-03-21T19:44:22.462Z"
   },
   {
    "duration": 0,
    "start_time": "2023-03-21T19:44:22.524Z"
   },
   {
    "duration": 0,
    "start_time": "2023-03-21T19:44:22.526Z"
   },
   {
    "duration": 0,
    "start_time": "2023-03-21T19:44:22.527Z"
   },
   {
    "duration": 0,
    "start_time": "2023-03-21T19:44:22.528Z"
   },
   {
    "duration": 0,
    "start_time": "2023-03-21T19:44:22.530Z"
   },
   {
    "duration": 0,
    "start_time": "2023-03-21T19:44:22.531Z"
   },
   {
    "duration": 21,
    "start_time": "2023-03-21T19:44:47.559Z"
   },
   {
    "duration": 11,
    "start_time": "2023-03-21T19:44:51.383Z"
   },
   {
    "duration": 1275,
    "start_time": "2023-03-21T19:44:59.308Z"
   },
   {
    "duration": 23,
    "start_time": "2023-03-21T19:45:00.585Z"
   },
   {
    "duration": 45,
    "start_time": "2023-03-21T19:45:00.624Z"
   },
   {
    "duration": 89,
    "start_time": "2023-03-21T19:45:00.671Z"
   },
   {
    "duration": 88,
    "start_time": "2023-03-21T19:45:00.762Z"
   },
   {
    "duration": 188,
    "start_time": "2023-03-21T19:45:00.851Z"
   },
   {
    "duration": 184,
    "start_time": "2023-03-21T19:45:01.041Z"
   },
   {
    "duration": 32,
    "start_time": "2023-03-21T19:45:01.226Z"
   },
   {
    "duration": 42,
    "start_time": "2023-03-21T19:45:01.260Z"
   },
   {
    "duration": 114,
    "start_time": "2023-03-21T19:45:01.303Z"
   },
   {
    "duration": 19,
    "start_time": "2023-03-21T19:45:01.419Z"
   },
   {
    "duration": 34,
    "start_time": "2023-03-21T19:45:01.439Z"
   },
   {
    "duration": 40,
    "start_time": "2023-03-21T19:45:01.475Z"
   },
   {
    "duration": 26,
    "start_time": "2023-03-21T19:45:01.518Z"
   },
   {
    "duration": 15,
    "start_time": "2023-03-21T19:45:01.546Z"
   },
   {
    "duration": 362,
    "start_time": "2023-03-21T19:45:01.562Z"
   },
   {
    "duration": 18,
    "start_time": "2023-03-21T19:45:01.925Z"
   },
   {
    "duration": 9,
    "start_time": "2023-03-21T19:45:01.944Z"
   },
   {
    "duration": 255,
    "start_time": "2023-03-21T19:45:01.955Z"
   },
   {
    "duration": 14,
    "start_time": "2023-03-21T19:45:02.211Z"
   },
   {
    "duration": 30,
    "start_time": "2023-03-21T19:45:02.227Z"
   },
   {
    "duration": 19,
    "start_time": "2023-03-21T19:45:02.258Z"
   },
   {
    "duration": 48,
    "start_time": "2023-03-21T19:45:02.279Z"
   },
   {
    "duration": 11,
    "start_time": "2023-03-21T19:45:02.328Z"
   },
   {
    "duration": 13,
    "start_time": "2023-03-21T19:45:02.341Z"
   },
   {
    "duration": 79,
    "start_time": "2023-03-21T19:45:02.355Z"
   },
   {
    "duration": 65,
    "start_time": "2023-03-21T19:45:02.436Z"
   },
   {
    "duration": 70,
    "start_time": "2023-03-21T19:45:02.504Z"
   },
   {
    "duration": 49,
    "start_time": "2023-03-21T19:45:02.578Z"
   },
   {
    "duration": 57,
    "start_time": "2023-03-21T19:45:02.628Z"
   },
   {
    "duration": 86,
    "start_time": "2023-03-21T19:45:02.689Z"
   },
   {
    "duration": 16,
    "start_time": "2023-03-21T19:45:02.777Z"
   },
   {
    "duration": 24,
    "start_time": "2023-03-21T19:45:02.795Z"
   },
   {
    "duration": 47,
    "start_time": "2023-03-21T19:45:02.823Z"
   },
   {
    "duration": 68,
    "start_time": "2023-03-21T19:45:02.871Z"
   },
   {
    "duration": 17,
    "start_time": "2023-03-21T19:45:02.940Z"
   },
   {
    "duration": 2,
    "start_time": "2023-03-21T19:45:02.958Z"
   },
   {
    "duration": 34,
    "start_time": "2023-03-21T19:45:02.962Z"
   },
   {
    "duration": 53,
    "start_time": "2023-03-21T19:45:02.998Z"
   },
   {
    "duration": 29,
    "start_time": "2023-03-21T19:45:03.052Z"
   },
   {
    "duration": 51,
    "start_time": "2023-03-21T19:45:03.086Z"
   },
   {
    "duration": 28,
    "start_time": "2023-03-21T19:45:03.139Z"
   },
   {
    "duration": 71,
    "start_time": "2023-03-21T19:45:03.169Z"
   },
   {
    "duration": 27,
    "start_time": "2023-03-21T19:45:03.242Z"
   },
   {
    "duration": 68,
    "start_time": "2023-03-21T19:45:03.271Z"
   },
   {
    "duration": 108,
    "start_time": "2023-03-21T19:45:03.342Z"
   },
   {
    "duration": 114,
    "start_time": "2023-03-21T19:45:03.452Z"
   },
   {
    "duration": 81,
    "start_time": "2023-03-21T19:45:03.568Z"
   },
   {
    "duration": 93,
    "start_time": "2023-03-21T19:45:03.650Z"
   },
   {
    "duration": 81,
    "start_time": "2023-03-21T19:45:03.745Z"
   },
   {
    "duration": 42,
    "start_time": "2023-03-21T19:45:03.828Z"
   },
   {
    "duration": 30,
    "start_time": "2023-03-21T19:45:03.924Z"
   },
   {
    "duration": 90,
    "start_time": "2023-03-21T19:45:03.956Z"
   },
   {
    "duration": 99,
    "start_time": "2023-03-21T19:45:04.047Z"
   },
   {
    "duration": 126,
    "start_time": "2023-03-21T19:45:04.148Z"
   },
   {
    "duration": 46,
    "start_time": "2023-03-21T19:45:04.325Z"
   },
   {
    "duration": 46,
    "start_time": "2023-03-21T19:45:04.425Z"
   },
   {
    "duration": 42,
    "start_time": "2023-03-21T19:45:04.524Z"
   },
   {
    "duration": 162,
    "start_time": "2023-03-21T19:45:04.568Z"
   },
   {
    "duration": 92,
    "start_time": "2023-03-21T19:45:04.732Z"
   },
   {
    "duration": 104,
    "start_time": "2023-03-21T19:45:04.826Z"
   },
   {
    "duration": 1305,
    "start_time": "2023-03-22T12:23:44.414Z"
   },
   {
    "duration": 29,
    "start_time": "2023-03-22T12:23:45.720Z"
   },
   {
    "duration": 21,
    "start_time": "2023-03-22T12:23:45.751Z"
   },
   {
    "duration": 32,
    "start_time": "2023-03-22T12:23:45.774Z"
   },
   {
    "duration": 98,
    "start_time": "2023-03-22T12:23:45.808Z"
   },
   {
    "duration": 208,
    "start_time": "2023-03-22T12:23:45.908Z"
   },
   {
    "duration": 277,
    "start_time": "2023-03-22T12:23:46.117Z"
   },
   {
    "duration": 7,
    "start_time": "2023-03-22T12:23:46.396Z"
   },
   {
    "duration": 16,
    "start_time": "2023-03-22T12:23:46.404Z"
   },
   {
    "duration": 131,
    "start_time": "2023-03-22T12:23:46.441Z"
   },
   {
    "duration": 19,
    "start_time": "2023-03-22T12:23:46.573Z"
   },
   {
    "duration": 4,
    "start_time": "2023-03-22T12:23:46.593Z"
   },
   {
    "duration": 7,
    "start_time": "2023-03-22T12:23:46.598Z"
   },
   {
    "duration": 6,
    "start_time": "2023-03-22T12:23:46.606Z"
   },
   {
    "duration": 30,
    "start_time": "2023-03-22T12:23:46.613Z"
   },
   {
    "duration": 443,
    "start_time": "2023-03-22T12:23:46.645Z"
   },
   {
    "duration": 23,
    "start_time": "2023-03-22T12:23:47.090Z"
   },
   {
    "duration": 6,
    "start_time": "2023-03-22T12:23:47.115Z"
   },
   {
    "duration": 324,
    "start_time": "2023-03-22T12:23:47.141Z"
   },
   {
    "duration": 13,
    "start_time": "2023-03-22T12:23:47.467Z"
   },
   {
    "duration": 18,
    "start_time": "2023-03-22T12:23:47.482Z"
   },
   {
    "duration": 39,
    "start_time": "2023-03-22T12:23:47.502Z"
   },
   {
    "duration": 59,
    "start_time": "2023-03-22T12:23:47.543Z"
   },
   {
    "duration": 12,
    "start_time": "2023-03-22T12:23:47.603Z"
   },
   {
    "duration": 25,
    "start_time": "2023-03-22T12:23:47.617Z"
   },
   {
    "duration": 58,
    "start_time": "2023-03-22T12:23:47.643Z"
   },
   {
    "duration": 86,
    "start_time": "2023-03-22T12:23:47.702Z"
   },
   {
    "duration": 71,
    "start_time": "2023-03-22T12:23:47.792Z"
   },
   {
    "duration": 33,
    "start_time": "2023-03-22T12:23:47.865Z"
   },
   {
    "duration": 66,
    "start_time": "2023-03-22T12:23:47.899Z"
   },
   {
    "duration": 77,
    "start_time": "2023-03-22T12:23:47.967Z"
   },
   {
    "duration": 22,
    "start_time": "2023-03-22T12:23:48.046Z"
   },
   {
    "duration": 21,
    "start_time": "2023-03-22T12:23:48.070Z"
   },
   {
    "duration": 80,
    "start_time": "2023-03-22T12:23:48.093Z"
   },
   {
    "duration": 80,
    "start_time": "2023-03-22T12:23:48.176Z"
   },
   {
    "duration": 22,
    "start_time": "2023-03-22T12:23:48.258Z"
   },
   {
    "duration": 3,
    "start_time": "2023-03-22T12:23:48.281Z"
   },
   {
    "duration": 38,
    "start_time": "2023-03-22T12:23:48.285Z"
   },
   {
    "duration": 61,
    "start_time": "2023-03-22T12:23:48.325Z"
   },
   {
    "duration": 36,
    "start_time": "2023-03-22T12:23:48.388Z"
   },
   {
    "duration": 53,
    "start_time": "2023-03-22T12:23:48.440Z"
   },
   {
    "duration": 65,
    "start_time": "2023-03-22T12:23:48.494Z"
   },
   {
    "duration": 43,
    "start_time": "2023-03-22T12:23:48.561Z"
   },
   {
    "duration": 17,
    "start_time": "2023-03-22T12:23:48.606Z"
   },
   {
    "duration": 37,
    "start_time": "2023-03-22T12:23:48.625Z"
   },
   {
    "duration": 52,
    "start_time": "2023-03-22T12:23:48.664Z"
   },
   {
    "duration": 81,
    "start_time": "2023-03-22T12:23:48.717Z"
   },
   {
    "duration": 186,
    "start_time": "2023-03-22T12:23:48.800Z"
   },
   {
    "duration": 42,
    "start_time": "2023-03-22T12:23:48.987Z"
   },
   {
    "duration": 41,
    "start_time": "2023-03-22T12:23:49.030Z"
   },
   {
    "duration": 46,
    "start_time": "2023-03-22T12:23:49.072Z"
   },
   {
    "duration": 61,
    "start_time": "2023-03-22T12:23:49.120Z"
   },
   {
    "duration": 41,
    "start_time": "2023-03-22T12:23:49.182Z"
   },
   {
    "duration": 67,
    "start_time": "2023-03-22T12:23:49.225Z"
   },
   {
    "duration": 82,
    "start_time": "2023-03-22T12:23:49.294Z"
   },
   {
    "duration": 33,
    "start_time": "2023-03-22T12:23:49.377Z"
   },
   {
    "duration": 63,
    "start_time": "2023-03-22T12:23:49.412Z"
   },
   {
    "duration": 36,
    "start_time": "2023-03-22T12:23:49.477Z"
   },
   {
    "duration": 75,
    "start_time": "2023-03-22T12:23:49.514Z"
   },
   {
    "duration": 30,
    "start_time": "2023-03-22T12:23:49.590Z"
   },
   {
    "duration": 57,
    "start_time": "2023-03-22T12:23:49.622Z"
   },
   {
    "duration": 1395,
    "start_time": "2023-03-22T17:28:12.770Z"
   },
   {
    "duration": 1554,
    "start_time": "2023-03-22T17:28:16.266Z"
   },
   {
    "duration": 2566,
    "start_time": "2023-03-22T17:35:27.232Z"
   },
   {
    "duration": 53,
    "start_time": "2023-03-22T17:35:41.139Z"
   },
   {
    "duration": 23,
    "start_time": "2023-03-22T17:35:44.400Z"
   },
   {
    "duration": 31,
    "start_time": "2023-03-22T17:35:47.683Z"
   },
   {
    "duration": 98,
    "start_time": "2023-03-22T17:35:51.383Z"
   },
   {
    "duration": 228,
    "start_time": "2023-03-22T17:35:54.132Z"
   },
   {
    "duration": 273,
    "start_time": "2023-03-22T17:35:59.402Z"
   },
   {
    "duration": 8,
    "start_time": "2023-03-22T17:36:02.600Z"
   },
   {
    "duration": 35,
    "start_time": "2023-03-22T17:36:05.426Z"
   },
   {
    "duration": 159,
    "start_time": "2023-03-22T17:36:10.499Z"
   },
   {
    "duration": 30,
    "start_time": "2023-03-22T17:36:29.330Z"
   },
   {
    "duration": 35,
    "start_time": "2023-03-22T17:36:39.837Z"
   },
   {
    "duration": 10,
    "start_time": "2023-03-22T17:36:43.539Z"
   },
   {
    "duration": 12,
    "start_time": "2023-03-22T17:36:46.941Z"
   },
   {
    "duration": 7,
    "start_time": "2023-03-22T17:36:50.659Z"
   },
   {
    "duration": 13,
    "start_time": "2023-03-22T17:39:08.359Z"
   },
   {
    "duration": 1905,
    "start_time": "2023-03-22T17:39:17.530Z"
   },
   {
    "duration": 293,
    "start_time": "2023-03-22T17:39:30.876Z"
   },
   {
    "duration": 277,
    "start_time": "2023-03-22T17:43:18.702Z"
   },
   {
    "duration": 12,
    "start_time": "2023-03-22T17:48:32.519Z"
   },
   {
    "duration": 1025,
    "start_time": "2023-03-22T17:48:48.781Z"
   },
   {
    "duration": 310,
    "start_time": "2023-03-22T17:48:49.808Z"
   },
   {
    "duration": 39,
    "start_time": "2023-03-22T17:48:50.120Z"
   },
   {
    "duration": 29,
    "start_time": "2023-03-22T17:48:50.161Z"
   },
   {
    "duration": 30,
    "start_time": "2023-03-22T17:48:50.192Z"
   },
   {
    "duration": 103,
    "start_time": "2023-03-22T17:48:50.224Z"
   },
   {
    "duration": 250,
    "start_time": "2023-03-22T17:48:50.328Z"
   },
   {
    "duration": 291,
    "start_time": "2023-03-22T17:48:50.580Z"
   },
   {
    "duration": 7,
    "start_time": "2023-03-22T17:48:50.873Z"
   },
   {
    "duration": 100,
    "start_time": "2023-03-22T17:48:50.882Z"
   },
   {
    "duration": 120,
    "start_time": "2023-03-22T17:48:50.984Z"
   },
   {
    "duration": 24,
    "start_time": "2023-03-22T17:48:51.106Z"
   },
   {
    "duration": 42,
    "start_time": "2023-03-22T17:48:51.134Z"
   },
   {
    "duration": 4,
    "start_time": "2023-03-22T17:48:51.180Z"
   },
   {
    "duration": 7,
    "start_time": "2023-03-22T17:48:51.186Z"
   },
   {
    "duration": 9,
    "start_time": "2023-03-22T17:48:51.195Z"
   },
   {
    "duration": 236,
    "start_time": "2023-03-22T17:48:51.206Z"
   },
   {
    "duration": 11,
    "start_time": "2023-03-22T17:48:51.444Z"
   },
   {
    "duration": 310,
    "start_time": "2023-03-22T17:48:51.457Z"
   },
   {
    "duration": 18,
    "start_time": "2023-03-22T17:48:51.768Z"
   },
   {
    "duration": 5,
    "start_time": "2023-03-22T17:48:51.788Z"
   },
   {
    "duration": 326,
    "start_time": "2023-03-22T17:48:51.795Z"
   },
   {
    "duration": 22,
    "start_time": "2023-03-22T17:48:52.123Z"
   },
   {
    "duration": 40,
    "start_time": "2023-03-22T17:48:52.146Z"
   },
   {
    "duration": 18,
    "start_time": "2023-03-22T17:48:52.188Z"
   },
   {
    "duration": 45,
    "start_time": "2023-03-22T17:48:52.208Z"
   },
   {
    "duration": 65,
    "start_time": "2023-03-22T17:48:52.254Z"
   },
   {
    "duration": 10,
    "start_time": "2023-03-22T17:48:52.321Z"
   },
   {
    "duration": 4,
    "start_time": "2023-03-22T17:48:52.333Z"
   },
   {
    "duration": 61,
    "start_time": "2023-03-22T17:48:52.349Z"
   },
   {
    "duration": 62,
    "start_time": "2023-03-22T17:48:52.412Z"
   },
   {
    "duration": 89,
    "start_time": "2023-03-22T17:48:52.476Z"
   },
   {
    "duration": 31,
    "start_time": "2023-03-22T17:48:52.568Z"
   },
   {
    "duration": 53,
    "start_time": "2023-03-22T17:48:52.600Z"
   },
   {
    "duration": 73,
    "start_time": "2023-03-22T17:48:52.654Z"
   },
   {
    "duration": 38,
    "start_time": "2023-03-22T17:48:52.728Z"
   },
   {
    "duration": 19,
    "start_time": "2023-03-22T17:48:52.769Z"
   },
   {
    "duration": 94,
    "start_time": "2023-03-22T17:48:52.790Z"
   },
   {
    "duration": 69,
    "start_time": "2023-03-22T17:48:52.886Z"
   },
   {
    "duration": 27,
    "start_time": "2023-03-22T17:48:52.956Z"
   },
   {
    "duration": 3,
    "start_time": "2023-03-22T17:48:52.987Z"
   },
   {
    "duration": 34,
    "start_time": "2023-03-22T17:48:52.992Z"
   },
   {
    "duration": 56,
    "start_time": "2023-03-22T17:48:53.050Z"
   },
   {
    "duration": 65,
    "start_time": "2023-03-22T17:48:53.108Z"
   },
   {
    "duration": 45,
    "start_time": "2023-03-22T17:48:53.174Z"
   },
   {
    "duration": 57,
    "start_time": "2023-03-22T17:48:53.221Z"
   },
   {
    "duration": 43,
    "start_time": "2023-03-22T17:48:53.280Z"
   },
   {
    "duration": 33,
    "start_time": "2023-03-22T17:48:53.324Z"
   },
   {
    "duration": 22,
    "start_time": "2023-03-22T17:48:53.358Z"
   },
   {
    "duration": 88,
    "start_time": "2023-03-22T17:48:53.381Z"
   },
   {
    "duration": 67,
    "start_time": "2023-03-22T17:48:53.472Z"
   },
   {
    "duration": 44,
    "start_time": "2023-03-22T17:48:53.550Z"
   },
   {
    "duration": 61,
    "start_time": "2023-03-22T17:48:53.596Z"
   },
   {
    "duration": 41,
    "start_time": "2023-03-22T17:48:53.661Z"
   },
   {
    "duration": 58,
    "start_time": "2023-03-22T17:48:53.703Z"
   },
   {
    "duration": 34,
    "start_time": "2023-03-22T17:48:53.767Z"
   },
   {
    "duration": 58,
    "start_time": "2023-03-22T17:48:53.803Z"
   },
   {
    "duration": 52,
    "start_time": "2023-03-22T17:48:53.866Z"
   },
   {
    "duration": 86,
    "start_time": "2023-03-22T17:48:53.920Z"
   },
   {
    "duration": 53,
    "start_time": "2023-03-22T17:48:54.008Z"
   },
   {
    "duration": 49,
    "start_time": "2023-03-22T17:48:54.069Z"
   },
   {
    "duration": 67,
    "start_time": "2023-03-22T17:48:54.119Z"
   },
   {
    "duration": 47,
    "start_time": "2023-03-22T17:48:54.188Z"
   },
   {
    "duration": 56,
    "start_time": "2023-03-22T17:48:54.237Z"
   },
   {
    "duration": 70,
    "start_time": "2023-03-22T17:48:54.295Z"
   },
   {
    "duration": 30,
    "start_time": "2023-03-22T17:50:07.869Z"
   },
   {
    "duration": 37,
    "start_time": "2023-03-22T17:50:18.040Z"
   },
   {
    "duration": 55,
    "start_time": "2023-03-22T17:50:43.242Z"
   },
   {
    "duration": 40,
    "start_time": "2023-03-22T17:50:58.577Z"
   },
   {
    "duration": 41,
    "start_time": "2023-03-22T17:51:59.832Z"
   },
   {
    "duration": 43,
    "start_time": "2023-03-22T17:52:12.420Z"
   },
   {
    "duration": 35,
    "start_time": "2023-03-22T17:52:18.270Z"
   },
   {
    "duration": 51,
    "start_time": "2023-03-22T17:52:34.332Z"
   },
   {
    "duration": 25,
    "start_time": "2023-03-22T17:52:53.676Z"
   },
   {
    "duration": 43,
    "start_time": "2023-03-22T17:53:31.381Z"
   },
   {
    "duration": 43,
    "start_time": "2023-03-22T17:53:37.685Z"
   },
   {
    "duration": 26,
    "start_time": "2023-03-22T17:55:06.696Z"
   },
   {
    "duration": 28,
    "start_time": "2023-03-22T17:55:15.380Z"
   },
   {
    "duration": 55,
    "start_time": "2023-03-22T17:55:28.329Z"
   },
   {
    "duration": 37,
    "start_time": "2023-03-22T17:55:36.280Z"
   },
   {
    "duration": 10,
    "start_time": "2023-03-22T17:55:49.766Z"
   },
   {
    "duration": 8,
    "start_time": "2023-03-22T17:55:54.788Z"
   },
   {
    "duration": 1045,
    "start_time": "2023-03-22T17:56:51.473Z"
   },
   {
    "duration": 294,
    "start_time": "2023-03-22T17:56:52.520Z"
   },
   {
    "duration": 37,
    "start_time": "2023-03-22T17:56:52.815Z"
   },
   {
    "duration": 99,
    "start_time": "2023-03-22T17:56:52.866Z"
   },
   {
    "duration": 34,
    "start_time": "2023-03-22T17:56:52.966Z"
   },
   {
    "duration": 102,
    "start_time": "2023-03-22T17:56:53.001Z"
   },
   {
    "duration": 246,
    "start_time": "2023-03-22T17:56:53.105Z"
   },
   {
    "duration": 308,
    "start_time": "2023-03-22T17:56:53.353Z"
   },
   {
    "duration": 8,
    "start_time": "2023-03-22T17:56:53.670Z"
   },
   {
    "duration": 20,
    "start_time": "2023-03-22T17:56:53.680Z"
   },
   {
    "duration": 124,
    "start_time": "2023-03-22T17:56:53.702Z"
   },
   {
    "duration": 45,
    "start_time": "2023-03-22T17:56:53.828Z"
   },
   {
    "duration": 18,
    "start_time": "2023-03-22T17:56:53.875Z"
   },
   {
    "duration": 9,
    "start_time": "2023-03-22T17:56:53.894Z"
   },
   {
    "duration": 16,
    "start_time": "2023-03-22T17:56:53.905Z"
   },
   {
    "duration": 46,
    "start_time": "2023-03-22T17:56:53.923Z"
   },
   {
    "duration": 319,
    "start_time": "2023-03-22T17:56:53.971Z"
   },
   {
    "duration": 10,
    "start_time": "2023-03-22T17:56:54.292Z"
   },
   {
    "duration": 321,
    "start_time": "2023-03-22T17:56:54.304Z"
   },
   {
    "duration": 30,
    "start_time": "2023-03-22T17:56:54.627Z"
   },
   {
    "duration": 7,
    "start_time": "2023-03-22T17:56:54.669Z"
   },
   {
    "duration": 283,
    "start_time": "2023-03-22T17:56:54.677Z"
   },
   {
    "duration": 14,
    "start_time": "2023-03-22T17:56:54.961Z"
   },
   {
    "duration": 34,
    "start_time": "2023-03-22T17:56:54.976Z"
   },
   {
    "duration": 18,
    "start_time": "2023-03-22T17:56:55.012Z"
   },
   {
    "duration": 39,
    "start_time": "2023-03-22T17:56:55.031Z"
   },
   {
    "duration": 56,
    "start_time": "2023-03-22T17:56:55.072Z"
   },
   {
    "duration": 17,
    "start_time": "2023-03-22T17:56:55.152Z"
   },
   {
    "duration": 4,
    "start_time": "2023-03-22T17:56:55.171Z"
   },
   {
    "duration": 53,
    "start_time": "2023-03-22T17:56:55.177Z"
   },
   {
    "duration": 70,
    "start_time": "2023-03-22T17:56:55.231Z"
   },
   {
    "duration": 55,
    "start_time": "2023-03-22T17:56:55.303Z"
   },
   {
    "duration": 32,
    "start_time": "2023-03-22T17:56:55.360Z"
   },
   {
    "duration": 63,
    "start_time": "2023-03-22T17:56:55.394Z"
   },
   {
    "duration": 69,
    "start_time": "2023-03-22T17:56:55.458Z"
   },
   {
    "duration": 36,
    "start_time": "2023-03-22T17:56:55.529Z"
   },
   {
    "duration": 22,
    "start_time": "2023-03-22T17:56:55.567Z"
   },
   {
    "duration": 71,
    "start_time": "2023-03-22T17:56:55.590Z"
   },
   {
    "duration": 84,
    "start_time": "2023-03-22T17:56:55.665Z"
   },
   {
    "duration": 22,
    "start_time": "2023-03-22T17:56:55.753Z"
   },
   {
    "duration": 11,
    "start_time": "2023-03-22T17:56:55.777Z"
   },
   {
    "duration": 91,
    "start_time": "2023-03-22T17:56:55.790Z"
   },
   {
    "duration": 105,
    "start_time": "2023-03-22T17:56:55.882Z"
   },
   {
    "duration": 158,
    "start_time": "2023-03-22T17:56:55.989Z"
   },
   {
    "duration": 144,
    "start_time": "2023-03-22T17:56:56.154Z"
   },
   {
    "duration": 141,
    "start_time": "2023-03-22T17:56:56.300Z"
   },
   {
    "duration": 113,
    "start_time": "2023-03-22T17:56:56.448Z"
   },
   {
    "duration": 28,
    "start_time": "2023-03-22T17:56:56.563Z"
   },
   {
    "duration": 69,
    "start_time": "2023-03-22T17:56:56.592Z"
   },
   {
    "duration": 123,
    "start_time": "2023-03-22T17:56:56.663Z"
   },
   {
    "duration": 262,
    "start_time": "2023-03-22T17:56:56.787Z"
   },
   {
    "duration": 44,
    "start_time": "2023-03-22T17:56:57.058Z"
   },
   {
    "duration": 105,
    "start_time": "2023-03-22T17:56:57.141Z"
   },
   {
    "duration": 100,
    "start_time": "2023-03-22T17:56:57.248Z"
   },
   {
    "duration": 115,
    "start_time": "2023-03-22T17:56:57.350Z"
   },
   {
    "duration": 108,
    "start_time": "2023-03-22T17:56:57.467Z"
   },
   {
    "duration": 189,
    "start_time": "2023-03-22T17:56:57.576Z"
   },
   {
    "duration": 98,
    "start_time": "2023-03-22T17:56:57.774Z"
   },
   {
    "duration": 62,
    "start_time": "2023-03-22T17:56:57.874Z"
   },
   {
    "duration": 48,
    "start_time": "2023-03-22T17:56:57.938Z"
   },
   {
    "duration": 43,
    "start_time": "2023-03-22T17:56:57.987Z"
   },
   {
    "duration": 50,
    "start_time": "2023-03-22T17:56:58.046Z"
   },
   {
    "duration": 62,
    "start_time": "2023-03-22T17:56:58.098Z"
   },
   {
    "duration": 33,
    "start_time": "2023-03-22T17:56:58.166Z"
   },
   {
    "duration": 61,
    "start_time": "2023-03-22T17:56:58.200Z"
   },
   {
    "duration": 1795,
    "start_time": "2023-03-22T18:06:10.355Z"
   },
   {
    "duration": 1012,
    "start_time": "2023-03-22T18:25:44.277Z"
   },
   {
    "duration": 273,
    "start_time": "2023-03-22T18:25:45.291Z"
   },
   {
    "duration": 26,
    "start_time": "2023-03-22T18:25:45.565Z"
   },
   {
    "duration": 21,
    "start_time": "2023-03-22T18:25:45.592Z"
   },
   {
    "duration": 49,
    "start_time": "2023-03-22T18:25:45.615Z"
   },
   {
    "duration": 93,
    "start_time": "2023-03-22T18:25:45.665Z"
   },
   {
    "duration": 204,
    "start_time": "2023-03-22T18:25:45.760Z"
   },
   {
    "duration": 267,
    "start_time": "2023-03-22T18:25:45.965Z"
   },
   {
    "duration": 19,
    "start_time": "2023-03-22T18:25:46.234Z"
   },
   {
    "duration": 21,
    "start_time": "2023-03-22T18:25:46.255Z"
   },
   {
    "duration": 134,
    "start_time": "2023-03-22T18:25:46.278Z"
   },
   {
    "duration": 29,
    "start_time": "2023-03-22T18:25:46.413Z"
   },
   {
    "duration": 22,
    "start_time": "2023-03-22T18:25:46.444Z"
   },
   {
    "duration": 4,
    "start_time": "2023-03-22T18:25:46.470Z"
   },
   {
    "duration": 6,
    "start_time": "2023-03-22T18:25:46.476Z"
   },
   {
    "duration": 6,
    "start_time": "2023-03-22T18:25:46.483Z"
   },
   {
    "duration": 212,
    "start_time": "2023-03-22T18:25:46.490Z"
   },
   {
    "duration": 5,
    "start_time": "2023-03-22T18:25:46.704Z"
   },
   {
    "duration": 266,
    "start_time": "2023-03-22T18:25:46.710Z"
   },
   {
    "duration": 14,
    "start_time": "2023-03-22T18:25:46.977Z"
   },
   {
    "duration": 5,
    "start_time": "2023-03-22T18:25:46.992Z"
   },
   {
    "duration": 331,
    "start_time": "2023-03-22T18:25:46.999Z"
   },
   {
    "duration": 22,
    "start_time": "2023-03-22T18:25:47.332Z"
   },
   {
    "duration": 33,
    "start_time": "2023-03-22T18:25:47.356Z"
   },
   {
    "duration": 19,
    "start_time": "2023-03-22T18:25:47.390Z"
   },
   {
    "duration": 43,
    "start_time": "2023-03-22T18:25:47.410Z"
   },
   {
    "duration": 54,
    "start_time": "2023-03-22T18:25:47.455Z"
   },
   {
    "duration": 9,
    "start_time": "2023-03-22T18:25:47.510Z"
   },
   {
    "duration": 26,
    "start_time": "2023-03-22T18:25:47.520Z"
   },
   {
    "duration": 53,
    "start_time": "2023-03-22T18:25:47.553Z"
   },
   {
    "duration": 55,
    "start_time": "2023-03-22T18:25:47.608Z"
   },
   {
    "duration": 1890,
    "start_time": "2023-03-22T18:25:47.665Z"
   },
   {
    "duration": 0,
    "start_time": "2023-03-22T18:25:49.557Z"
   },
   {
    "duration": 0,
    "start_time": "2023-03-22T18:25:49.558Z"
   },
   {
    "duration": 0,
    "start_time": "2023-03-22T18:25:49.560Z"
   },
   {
    "duration": 0,
    "start_time": "2023-03-22T18:25:49.561Z"
   },
   {
    "duration": 0,
    "start_time": "2023-03-22T18:25:49.562Z"
   },
   {
    "duration": 0,
    "start_time": "2023-03-22T18:25:49.562Z"
   },
   {
    "duration": 0,
    "start_time": "2023-03-22T18:25:49.563Z"
   },
   {
    "duration": 0,
    "start_time": "2023-03-22T18:25:49.564Z"
   },
   {
    "duration": 0,
    "start_time": "2023-03-22T18:25:49.565Z"
   },
   {
    "duration": 0,
    "start_time": "2023-03-22T18:25:49.566Z"
   },
   {
    "duration": 0,
    "start_time": "2023-03-22T18:25:49.567Z"
   },
   {
    "duration": 0,
    "start_time": "2023-03-22T18:25:49.568Z"
   },
   {
    "duration": 0,
    "start_time": "2023-03-22T18:25:49.569Z"
   },
   {
    "duration": 0,
    "start_time": "2023-03-22T18:25:49.570Z"
   },
   {
    "duration": 0,
    "start_time": "2023-03-22T18:25:49.572Z"
   },
   {
    "duration": 0,
    "start_time": "2023-03-22T18:25:49.573Z"
   },
   {
    "duration": 0,
    "start_time": "2023-03-22T18:25:49.574Z"
   },
   {
    "duration": 0,
    "start_time": "2023-03-22T18:25:49.575Z"
   },
   {
    "duration": 0,
    "start_time": "2023-03-22T18:25:49.576Z"
   },
   {
    "duration": 0,
    "start_time": "2023-03-22T18:25:49.578Z"
   },
   {
    "duration": 0,
    "start_time": "2023-03-22T18:25:49.579Z"
   },
   {
    "duration": 0,
    "start_time": "2023-03-22T18:25:49.580Z"
   },
   {
    "duration": 0,
    "start_time": "2023-03-22T18:25:49.581Z"
   },
   {
    "duration": 0,
    "start_time": "2023-03-22T18:25:49.582Z"
   },
   {
    "duration": 0,
    "start_time": "2023-03-22T18:25:49.583Z"
   },
   {
    "duration": 0,
    "start_time": "2023-03-22T18:25:49.585Z"
   },
   {
    "duration": 0,
    "start_time": "2023-03-22T18:25:49.586Z"
   },
   {
    "duration": 0,
    "start_time": "2023-03-22T18:25:49.587Z"
   },
   {
    "duration": 0,
    "start_time": "2023-03-22T18:25:49.589Z"
   },
   {
    "duration": 0,
    "start_time": "2023-03-22T18:25:49.646Z"
   },
   {
    "duration": 0,
    "start_time": "2023-03-22T18:25:49.649Z"
   },
   {
    "duration": 1,
    "start_time": "2023-03-22T18:25:49.649Z"
   },
   {
    "duration": 0,
    "start_time": "2023-03-22T18:25:49.651Z"
   },
   {
    "duration": 0,
    "start_time": "2023-03-22T18:25:49.652Z"
   },
   {
    "duration": 1159,
    "start_time": "2023-03-23T18:41:29.621Z"
   },
   {
    "duration": 1091,
    "start_time": "2023-03-23T18:41:30.783Z"
   },
   {
    "duration": 23,
    "start_time": "2023-03-23T18:41:31.876Z"
   },
   {
    "duration": 32,
    "start_time": "2023-03-23T18:41:31.901Z"
   },
   {
    "duration": 27,
    "start_time": "2023-03-23T18:41:31.935Z"
   },
   {
    "duration": 76,
    "start_time": "2023-03-23T18:41:31.963Z"
   },
   {
    "duration": 190,
    "start_time": "2023-03-23T18:41:32.041Z"
   },
   {
    "duration": 177,
    "start_time": "2023-03-23T18:41:32.232Z"
   },
   {
    "duration": 6,
    "start_time": "2023-03-23T18:41:32.411Z"
   },
   {
    "duration": 15,
    "start_time": "2023-03-23T18:41:32.420Z"
   },
   {
    "duration": 120,
    "start_time": "2023-03-23T18:41:32.436Z"
   },
   {
    "duration": 26,
    "start_time": "2023-03-23T18:41:32.558Z"
   },
   {
    "duration": 22,
    "start_time": "2023-03-23T18:41:32.587Z"
   },
   {
    "duration": 4,
    "start_time": "2023-03-23T18:41:32.611Z"
   },
   {
    "duration": 10,
    "start_time": "2023-03-23T18:41:32.617Z"
   },
   {
    "duration": 8,
    "start_time": "2023-03-23T18:41:32.631Z"
   },
   {
    "duration": 248,
    "start_time": "2023-03-23T18:41:32.640Z"
   },
   {
    "duration": 5,
    "start_time": "2023-03-23T18:41:32.889Z"
   },
   {
    "duration": 242,
    "start_time": "2023-03-23T18:41:32.895Z"
   },
   {
    "duration": 14,
    "start_time": "2023-03-23T18:41:33.138Z"
   },
   {
    "duration": 18,
    "start_time": "2023-03-23T18:41:33.153Z"
   },
   {
    "duration": 250,
    "start_time": "2023-03-23T18:41:33.173Z"
   },
   {
    "duration": 7,
    "start_time": "2023-03-23T18:41:33.424Z"
   },
   {
    "duration": 42,
    "start_time": "2023-03-23T18:41:33.432Z"
   },
   {
    "duration": 16,
    "start_time": "2023-03-23T18:41:33.475Z"
   },
   {
    "duration": 18,
    "start_time": "2023-03-23T18:41:33.492Z"
   },
   {
    "duration": 71,
    "start_time": "2023-03-23T18:41:33.512Z"
   },
   {
    "duration": 8,
    "start_time": "2023-03-23T18:41:33.586Z"
   },
   {
    "duration": 19,
    "start_time": "2023-03-23T18:41:33.596Z"
   },
   {
    "duration": 72,
    "start_time": "2023-03-23T18:41:33.617Z"
   },
   {
    "duration": 46,
    "start_time": "2023-03-23T18:41:33.690Z"
   },
   {
    "duration": 1733,
    "start_time": "2023-03-23T18:41:33.738Z"
   },
   {
    "duration": 0,
    "start_time": "2023-03-23T18:41:35.472Z"
   },
   {
    "duration": 0,
    "start_time": "2023-03-23T18:41:35.473Z"
   },
   {
    "duration": 0,
    "start_time": "2023-03-23T18:41:35.474Z"
   },
   {
    "duration": 0,
    "start_time": "2023-03-23T18:41:35.475Z"
   },
   {
    "duration": 0,
    "start_time": "2023-03-23T18:41:35.476Z"
   },
   {
    "duration": 0,
    "start_time": "2023-03-23T18:41:35.477Z"
   },
   {
    "duration": 0,
    "start_time": "2023-03-23T18:41:35.478Z"
   },
   {
    "duration": 0,
    "start_time": "2023-03-23T18:41:35.479Z"
   },
   {
    "duration": 0,
    "start_time": "2023-03-23T18:41:35.480Z"
   },
   {
    "duration": 0,
    "start_time": "2023-03-23T18:41:35.481Z"
   },
   {
    "duration": 0,
    "start_time": "2023-03-23T18:41:35.482Z"
   },
   {
    "duration": 0,
    "start_time": "2023-03-23T18:41:35.483Z"
   },
   {
    "duration": 0,
    "start_time": "2023-03-23T18:41:35.484Z"
   },
   {
    "duration": 0,
    "start_time": "2023-03-23T18:41:35.484Z"
   },
   {
    "duration": 0,
    "start_time": "2023-03-23T18:41:35.485Z"
   },
   {
    "duration": 0,
    "start_time": "2023-03-23T18:41:35.486Z"
   },
   {
    "duration": 0,
    "start_time": "2023-03-23T18:41:35.487Z"
   },
   {
    "duration": 0,
    "start_time": "2023-03-23T18:41:35.488Z"
   },
   {
    "duration": 0,
    "start_time": "2023-03-23T18:41:35.489Z"
   },
   {
    "duration": 0,
    "start_time": "2023-03-23T18:41:35.490Z"
   },
   {
    "duration": 0,
    "start_time": "2023-03-23T18:41:35.491Z"
   },
   {
    "duration": 0,
    "start_time": "2023-03-23T18:41:35.492Z"
   },
   {
    "duration": 0,
    "start_time": "2023-03-23T18:41:35.493Z"
   },
   {
    "duration": 0,
    "start_time": "2023-03-23T18:41:35.494Z"
   },
   {
    "duration": 0,
    "start_time": "2023-03-23T18:41:35.495Z"
   },
   {
    "duration": 0,
    "start_time": "2023-03-23T18:41:35.495Z"
   },
   {
    "duration": 0,
    "start_time": "2023-03-23T18:41:35.497Z"
   },
   {
    "duration": 0,
    "start_time": "2023-03-23T18:41:35.498Z"
   },
   {
    "duration": 0,
    "start_time": "2023-03-23T18:41:35.499Z"
   },
   {
    "duration": 0,
    "start_time": "2023-03-23T18:41:35.500Z"
   },
   {
    "duration": 0,
    "start_time": "2023-03-23T18:41:35.501Z"
   },
   {
    "duration": 0,
    "start_time": "2023-03-23T18:41:35.502Z"
   },
   {
    "duration": 0,
    "start_time": "2023-03-23T18:41:35.503Z"
   },
   {
    "duration": 0,
    "start_time": "2023-03-23T18:41:35.504Z"
   },
   {
    "duration": 11,
    "start_time": "2023-03-23T18:46:52.438Z"
   },
   {
    "duration": 93,
    "start_time": "2023-03-23T18:47:19.019Z"
   },
   {
    "duration": 75,
    "start_time": "2023-03-23T18:47:51.038Z"
   },
   {
    "duration": 969,
    "start_time": "2023-03-23T18:51:00.417Z"
   },
   {
    "duration": 255,
    "start_time": "2023-03-23T18:51:01.388Z"
   },
   {
    "duration": 24,
    "start_time": "2023-03-23T18:51:01.644Z"
   },
   {
    "duration": 49,
    "start_time": "2023-03-23T18:51:01.670Z"
   },
   {
    "duration": 69,
    "start_time": "2023-03-23T18:51:01.720Z"
   },
   {
    "duration": 114,
    "start_time": "2023-03-23T18:51:01.790Z"
   },
   {
    "duration": 280,
    "start_time": "2023-03-23T18:51:01.905Z"
   },
   {
    "duration": 203,
    "start_time": "2023-03-23T18:51:02.186Z"
   },
   {
    "duration": 7,
    "start_time": "2023-03-23T18:51:02.390Z"
   },
   {
    "duration": 18,
    "start_time": "2023-03-23T18:51:02.400Z"
   },
   {
    "duration": 141,
    "start_time": "2023-03-23T18:51:02.420Z"
   },
   {
    "duration": 26,
    "start_time": "2023-03-23T18:51:02.563Z"
   },
   {
    "duration": 18,
    "start_time": "2023-03-23T18:51:02.591Z"
   },
   {
    "duration": 4,
    "start_time": "2023-03-23T18:51:02.610Z"
   },
   {
    "duration": 16,
    "start_time": "2023-03-23T18:51:02.615Z"
   },
   {
    "duration": 8,
    "start_time": "2023-03-23T18:51:02.632Z"
   },
   {
    "duration": 173,
    "start_time": "2023-03-23T18:51:02.641Z"
   },
   {
    "duration": 4,
    "start_time": "2023-03-23T18:51:02.816Z"
   },
   {
    "duration": 334,
    "start_time": "2023-03-23T18:51:02.821Z"
   },
   {
    "duration": 15,
    "start_time": "2023-03-23T18:51:03.168Z"
   },
   {
    "duration": 5,
    "start_time": "2023-03-23T18:51:03.185Z"
   },
   {
    "duration": 269,
    "start_time": "2023-03-23T18:51:03.191Z"
   },
   {
    "duration": 8,
    "start_time": "2023-03-23T18:51:03.462Z"
   },
   {
    "duration": 27,
    "start_time": "2023-03-23T18:51:03.472Z"
   },
   {
    "duration": 16,
    "start_time": "2023-03-23T18:51:03.501Z"
   },
   {
    "duration": 18,
    "start_time": "2023-03-23T18:51:03.518Z"
   },
   {
    "duration": 74,
    "start_time": "2023-03-23T18:51:03.537Z"
   },
   {
    "duration": 9,
    "start_time": "2023-03-23T18:51:03.615Z"
   },
   {
    "duration": 7,
    "start_time": "2023-03-23T18:51:03.625Z"
   },
   {
    "duration": 57,
    "start_time": "2023-03-23T18:51:03.633Z"
   },
   {
    "duration": 45,
    "start_time": "2023-03-23T18:51:03.692Z"
   },
   {
    "duration": 164,
    "start_time": "2023-03-23T18:51:03.739Z"
   },
   {
    "duration": 0,
    "start_time": "2023-03-23T18:51:03.905Z"
   },
   {
    "duration": 0,
    "start_time": "2023-03-23T18:51:03.906Z"
   },
   {
    "duration": 0,
    "start_time": "2023-03-23T18:51:03.907Z"
   },
   {
    "duration": 0,
    "start_time": "2023-03-23T18:51:03.908Z"
   },
   {
    "duration": 0,
    "start_time": "2023-03-23T18:51:03.909Z"
   },
   {
    "duration": 0,
    "start_time": "2023-03-23T18:51:03.910Z"
   },
   {
    "duration": 0,
    "start_time": "2023-03-23T18:51:03.911Z"
   },
   {
    "duration": 0,
    "start_time": "2023-03-23T18:51:03.912Z"
   },
   {
    "duration": 0,
    "start_time": "2023-03-23T18:51:03.912Z"
   },
   {
    "duration": 0,
    "start_time": "2023-03-23T18:51:03.913Z"
   },
   {
    "duration": 0,
    "start_time": "2023-03-23T18:51:03.914Z"
   },
   {
    "duration": 0,
    "start_time": "2023-03-23T18:51:03.915Z"
   },
   {
    "duration": 0,
    "start_time": "2023-03-23T18:51:03.916Z"
   },
   {
    "duration": 0,
    "start_time": "2023-03-23T18:51:03.917Z"
   },
   {
    "duration": 0,
    "start_time": "2023-03-23T18:51:03.918Z"
   },
   {
    "duration": 0,
    "start_time": "2023-03-23T18:51:03.919Z"
   },
   {
    "duration": 0,
    "start_time": "2023-03-23T18:51:03.920Z"
   },
   {
    "duration": 0,
    "start_time": "2023-03-23T18:51:03.921Z"
   },
   {
    "duration": 0,
    "start_time": "2023-03-23T18:51:03.922Z"
   },
   {
    "duration": 0,
    "start_time": "2023-03-23T18:51:03.923Z"
   },
   {
    "duration": 0,
    "start_time": "2023-03-23T18:51:03.923Z"
   },
   {
    "duration": 0,
    "start_time": "2023-03-23T18:51:03.924Z"
   },
   {
    "duration": 0,
    "start_time": "2023-03-23T18:51:03.925Z"
   },
   {
    "duration": 0,
    "start_time": "2023-03-23T18:51:03.926Z"
   },
   {
    "duration": 0,
    "start_time": "2023-03-23T18:51:03.927Z"
   },
   {
    "duration": 0,
    "start_time": "2023-03-23T18:51:03.928Z"
   },
   {
    "duration": 0,
    "start_time": "2023-03-23T18:51:03.968Z"
   },
   {
    "duration": 0,
    "start_time": "2023-03-23T18:51:03.969Z"
   },
   {
    "duration": 0,
    "start_time": "2023-03-23T18:51:03.970Z"
   },
   {
    "duration": 0,
    "start_time": "2023-03-23T18:51:03.971Z"
   },
   {
    "duration": 0,
    "start_time": "2023-03-23T18:51:03.972Z"
   },
   {
    "duration": 0,
    "start_time": "2023-03-23T18:51:03.973Z"
   },
   {
    "duration": 0,
    "start_time": "2023-03-23T18:51:03.974Z"
   },
   {
    "duration": 0,
    "start_time": "2023-03-23T18:51:03.974Z"
   },
   {
    "duration": 0,
    "start_time": "2023-03-23T18:51:03.976Z"
   },
   {
    "duration": 148,
    "start_time": "2023-03-23T18:51:55.983Z"
   },
   {
    "duration": 105,
    "start_time": "2023-03-23T18:52:05.853Z"
   },
   {
    "duration": 101,
    "start_time": "2023-03-23T18:52:18.593Z"
   },
   {
    "duration": 71,
    "start_time": "2023-03-23T18:52:41.452Z"
   },
   {
    "duration": 191,
    "start_time": "2023-03-23T18:54:38.291Z"
   },
   {
    "duration": 81,
    "start_time": "2023-03-23T18:54:47.898Z"
   },
   {
    "duration": 65,
    "start_time": "2023-03-23T18:58:10.199Z"
   },
   {
    "duration": 69,
    "start_time": "2023-03-23T19:00:16.299Z"
   },
   {
    "duration": 77,
    "start_time": "2023-03-23T19:04:11.487Z"
   },
   {
    "duration": 65,
    "start_time": "2023-03-23T19:09:17.443Z"
   },
   {
    "duration": 3,
    "start_time": "2023-03-23T19:14:26.823Z"
   },
   {
    "duration": 11,
    "start_time": "2023-03-23T19:14:49.734Z"
   },
   {
    "duration": 9,
    "start_time": "2023-03-23T19:15:04.273Z"
   },
   {
    "duration": 9,
    "start_time": "2023-03-23T19:15:29.815Z"
   },
   {
    "duration": 11,
    "start_time": "2023-03-23T19:15:42.428Z"
   },
   {
    "duration": 19,
    "start_time": "2023-03-23T19:15:51.814Z"
   },
   {
    "duration": 18,
    "start_time": "2023-03-23T19:16:14.131Z"
   },
   {
    "duration": 119,
    "start_time": "2023-03-23T19:18:43.519Z"
   },
   {
    "duration": 5,
    "start_time": "2023-03-23T19:21:01.928Z"
   },
   {
    "duration": 3,
    "start_time": "2023-03-23T19:21:24.547Z"
   },
   {
    "duration": 143,
    "start_time": "2023-03-23T19:21:39.051Z"
   },
   {
    "duration": 108,
    "start_time": "2023-03-23T19:22:42.063Z"
   },
   {
    "duration": 42,
    "start_time": "2023-03-23T19:23:35.392Z"
   },
   {
    "duration": 55,
    "start_time": "2023-03-23T19:25:03.653Z"
   },
   {
    "duration": 19,
    "start_time": "2023-03-23T19:25:29.438Z"
   },
   {
    "duration": 56,
    "start_time": "2023-03-23T19:59:39.193Z"
   },
   {
    "duration": 61,
    "start_time": "2023-03-23T19:59:50.432Z"
   },
   {
    "duration": 48,
    "start_time": "2023-03-23T20:02:40.501Z"
   },
   {
    "duration": 93,
    "start_time": "2023-03-23T20:35:01.641Z"
   },
   {
    "duration": 124,
    "start_time": "2023-03-23T20:54:17.604Z"
   },
   {
    "duration": 131,
    "start_time": "2023-03-23T21:01:36.251Z"
   },
   {
    "duration": 102,
    "start_time": "2023-03-23T21:01:54.308Z"
   },
   {
    "duration": 46,
    "start_time": "2023-03-24T11:55:07.529Z"
   },
   {
    "duration": 6,
    "start_time": "2023-03-24T11:55:16.484Z"
   },
   {
    "duration": 1350,
    "start_time": "2023-03-24T11:55:25.050Z"
   },
   {
    "duration": 325,
    "start_time": "2023-03-24T11:55:26.402Z"
   },
   {
    "duration": 25,
    "start_time": "2023-03-24T11:55:26.728Z"
   },
   {
    "duration": 23,
    "start_time": "2023-03-24T11:55:26.754Z"
   },
   {
    "duration": 29,
    "start_time": "2023-03-24T11:55:26.779Z"
   },
   {
    "duration": 91,
    "start_time": "2023-03-24T11:55:26.809Z"
   },
   {
    "duration": 197,
    "start_time": "2023-03-24T11:55:26.901Z"
   },
   {
    "duration": 222,
    "start_time": "2023-03-24T11:55:27.100Z"
   },
   {
    "duration": 10,
    "start_time": "2023-03-24T11:55:27.324Z"
   },
   {
    "duration": 35,
    "start_time": "2023-03-24T11:55:27.337Z"
   },
   {
    "duration": 116,
    "start_time": "2023-03-24T11:55:27.374Z"
   },
   {
    "duration": 48,
    "start_time": "2023-03-24T11:55:27.491Z"
   },
   {
    "duration": 16,
    "start_time": "2023-03-24T11:55:27.540Z"
   },
   {
    "duration": 17,
    "start_time": "2023-03-24T11:55:27.571Z"
   },
   {
    "duration": 3,
    "start_time": "2023-03-24T11:55:27.590Z"
   },
   {
    "duration": 9,
    "start_time": "2023-03-24T11:55:27.595Z"
   },
   {
    "duration": 7,
    "start_time": "2023-03-24T11:55:27.605Z"
   },
   {
    "duration": 199,
    "start_time": "2023-03-24T11:55:27.614Z"
   },
   {
    "duration": 4,
    "start_time": "2023-03-24T11:55:27.815Z"
   },
   {
    "duration": 248,
    "start_time": "2023-03-24T11:55:27.821Z"
   },
   {
    "duration": 14,
    "start_time": "2023-03-24T11:55:28.071Z"
   },
   {
    "duration": 6,
    "start_time": "2023-03-24T11:55:28.087Z"
   },
   {
    "duration": 253,
    "start_time": "2023-03-24T11:55:28.094Z"
   },
   {
    "duration": 6,
    "start_time": "2023-03-24T11:55:28.349Z"
   },
   {
    "duration": 38,
    "start_time": "2023-03-24T11:55:28.357Z"
   },
   {
    "duration": 17,
    "start_time": "2023-03-24T11:55:28.396Z"
   },
   {
    "duration": 21,
    "start_time": "2023-03-24T11:55:28.414Z"
   },
   {
    "duration": 69,
    "start_time": "2023-03-24T11:55:28.439Z"
   },
   {
    "duration": 9,
    "start_time": "2023-03-24T11:55:28.509Z"
   },
   {
    "duration": 9,
    "start_time": "2023-03-24T11:55:28.519Z"
   },
   {
    "duration": 64,
    "start_time": "2023-03-24T11:55:28.530Z"
   },
   {
    "duration": 50,
    "start_time": "2023-03-24T11:55:28.596Z"
   },
   {
    "duration": 60,
    "start_time": "2023-03-24T11:55:28.647Z"
   },
   {
    "duration": 1582,
    "start_time": "2023-03-24T11:55:28.708Z"
   },
   {
    "duration": 0,
    "start_time": "2023-03-24T11:55:30.293Z"
   },
   {
    "duration": 0,
    "start_time": "2023-03-24T11:55:30.294Z"
   },
   {
    "duration": 0,
    "start_time": "2023-03-24T11:55:30.295Z"
   },
   {
    "duration": 0,
    "start_time": "2023-03-24T11:55:30.298Z"
   },
   {
    "duration": 0,
    "start_time": "2023-03-24T11:55:30.299Z"
   },
   {
    "duration": 0,
    "start_time": "2023-03-24T11:55:30.301Z"
   },
   {
    "duration": 0,
    "start_time": "2023-03-24T11:55:30.302Z"
   },
   {
    "duration": 0,
    "start_time": "2023-03-24T11:55:30.303Z"
   },
   {
    "duration": 0,
    "start_time": "2023-03-24T11:55:30.305Z"
   },
   {
    "duration": 0,
    "start_time": "2023-03-24T11:55:30.306Z"
   },
   {
    "duration": 0,
    "start_time": "2023-03-24T11:55:30.308Z"
   },
   {
    "duration": 0,
    "start_time": "2023-03-24T11:55:30.309Z"
   },
   {
    "duration": 0,
    "start_time": "2023-03-24T11:55:30.310Z"
   },
   {
    "duration": 0,
    "start_time": "2023-03-24T11:55:30.312Z"
   },
   {
    "duration": 0,
    "start_time": "2023-03-24T11:55:30.313Z"
   },
   {
    "duration": 0,
    "start_time": "2023-03-24T11:55:30.314Z"
   },
   {
    "duration": 0,
    "start_time": "2023-03-24T11:55:30.316Z"
   },
   {
    "duration": 0,
    "start_time": "2023-03-24T11:55:30.317Z"
   },
   {
    "duration": 0,
    "start_time": "2023-03-24T11:55:30.319Z"
   },
   {
    "duration": 0,
    "start_time": "2023-03-24T11:55:30.320Z"
   },
   {
    "duration": 0,
    "start_time": "2023-03-24T11:55:30.321Z"
   },
   {
    "duration": 0,
    "start_time": "2023-03-24T11:55:30.323Z"
   },
   {
    "duration": 0,
    "start_time": "2023-03-24T11:55:30.324Z"
   },
   {
    "duration": 0,
    "start_time": "2023-03-24T11:55:30.325Z"
   },
   {
    "duration": 0,
    "start_time": "2023-03-24T11:55:30.327Z"
   },
   {
    "duration": 0,
    "start_time": "2023-03-24T11:55:30.328Z"
   },
   {
    "duration": 0,
    "start_time": "2023-03-24T11:55:30.329Z"
   },
   {
    "duration": 0,
    "start_time": "2023-03-24T11:55:30.330Z"
   },
   {
    "duration": 0,
    "start_time": "2023-03-24T11:55:30.332Z"
   },
   {
    "duration": 0,
    "start_time": "2023-03-24T11:55:30.372Z"
   },
   {
    "duration": 1,
    "start_time": "2023-03-24T11:55:30.373Z"
   },
   {
    "duration": 0,
    "start_time": "2023-03-24T11:55:30.375Z"
   },
   {
    "duration": 0,
    "start_time": "2023-03-24T11:55:30.376Z"
   },
   {
    "duration": 0,
    "start_time": "2023-03-24T11:55:30.379Z"
   },
   {
    "duration": 0,
    "start_time": "2023-03-24T11:55:30.380Z"
   },
   {
    "duration": 0,
    "start_time": "2023-03-24T11:55:30.381Z"
   },
   {
    "duration": 2,
    "start_time": "2023-03-24T12:05:26.335Z"
   },
   {
    "duration": 47,
    "start_time": "2023-03-24T12:05:51.039Z"
   },
   {
    "duration": 1551,
    "start_time": "2023-03-24T12:05:55.419Z"
   },
   {
    "duration": 1664,
    "start_time": "2023-03-24T12:06:19.189Z"
   },
   {
    "duration": 1759,
    "start_time": "2023-03-24T12:06:29.624Z"
   },
   {
    "duration": 10,
    "start_time": "2023-03-24T12:07:42.739Z"
   },
   {
    "duration": 14,
    "start_time": "2023-03-24T12:08:09.735Z"
   },
   {
    "duration": 13,
    "start_time": "2023-03-24T12:08:26.428Z"
   },
   {
    "duration": 1584,
    "start_time": "2023-03-24T12:13:04.856Z"
   },
   {
    "duration": 49,
    "start_time": "2023-03-24T12:13:19.559Z"
   },
   {
    "duration": 49,
    "start_time": "2023-03-24T12:13:45.840Z"
   },
   {
    "duration": 51,
    "start_time": "2023-03-24T12:16:37.933Z"
   },
   {
    "duration": 1098,
    "start_time": "2023-03-24T12:16:48.210Z"
   },
   {
    "duration": 216,
    "start_time": "2023-03-24T12:16:49.310Z"
   },
   {
    "duration": 24,
    "start_time": "2023-03-24T12:16:49.527Z"
   },
   {
    "duration": 31,
    "start_time": "2023-03-24T12:16:49.553Z"
   },
   {
    "duration": 29,
    "start_time": "2023-03-24T12:16:49.585Z"
   },
   {
    "duration": 91,
    "start_time": "2023-03-24T12:16:49.615Z"
   },
   {
    "duration": 194,
    "start_time": "2023-03-24T12:16:49.707Z"
   },
   {
    "duration": 230,
    "start_time": "2023-03-24T12:16:49.903Z"
   },
   {
    "duration": 7,
    "start_time": "2023-03-24T12:16:50.135Z"
   },
   {
    "duration": 29,
    "start_time": "2023-03-24T12:16:50.144Z"
   },
   {
    "duration": 105,
    "start_time": "2023-03-24T12:16:50.175Z"
   },
   {
    "duration": 48,
    "start_time": "2023-03-24T12:16:50.282Z"
   },
   {
    "duration": 16,
    "start_time": "2023-03-24T12:16:50.332Z"
   },
   {
    "duration": 35,
    "start_time": "2023-03-24T12:16:50.350Z"
   },
   {
    "duration": 3,
    "start_time": "2023-03-24T12:16:50.387Z"
   },
   {
    "duration": 11,
    "start_time": "2023-03-24T12:16:50.392Z"
   },
   {
    "duration": 7,
    "start_time": "2023-03-24T12:16:50.404Z"
   },
   {
    "duration": 193,
    "start_time": "2023-03-24T12:16:50.412Z"
   },
   {
    "duration": 4,
    "start_time": "2023-03-24T12:16:50.607Z"
   },
   {
    "duration": 247,
    "start_time": "2023-03-24T12:16:50.612Z"
   },
   {
    "duration": 20,
    "start_time": "2023-03-24T12:16:50.860Z"
   },
   {
    "duration": 4,
    "start_time": "2023-03-24T12:16:50.881Z"
   },
   {
    "duration": 249,
    "start_time": "2023-03-24T12:16:50.886Z"
   },
   {
    "duration": 7,
    "start_time": "2023-03-24T12:16:51.136Z"
   },
   {
    "duration": 59,
    "start_time": "2023-03-24T12:16:51.144Z"
   },
   {
    "duration": 18,
    "start_time": "2023-03-24T12:16:51.204Z"
   },
   {
    "duration": 18,
    "start_time": "2023-03-24T12:16:51.224Z"
   },
   {
    "duration": 67,
    "start_time": "2023-03-24T12:16:51.246Z"
   },
   {
    "duration": 8,
    "start_time": "2023-03-24T12:16:51.314Z"
   },
   {
    "duration": 7,
    "start_time": "2023-03-24T12:16:51.324Z"
   },
   {
    "duration": 64,
    "start_time": "2023-03-24T12:16:51.333Z"
   },
   {
    "duration": 49,
    "start_time": "2023-03-24T12:16:51.399Z"
   },
   {
    "duration": 59,
    "start_time": "2023-03-24T12:16:51.450Z"
   },
   {
    "duration": 48,
    "start_time": "2023-03-24T12:16:51.510Z"
   },
   {
    "duration": 196,
    "start_time": "2023-03-24T12:16:51.578Z"
   },
   {
    "duration": 0,
    "start_time": "2023-03-24T12:16:51.776Z"
   },
   {
    "duration": 0,
    "start_time": "2023-03-24T12:16:51.777Z"
   },
   {
    "duration": 0,
    "start_time": "2023-03-24T12:16:51.778Z"
   },
   {
    "duration": 0,
    "start_time": "2023-03-24T12:16:51.779Z"
   },
   {
    "duration": 0,
    "start_time": "2023-03-24T12:16:51.780Z"
   },
   {
    "duration": 1,
    "start_time": "2023-03-24T12:16:51.780Z"
   },
   {
    "duration": 0,
    "start_time": "2023-03-24T12:16:51.781Z"
   },
   {
    "duration": 0,
    "start_time": "2023-03-24T12:16:51.782Z"
   },
   {
    "duration": 0,
    "start_time": "2023-03-24T12:16:51.784Z"
   },
   {
    "duration": 0,
    "start_time": "2023-03-24T12:16:51.785Z"
   },
   {
    "duration": 0,
    "start_time": "2023-03-24T12:16:51.786Z"
   },
   {
    "duration": 0,
    "start_time": "2023-03-24T12:16:51.788Z"
   },
   {
    "duration": 0,
    "start_time": "2023-03-24T12:16:51.789Z"
   },
   {
    "duration": 0,
    "start_time": "2023-03-24T12:16:51.790Z"
   },
   {
    "duration": 0,
    "start_time": "2023-03-24T12:16:51.791Z"
   },
   {
    "duration": 0,
    "start_time": "2023-03-24T12:16:51.792Z"
   },
   {
    "duration": 0,
    "start_time": "2023-03-24T12:16:51.793Z"
   },
   {
    "duration": 0,
    "start_time": "2023-03-24T12:16:51.794Z"
   },
   {
    "duration": 0,
    "start_time": "2023-03-24T12:16:51.794Z"
   },
   {
    "duration": 0,
    "start_time": "2023-03-24T12:16:51.795Z"
   },
   {
    "duration": 0,
    "start_time": "2023-03-24T12:16:51.796Z"
   },
   {
    "duration": 0,
    "start_time": "2023-03-24T12:16:51.797Z"
   },
   {
    "duration": 0,
    "start_time": "2023-03-24T12:16:51.798Z"
   },
   {
    "duration": 0,
    "start_time": "2023-03-24T12:16:51.799Z"
   },
   {
    "duration": 0,
    "start_time": "2023-03-24T12:16:51.799Z"
   },
   {
    "duration": 0,
    "start_time": "2023-03-24T12:16:51.800Z"
   },
   {
    "duration": 0,
    "start_time": "2023-03-24T12:16:51.801Z"
   },
   {
    "duration": 0,
    "start_time": "2023-03-24T12:16:51.802Z"
   },
   {
    "duration": 0,
    "start_time": "2023-03-24T12:16:51.803Z"
   },
   {
    "duration": 0,
    "start_time": "2023-03-24T12:16:51.804Z"
   },
   {
    "duration": 0,
    "start_time": "2023-03-24T12:16:51.805Z"
   },
   {
    "duration": 0,
    "start_time": "2023-03-24T12:16:51.806Z"
   },
   {
    "duration": 0,
    "start_time": "2023-03-24T12:16:51.807Z"
   },
   {
    "duration": 0,
    "start_time": "2023-03-24T12:16:51.808Z"
   },
   {
    "duration": 0,
    "start_time": "2023-03-24T12:16:51.809Z"
   },
   {
    "duration": 58,
    "start_time": "2023-03-24T12:21:41.542Z"
   },
   {
    "duration": 52,
    "start_time": "2023-03-24T12:21:59.681Z"
   },
   {
    "duration": 50,
    "start_time": "2023-03-24T12:22:19.690Z"
   },
   {
    "duration": 55,
    "start_time": "2023-03-24T12:22:34.380Z"
   },
   {
    "duration": 50,
    "start_time": "2023-03-24T12:26:48.157Z"
   },
   {
    "duration": 50,
    "start_time": "2023-03-24T12:29:51.648Z"
   },
   {
    "duration": 29,
    "start_time": "2023-03-24T12:37:36.850Z"
   },
   {
    "duration": 41,
    "start_time": "2023-03-24T12:37:40.484Z"
   },
   {
    "duration": 79,
    "start_time": "2023-03-24T12:41:28.006Z"
   },
   {
    "duration": 99,
    "start_time": "2023-03-24T12:45:05.801Z"
   },
   {
    "duration": 81,
    "start_time": "2023-03-24T12:45:29.742Z"
   },
   {
    "duration": 79,
    "start_time": "2023-03-24T12:45:40.686Z"
   },
   {
    "duration": 30,
    "start_time": "2023-03-24T12:51:44.568Z"
   },
   {
    "duration": 42,
    "start_time": "2023-03-24T12:52:31.883Z"
   },
   {
    "duration": 1451,
    "start_time": "2023-03-24T12:55:01.955Z"
   },
   {
    "duration": 230,
    "start_time": "2023-03-24T12:55:03.408Z"
   },
   {
    "duration": 34,
    "start_time": "2023-03-24T12:55:03.640Z"
   },
   {
    "duration": 24,
    "start_time": "2023-03-24T12:55:03.676Z"
   },
   {
    "duration": 32,
    "start_time": "2023-03-24T12:55:03.701Z"
   },
   {
    "duration": 110,
    "start_time": "2023-03-24T12:55:03.734Z"
   },
   {
    "duration": 217,
    "start_time": "2023-03-24T12:55:03.845Z"
   },
   {
    "duration": 264,
    "start_time": "2023-03-24T12:55:04.064Z"
   },
   {
    "duration": 7,
    "start_time": "2023-03-24T12:55:04.329Z"
   },
   {
    "duration": 34,
    "start_time": "2023-03-24T12:55:04.339Z"
   },
   {
    "duration": 118,
    "start_time": "2023-03-24T12:55:04.374Z"
   },
   {
    "duration": 48,
    "start_time": "2023-03-24T12:55:04.494Z"
   },
   {
    "duration": 29,
    "start_time": "2023-03-24T12:55:04.543Z"
   },
   {
    "duration": 18,
    "start_time": "2023-03-24T12:55:04.573Z"
   },
   {
    "duration": 3,
    "start_time": "2023-03-24T12:55:04.592Z"
   },
   {
    "duration": 10,
    "start_time": "2023-03-24T12:55:04.597Z"
   },
   {
    "duration": 6,
    "start_time": "2023-03-24T12:55:04.608Z"
   },
   {
    "duration": 205,
    "start_time": "2023-03-24T12:55:04.615Z"
   },
   {
    "duration": 4,
    "start_time": "2023-03-24T12:55:04.821Z"
   },
   {
    "duration": 299,
    "start_time": "2023-03-24T12:55:04.826Z"
   },
   {
    "duration": 20,
    "start_time": "2023-03-24T12:55:05.127Z"
   },
   {
    "duration": 10,
    "start_time": "2023-03-24T12:55:05.148Z"
   },
   {
    "duration": 263,
    "start_time": "2023-03-24T12:55:05.172Z"
   },
   {
    "duration": 6,
    "start_time": "2023-03-24T12:55:05.437Z"
   },
   {
    "duration": 48,
    "start_time": "2023-03-24T12:55:05.445Z"
   },
   {
    "duration": 18,
    "start_time": "2023-03-24T12:55:05.495Z"
   },
   {
    "duration": 19,
    "start_time": "2023-03-24T12:55:05.514Z"
   },
   {
    "duration": 68,
    "start_time": "2023-03-24T12:55:05.537Z"
   },
   {
    "duration": 11,
    "start_time": "2023-03-24T12:55:05.607Z"
   },
   {
    "duration": 9,
    "start_time": "2023-03-24T12:55:05.620Z"
   },
   {
    "duration": 69,
    "start_time": "2023-03-24T12:55:05.630Z"
   },
   {
    "duration": 71,
    "start_time": "2023-03-24T12:55:05.701Z"
   },
   {
    "duration": 50,
    "start_time": "2023-03-24T12:55:05.774Z"
   },
   {
    "duration": 69,
    "start_time": "2023-03-24T12:55:05.827Z"
   },
   {
    "duration": 28,
    "start_time": "2023-03-24T12:55:05.898Z"
   },
   {
    "duration": 59,
    "start_time": "2023-03-24T12:55:05.927Z"
   },
   {
    "duration": 94,
    "start_time": "2023-03-24T12:55:05.988Z"
   },
   {
    "duration": 125,
    "start_time": "2023-03-24T12:55:06.084Z"
   },
   {
    "duration": 37,
    "start_time": "2023-03-24T12:55:06.211Z"
   },
   {
    "duration": 95,
    "start_time": "2023-03-24T12:55:06.250Z"
   },
   {
    "duration": 28,
    "start_time": "2023-03-24T12:55:06.347Z"
   },
   {
    "duration": 17,
    "start_time": "2023-03-24T12:55:06.377Z"
   },
   {
    "duration": 74,
    "start_time": "2023-03-24T12:55:06.396Z"
   },
   {
    "duration": 67,
    "start_time": "2023-03-24T12:55:06.471Z"
   },
   {
    "duration": 16,
    "start_time": "2023-03-24T12:55:06.540Z"
   },
   {
    "duration": 14,
    "start_time": "2023-03-24T12:55:06.558Z"
   },
   {
    "duration": 42,
    "start_time": "2023-03-24T12:55:06.574Z"
   },
   {
    "duration": 55,
    "start_time": "2023-03-24T12:55:06.618Z"
   },
   {
    "duration": 39,
    "start_time": "2023-03-24T12:55:06.674Z"
   },
   {
    "duration": 66,
    "start_time": "2023-03-24T12:55:06.714Z"
   },
   {
    "duration": 35,
    "start_time": "2023-03-24T12:55:06.782Z"
   },
   {
    "duration": 62,
    "start_time": "2023-03-24T12:55:06.819Z"
   },
   {
    "duration": 20,
    "start_time": "2023-03-24T12:55:06.883Z"
   },
   {
    "duration": 20,
    "start_time": "2023-03-24T12:55:06.904Z"
   },
   {
    "duration": 87,
    "start_time": "2023-03-24T12:55:06.925Z"
   },
   {
    "duration": 79,
    "start_time": "2023-03-24T12:55:07.014Z"
   },
   {
    "duration": 39,
    "start_time": "2023-03-24T12:55:07.095Z"
   },
   {
    "duration": 63,
    "start_time": "2023-03-24T12:55:07.136Z"
   },
   {
    "duration": 38,
    "start_time": "2023-03-24T12:55:07.200Z"
   },
   {
    "duration": 59,
    "start_time": "2023-03-24T12:55:07.239Z"
   },
   {
    "duration": 33,
    "start_time": "2023-03-24T12:55:07.300Z"
   },
   {
    "duration": 62,
    "start_time": "2023-03-24T12:55:07.335Z"
   },
   {
    "duration": 54,
    "start_time": "2023-03-24T12:55:07.399Z"
   },
   {
    "duration": 83,
    "start_time": "2023-03-24T12:55:07.455Z"
   },
   {
    "duration": 49,
    "start_time": "2023-03-24T12:55:07.539Z"
   },
   {
    "duration": 42,
    "start_time": "2023-03-24T12:55:07.590Z"
   },
   {
    "duration": 50,
    "start_time": "2023-03-24T12:55:07.634Z"
   },
   {
    "duration": 56,
    "start_time": "2023-03-24T12:55:07.686Z"
   },
   {
    "duration": 49,
    "start_time": "2023-03-24T12:55:07.744Z"
   },
   {
    "duration": 52,
    "start_time": "2023-03-24T12:55:07.794Z"
   },
   {
    "duration": 5,
    "start_time": "2023-03-24T12:58:34.642Z"
   },
   {
    "duration": 2,
    "start_time": "2023-03-24T13:01:35.243Z"
   },
   {
    "duration": 28,
    "start_time": "2023-03-24T13:06:54.383Z"
   },
   {
    "duration": 9,
    "start_time": "2023-03-24T13:34:57.861Z"
   },
   {
    "duration": 1293,
    "start_time": "2023-03-24T17:15:01.404Z"
   },
   {
    "duration": 242,
    "start_time": "2023-03-24T17:15:02.699Z"
   },
   {
    "duration": 37,
    "start_time": "2023-03-24T17:15:02.942Z"
   },
   {
    "duration": 24,
    "start_time": "2023-03-24T17:15:02.981Z"
   },
   {
    "duration": 37,
    "start_time": "2023-03-24T17:15:03.008Z"
   },
   {
    "duration": 142,
    "start_time": "2023-03-24T17:15:03.046Z"
   },
   {
    "duration": 257,
    "start_time": "2023-03-24T17:15:03.191Z"
   },
   {
    "duration": 262,
    "start_time": "2023-03-24T17:15:03.450Z"
   },
   {
    "duration": 9,
    "start_time": "2023-03-24T17:15:03.714Z"
   },
   {
    "duration": 35,
    "start_time": "2023-03-24T17:15:03.725Z"
   },
   {
    "duration": 131,
    "start_time": "2023-03-24T17:15:03.762Z"
   },
   {
    "duration": 55,
    "start_time": "2023-03-24T17:15:03.895Z"
   },
   {
    "duration": 34,
    "start_time": "2023-03-24T17:15:03.952Z"
   },
   {
    "duration": 22,
    "start_time": "2023-03-24T17:15:03.990Z"
   },
   {
    "duration": 4,
    "start_time": "2023-03-24T17:15:04.016Z"
   },
   {
    "duration": 13,
    "start_time": "2023-03-24T17:15:04.022Z"
   },
   {
    "duration": 9,
    "start_time": "2023-03-24T17:15:04.038Z"
   },
   {
    "duration": 299,
    "start_time": "2023-03-24T17:15:04.076Z"
   },
   {
    "duration": 7,
    "start_time": "2023-03-24T17:15:04.377Z"
   },
   {
    "duration": 355,
    "start_time": "2023-03-24T17:15:04.386Z"
   },
   {
    "duration": 16,
    "start_time": "2023-03-24T17:15:04.742Z"
   },
   {
    "duration": 25,
    "start_time": "2023-03-24T17:15:04.760Z"
   },
   {
    "duration": 351,
    "start_time": "2023-03-24T17:15:04.787Z"
   },
   {
    "duration": 7,
    "start_time": "2023-03-24T17:15:05.141Z"
   },
   {
    "duration": 64,
    "start_time": "2023-03-24T17:15:05.150Z"
   },
   {
    "duration": 27,
    "start_time": "2023-03-24T17:15:05.217Z"
   },
   {
    "duration": 36,
    "start_time": "2023-03-24T17:15:05.246Z"
   },
   {
    "duration": 65,
    "start_time": "2023-03-24T17:15:05.284Z"
   },
   {
    "duration": 30,
    "start_time": "2023-03-24T17:15:05.350Z"
   },
   {
    "duration": 6,
    "start_time": "2023-03-24T17:15:05.381Z"
   },
   {
    "duration": 60,
    "start_time": "2023-03-24T17:15:05.388Z"
   },
   {
    "duration": 74,
    "start_time": "2023-03-24T17:15:05.450Z"
   },
   {
    "duration": 68,
    "start_time": "2023-03-24T17:15:05.526Z"
   },
   {
    "duration": 55,
    "start_time": "2023-03-24T17:15:05.596Z"
   },
   {
    "duration": 44,
    "start_time": "2023-03-24T17:15:05.653Z"
   },
   {
    "duration": 43,
    "start_time": "2023-03-24T17:15:05.699Z"
   },
   {
    "duration": 107,
    "start_time": "2023-03-24T17:15:05.744Z"
   },
   {
    "duration": 128,
    "start_time": "2023-03-24T17:15:05.853Z"
   },
   {
    "duration": 46,
    "start_time": "2023-03-24T17:15:05.983Z"
   },
   {
    "duration": 8,
    "start_time": "2023-03-24T17:15:06.030Z"
   },
   {
    "duration": 107,
    "start_time": "2023-03-24T17:15:06.042Z"
   },
   {
    "duration": 36,
    "start_time": "2023-03-24T17:15:06.151Z"
   },
   {
    "duration": 35,
    "start_time": "2023-03-24T17:15:06.189Z"
   },
   {
    "duration": 73,
    "start_time": "2023-03-24T17:15:06.225Z"
   },
   {
    "duration": 78,
    "start_time": "2023-03-24T17:15:06.300Z"
   },
   {
    "duration": 22,
    "start_time": "2023-03-24T17:15:06.380Z"
   },
   {
    "duration": 4,
    "start_time": "2023-03-24T17:15:06.404Z"
   },
   {
    "duration": 67,
    "start_time": "2023-03-24T17:15:06.410Z"
   },
   {
    "duration": 49,
    "start_time": "2023-03-24T17:15:06.478Z"
   },
   {
    "duration": 59,
    "start_time": "2023-03-24T17:15:06.529Z"
   },
   {
    "duration": 60,
    "start_time": "2023-03-24T17:15:06.590Z"
   },
   {
    "duration": 54,
    "start_time": "2023-03-24T17:15:06.652Z"
   },
   {
    "duration": 47,
    "start_time": "2023-03-24T17:15:06.708Z"
   },
   {
    "duration": 26,
    "start_time": "2023-03-24T17:15:06.776Z"
   },
   {
    "duration": 25,
    "start_time": "2023-03-24T17:15:06.804Z"
   },
   {
    "duration": 91,
    "start_time": "2023-03-24T17:15:06.831Z"
   },
   {
    "duration": 94,
    "start_time": "2023-03-24T17:15:06.924Z"
   },
   {
    "duration": 40,
    "start_time": "2023-03-24T17:15:07.020Z"
   },
   {
    "duration": 51,
    "start_time": "2023-03-24T17:15:07.075Z"
   },
   {
    "duration": 61,
    "start_time": "2023-03-24T17:15:07.128Z"
   },
   {
    "duration": 53,
    "start_time": "2023-03-24T17:15:07.191Z"
   },
   {
    "duration": 53,
    "start_time": "2023-03-24T17:15:07.245Z"
   },
   {
    "duration": 48,
    "start_time": "2023-03-24T17:15:07.299Z"
   },
   {
    "duration": 95,
    "start_time": "2023-03-24T17:15:07.349Z"
   },
   {
    "duration": 92,
    "start_time": "2023-03-24T17:15:07.446Z"
   },
   {
    "duration": 57,
    "start_time": "2023-03-24T17:15:07.540Z"
   },
   {
    "duration": 55,
    "start_time": "2023-03-24T17:15:07.600Z"
   },
   {
    "duration": 56,
    "start_time": "2023-03-24T17:15:07.657Z"
   },
   {
    "duration": 72,
    "start_time": "2023-03-24T17:15:07.715Z"
   },
   {
    "duration": 39,
    "start_time": "2023-03-24T17:15:07.789Z"
   },
   {
    "duration": 63,
    "start_time": "2023-03-24T17:15:07.830Z"
   },
   {
    "duration": 17,
    "start_time": "2023-03-24T17:19:54.243Z"
   },
   {
    "duration": 52,
    "start_time": "2023-03-24T17:36:08.851Z"
   },
   {
    "duration": 1508,
    "start_time": "2023-03-24T17:36:34.326Z"
   },
   {
    "duration": 376,
    "start_time": "2023-03-24T17:36:35.836Z"
   },
   {
    "duration": 32,
    "start_time": "2023-03-24T17:36:36.214Z"
   },
   {
    "duration": 28,
    "start_time": "2023-03-24T17:36:36.248Z"
   },
   {
    "duration": 43,
    "start_time": "2023-03-24T17:36:36.278Z"
   },
   {
    "duration": 114,
    "start_time": "2023-03-24T17:36:36.322Z"
   },
   {
    "duration": 233,
    "start_time": "2023-03-24T17:36:36.438Z"
   },
   {
    "duration": 233,
    "start_time": "2023-03-24T17:36:36.673Z"
   },
   {
    "duration": 8,
    "start_time": "2023-03-24T17:36:36.908Z"
   },
   {
    "duration": 20,
    "start_time": "2023-03-24T17:36:36.918Z"
   },
   {
    "duration": 155,
    "start_time": "2023-03-24T17:36:36.939Z"
   },
   {
    "duration": 62,
    "start_time": "2023-03-24T17:36:37.096Z"
   },
   {
    "duration": 36,
    "start_time": "2023-03-24T17:36:37.160Z"
   },
   {
    "duration": 22,
    "start_time": "2023-03-24T17:36:37.199Z"
   },
   {
    "duration": 4,
    "start_time": "2023-03-24T17:36:37.223Z"
   },
   {
    "duration": 12,
    "start_time": "2023-03-24T17:36:37.228Z"
   },
   {
    "duration": 7,
    "start_time": "2023-03-24T17:36:37.242Z"
   },
   {
    "duration": 257,
    "start_time": "2023-03-24T17:36:37.251Z"
   },
   {
    "duration": 5,
    "start_time": "2023-03-24T17:36:37.510Z"
   },
   {
    "duration": 712,
    "start_time": "2023-03-24T17:36:37.517Z"
   },
   {
    "duration": 17,
    "start_time": "2023-03-24T17:36:38.231Z"
   },
   {
    "duration": 6,
    "start_time": "2023-03-24T17:36:38.250Z"
   },
   {
    "duration": 438,
    "start_time": "2023-03-24T17:36:38.257Z"
   },
   {
    "duration": 8,
    "start_time": "2023-03-24T17:36:38.696Z"
   },
   {
    "duration": 37,
    "start_time": "2023-03-24T17:36:38.706Z"
   },
   {
    "duration": 48,
    "start_time": "2023-03-24T17:36:38.745Z"
   },
   {
    "duration": 28,
    "start_time": "2023-03-24T17:36:38.795Z"
   },
   {
    "duration": 69,
    "start_time": "2023-03-24T17:36:38.825Z"
   },
   {
    "duration": 10,
    "start_time": "2023-03-24T17:36:38.895Z"
   },
   {
    "duration": 5,
    "start_time": "2023-03-24T17:36:38.907Z"
   },
   {
    "duration": 82,
    "start_time": "2023-03-24T17:36:38.913Z"
   },
   {
    "duration": 60,
    "start_time": "2023-03-24T17:36:38.996Z"
   },
   {
    "duration": 70,
    "start_time": "2023-03-24T17:36:39.057Z"
   },
   {
    "duration": 74,
    "start_time": "2023-03-24T17:36:39.129Z"
   },
   {
    "duration": 33,
    "start_time": "2023-03-24T17:36:39.205Z"
   },
   {
    "duration": 58,
    "start_time": "2023-03-24T17:36:39.239Z"
   },
   {
    "duration": 100,
    "start_time": "2023-03-24T17:36:39.298Z"
   },
   {
    "duration": 112,
    "start_time": "2023-03-24T17:36:39.400Z"
   },
   {
    "duration": 34,
    "start_time": "2023-03-24T17:36:39.514Z"
   },
   {
    "duration": 7,
    "start_time": "2023-03-24T17:36:39.551Z"
   },
   {
    "duration": 98,
    "start_time": "2023-03-24T17:36:39.563Z"
   },
   {
    "duration": 34,
    "start_time": "2023-03-24T17:36:39.663Z"
   },
   {
    "duration": 24,
    "start_time": "2023-03-24T17:36:39.699Z"
   },
   {
    "duration": 83,
    "start_time": "2023-03-24T17:36:39.724Z"
   },
   {
    "duration": 90,
    "start_time": "2023-03-24T17:36:39.809Z"
   },
   {
    "duration": 22,
    "start_time": "2023-03-24T17:36:39.902Z"
   },
   {
    "duration": 27,
    "start_time": "2023-03-24T17:36:39.926Z"
   },
   {
    "duration": 53,
    "start_time": "2023-03-24T17:36:39.955Z"
   },
   {
    "duration": 52,
    "start_time": "2023-03-24T17:36:40.010Z"
   },
   {
    "duration": 55,
    "start_time": "2023-03-24T17:36:40.064Z"
   },
   {
    "duration": 67,
    "start_time": "2023-03-24T17:36:40.121Z"
   },
   {
    "duration": 39,
    "start_time": "2023-03-24T17:36:40.190Z"
   },
   {
    "duration": 69,
    "start_time": "2023-03-24T17:36:40.230Z"
   },
   {
    "duration": 21,
    "start_time": "2023-03-24T17:36:40.300Z"
   },
   {
    "duration": 21,
    "start_time": "2023-03-24T17:36:40.322Z"
   },
   {
    "duration": 87,
    "start_time": "2023-03-24T17:36:40.345Z"
   },
   {
    "duration": 114,
    "start_time": "2023-03-24T17:36:40.434Z"
   },
   {
    "duration": 66,
    "start_time": "2023-03-24T17:36:40.551Z"
   },
   {
    "duration": 57,
    "start_time": "2023-03-24T17:36:40.620Z"
   },
   {
    "duration": 44,
    "start_time": "2023-03-24T17:36:40.688Z"
   },
   {
    "duration": 74,
    "start_time": "2023-03-24T17:36:40.733Z"
   },
   {
    "duration": 43,
    "start_time": "2023-03-24T17:36:40.809Z"
   },
   {
    "duration": 68,
    "start_time": "2023-03-24T17:36:40.854Z"
   },
   {
    "duration": 72,
    "start_time": "2023-03-24T17:36:40.923Z"
   },
   {
    "duration": 91,
    "start_time": "2023-03-24T17:36:40.997Z"
   },
   {
    "duration": 48,
    "start_time": "2023-03-24T17:36:41.090Z"
   },
   {
    "duration": 80,
    "start_time": "2023-03-24T17:36:41.140Z"
   },
   {
    "duration": 42,
    "start_time": "2023-03-24T17:36:41.222Z"
   },
   {
    "duration": 73,
    "start_time": "2023-03-24T17:36:41.266Z"
   },
   {
    "duration": 53,
    "start_time": "2023-03-24T17:36:41.340Z"
   },
   {
    "duration": 48,
    "start_time": "2023-03-24T17:36:41.395Z"
   },
   {
    "duration": 11,
    "start_time": "2023-03-24T18:16:01.169Z"
   },
   {
    "duration": 46,
    "start_time": "2023-03-24T18:19:55.997Z"
   },
   {
    "duration": 1487,
    "start_time": "2023-03-25T16:50:35.779Z"
   },
   {
    "duration": 272,
    "start_time": "2023-03-25T16:50:37.268Z"
   },
   {
    "duration": 28,
    "start_time": "2023-03-25T16:50:37.542Z"
   },
   {
    "duration": 53,
    "start_time": "2023-03-25T16:50:37.572Z"
   },
   {
    "duration": 34,
    "start_time": "2023-03-25T16:50:37.627Z"
   },
   {
    "duration": 109,
    "start_time": "2023-03-25T16:50:37.663Z"
   },
   {
    "duration": 232,
    "start_time": "2023-03-25T16:50:37.774Z"
   },
   {
    "duration": 265,
    "start_time": "2023-03-25T16:50:38.007Z"
   },
   {
    "duration": 8,
    "start_time": "2023-03-25T16:50:38.273Z"
   },
   {
    "duration": 32,
    "start_time": "2023-03-25T16:50:38.309Z"
   },
   {
    "duration": 146,
    "start_time": "2023-03-25T16:50:38.343Z"
   },
   {
    "duration": 64,
    "start_time": "2023-03-25T16:50:38.491Z"
   },
   {
    "duration": 18,
    "start_time": "2023-03-25T16:50:38.557Z"
   },
   {
    "duration": 44,
    "start_time": "2023-03-25T16:50:38.576Z"
   },
   {
    "duration": 5,
    "start_time": "2023-03-25T16:50:38.622Z"
   },
   {
    "duration": 10,
    "start_time": "2023-03-25T16:50:38.629Z"
   },
   {
    "duration": 9,
    "start_time": "2023-03-25T16:50:38.641Z"
   },
   {
    "duration": 401,
    "start_time": "2023-03-25T16:50:38.652Z"
   },
   {
    "duration": 6,
    "start_time": "2023-03-25T16:50:39.054Z"
   },
   {
    "duration": 931,
    "start_time": "2023-03-25T16:50:39.061Z"
   },
   {
    "duration": 32,
    "start_time": "2023-03-25T16:50:39.994Z"
   },
   {
    "duration": 10,
    "start_time": "2023-03-25T16:50:40.030Z"
   },
   {
    "duration": 465,
    "start_time": "2023-03-25T16:50:40.042Z"
   },
   {
    "duration": 9,
    "start_time": "2023-03-25T16:50:40.509Z"
   },
   {
    "duration": 11,
    "start_time": "2023-03-25T16:50:40.521Z"
   },
   {
    "duration": 23,
    "start_time": "2023-03-25T16:50:40.534Z"
   },
   {
    "duration": 20,
    "start_time": "2023-03-25T16:50:40.559Z"
   },
   {
    "duration": 67,
    "start_time": "2023-03-25T16:50:40.605Z"
   },
   {
    "duration": 10,
    "start_time": "2023-03-25T16:50:40.673Z"
   },
   {
    "duration": 28,
    "start_time": "2023-03-25T16:50:40.685Z"
   },
   {
    "duration": 65,
    "start_time": "2023-03-25T16:50:40.714Z"
   },
   {
    "duration": 65,
    "start_time": "2023-03-25T16:50:40.780Z"
   },
   {
    "duration": 79,
    "start_time": "2023-03-25T16:50:40.846Z"
   },
   {
    "duration": 57,
    "start_time": "2023-03-25T16:50:40.927Z"
   },
   {
    "duration": 56,
    "start_time": "2023-03-25T16:50:40.985Z"
   },
   {
    "duration": 43,
    "start_time": "2023-03-25T16:50:41.042Z"
   },
   {
    "duration": 133,
    "start_time": "2023-03-25T16:50:41.087Z"
   },
   {
    "duration": 121,
    "start_time": "2023-03-25T16:50:41.222Z"
   },
   {
    "duration": 37,
    "start_time": "2023-03-25T16:50:41.344Z"
   },
   {
    "duration": 7,
    "start_time": "2023-03-25T16:50:41.383Z"
   },
   {
    "duration": 84,
    "start_time": "2023-03-25T16:50:41.402Z"
   },
   {
    "duration": 26,
    "start_time": "2023-03-25T16:50:41.488Z"
   },
   {
    "duration": 28,
    "start_time": "2023-03-25T16:50:41.516Z"
   },
   {
    "duration": 89,
    "start_time": "2023-03-25T16:50:41.546Z"
   },
   {
    "duration": 91,
    "start_time": "2023-03-25T16:50:41.638Z"
   },
   {
    "duration": 21,
    "start_time": "2023-03-25T16:50:41.731Z"
   },
   {
    "duration": 4,
    "start_time": "2023-03-25T16:50:41.754Z"
   },
   {
    "duration": 59,
    "start_time": "2023-03-25T16:50:41.760Z"
   },
   {
    "duration": 57,
    "start_time": "2023-03-25T16:50:41.821Z"
   },
   {
    "duration": 64,
    "start_time": "2023-03-25T16:50:41.880Z"
   },
   {
    "duration": 80,
    "start_time": "2023-03-25T16:50:41.946Z"
   },
   {
    "duration": 47,
    "start_time": "2023-03-25T16:50:42.028Z"
   },
   {
    "duration": 76,
    "start_time": "2023-03-25T16:50:42.077Z"
   },
   {
    "duration": 23,
    "start_time": "2023-03-25T16:50:42.155Z"
   },
   {
    "duration": 42,
    "start_time": "2023-03-25T16:50:42.179Z"
   },
   {
    "duration": 69,
    "start_time": "2023-03-25T16:50:42.224Z"
   },
   {
    "duration": 79,
    "start_time": "2023-03-25T16:50:42.304Z"
   },
   {
    "duration": 60,
    "start_time": "2023-03-25T16:50:42.385Z"
   },
   {
    "duration": 59,
    "start_time": "2023-03-25T16:50:42.447Z"
   },
   {
    "duration": 50,
    "start_time": "2023-03-25T16:50:42.508Z"
   },
   {
    "duration": 58,
    "start_time": "2023-03-25T16:50:42.560Z"
   },
   {
    "duration": 43,
    "start_time": "2023-03-25T16:50:42.620Z"
   },
   {
    "duration": 57,
    "start_time": "2023-03-25T16:50:42.665Z"
   },
   {
    "duration": 62,
    "start_time": "2023-03-25T16:50:42.724Z"
   },
   {
    "duration": 86,
    "start_time": "2023-03-25T16:50:42.787Z"
   },
   {
    "duration": 55,
    "start_time": "2023-03-25T16:50:42.874Z"
   },
   {
    "duration": 50,
    "start_time": "2023-03-25T16:50:42.931Z"
   },
   {
    "duration": 57,
    "start_time": "2023-03-25T16:50:42.983Z"
   },
   {
    "duration": 45,
    "start_time": "2023-03-25T16:50:43.042Z"
   },
   {
    "duration": 50,
    "start_time": "2023-03-25T16:50:43.102Z"
   },
   {
    "duration": 38,
    "start_time": "2023-03-25T16:50:43.154Z"
   },
   {
    "duration": 50,
    "start_time": "2023-03-25T17:33:33.715Z"
   },
   {
    "duration": 1416,
    "start_time": "2023-03-25T17:33:55.187Z"
   },
   {
    "duration": 1027,
    "start_time": "2023-03-25T17:33:56.605Z"
   },
   {
    "duration": 28,
    "start_time": "2023-03-25T17:33:57.634Z"
   },
   {
    "duration": 22,
    "start_time": "2023-03-25T17:33:57.664Z"
   },
   {
    "duration": 33,
    "start_time": "2023-03-25T17:33:57.689Z"
   },
   {
    "duration": 107,
    "start_time": "2023-03-25T17:33:57.723Z"
   },
   {
    "duration": 223,
    "start_time": "2023-03-25T17:33:57.832Z"
   },
   {
    "duration": 231,
    "start_time": "2023-03-25T17:33:58.057Z"
   },
   {
    "duration": 7,
    "start_time": "2023-03-25T17:33:58.290Z"
   },
   {
    "duration": 21,
    "start_time": "2023-03-25T17:33:58.300Z"
   },
   {
    "duration": 138,
    "start_time": "2023-03-25T17:33:58.322Z"
   },
   {
    "duration": 64,
    "start_time": "2023-03-25T17:33:58.462Z"
   },
   {
    "duration": 18,
    "start_time": "2023-03-25T17:33:58.528Z"
   },
   {
    "duration": 39,
    "start_time": "2023-03-25T17:33:58.548Z"
   },
   {
    "duration": 4,
    "start_time": "2023-03-25T17:33:58.589Z"
   },
   {
    "duration": 14,
    "start_time": "2023-03-25T17:33:58.595Z"
   },
   {
    "duration": 9,
    "start_time": "2023-03-25T17:33:58.611Z"
   },
   {
    "duration": 238,
    "start_time": "2023-03-25T17:33:58.622Z"
   },
   {
    "duration": 14,
    "start_time": "2023-03-25T17:33:58.862Z"
   },
   {
    "duration": 656,
    "start_time": "2023-03-25T17:33:58.877Z"
   },
   {
    "duration": 16,
    "start_time": "2023-03-25T17:33:59.535Z"
   },
   {
    "duration": 23,
    "start_time": "2023-03-25T17:33:59.552Z"
   },
   {
    "duration": 386,
    "start_time": "2023-03-25T17:33:59.576Z"
   },
   {
    "duration": 15,
    "start_time": "2023-03-25T17:33:59.963Z"
   },
   {
    "duration": 11,
    "start_time": "2023-03-25T17:33:59.979Z"
   },
   {
    "duration": 20,
    "start_time": "2023-03-25T17:33:59.992Z"
   },
   {
    "duration": 21,
    "start_time": "2023-03-25T17:34:00.014Z"
   },
   {
    "duration": 77,
    "start_time": "2023-03-25T17:34:00.039Z"
   },
   {
    "duration": 10,
    "start_time": "2023-03-25T17:34:00.118Z"
   },
   {
    "duration": 27,
    "start_time": "2023-03-25T17:34:00.129Z"
   },
   {
    "duration": 78,
    "start_time": "2023-03-25T17:34:00.157Z"
   },
   {
    "duration": 60,
    "start_time": "2023-03-25T17:34:00.237Z"
   },
   {
    "duration": 52,
    "start_time": "2023-03-25T17:34:00.298Z"
   },
   {
    "duration": 84,
    "start_time": "2023-03-25T17:34:00.352Z"
   },
   {
    "duration": 41,
    "start_time": "2023-03-25T17:34:00.438Z"
   },
   {
    "duration": 99,
    "start_time": "2023-03-25T17:34:00.481Z"
   },
   {
    "duration": 193,
    "start_time": "2023-03-25T17:34:00.582Z"
   },
   {
    "duration": 204,
    "start_time": "2023-03-25T17:34:00.777Z"
   },
   {
    "duration": 34,
    "start_time": "2023-03-25T17:34:00.983Z"
   },
   {
    "duration": 212,
    "start_time": "2023-03-25T17:34:01.074Z"
   },
   {
    "duration": 7,
    "start_time": "2023-03-25T17:34:01.288Z"
   },
   {
    "duration": 197,
    "start_time": "2023-03-25T17:34:01.296Z"
   },
   {
    "duration": 20,
    "start_time": "2023-03-25T17:34:01.494Z"
   },
   {
    "duration": 74,
    "start_time": "2023-03-25T17:34:01.516Z"
   },
   {
    "duration": 123,
    "start_time": "2023-03-25T17:34:01.592Z"
   },
   {
    "duration": 173,
    "start_time": "2023-03-25T17:34:01.717Z"
   },
   {
    "duration": 20,
    "start_time": "2023-03-25T17:34:01.892Z"
   },
   {
    "duration": 6,
    "start_time": "2023-03-25T17:34:01.914Z"
   },
   {
    "duration": 111,
    "start_time": "2023-03-25T17:34:01.921Z"
   },
   {
    "duration": 142,
    "start_time": "2023-03-25T17:34:02.034Z"
   },
   {
    "duration": 38,
    "start_time": "2023-03-25T17:34:02.177Z"
   },
   {
    "duration": 166,
    "start_time": "2023-03-25T17:34:02.217Z"
   },
   {
    "duration": 40,
    "start_time": "2023-03-25T17:34:02.384Z"
   },
   {
    "duration": 89,
    "start_time": "2023-03-25T17:34:02.426Z"
   },
   {
    "duration": 19,
    "start_time": "2023-03-25T17:34:02.517Z"
   },
   {
    "duration": 43,
    "start_time": "2023-03-25T17:34:02.537Z"
   },
   {
    "duration": 56,
    "start_time": "2023-03-25T17:34:02.582Z"
   },
   {
    "duration": 87,
    "start_time": "2023-03-25T17:34:02.639Z"
   },
   {
    "duration": 50,
    "start_time": "2023-03-25T17:34:02.727Z"
   },
   {
    "duration": 49,
    "start_time": "2023-03-25T17:34:02.779Z"
   },
   {
    "duration": 57,
    "start_time": "2023-03-25T17:34:02.830Z"
   },
   {
    "duration": 50,
    "start_time": "2023-03-25T17:34:02.889Z"
   },
   {
    "duration": 53,
    "start_time": "2023-03-25T17:34:02.941Z"
   },
   {
    "duration": 45,
    "start_time": "2023-03-25T17:34:02.996Z"
   },
   {
    "duration": 69,
    "start_time": "2023-03-25T17:34:03.042Z"
   },
   {
    "duration": 76,
    "start_time": "2023-03-25T17:34:03.112Z"
   },
   {
    "duration": 35,
    "start_time": "2023-03-25T17:34:03.189Z"
   },
   {
    "duration": 62,
    "start_time": "2023-03-25T17:34:03.225Z"
   },
   {
    "duration": 35,
    "start_time": "2023-03-25T17:34:03.288Z"
   },
   {
    "duration": 62,
    "start_time": "2023-03-25T17:34:03.325Z"
   },
   {
    "duration": 34,
    "start_time": "2023-03-25T17:34:03.388Z"
   },
   {
    "duration": 59,
    "start_time": "2023-03-25T17:34:03.423Z"
   },
   {
    "duration": 71,
    "start_time": "2023-03-25T17:34:29.339Z"
   },
   {
    "duration": 8,
    "start_time": "2023-03-25T17:35:36.189Z"
   },
   {
    "duration": 97,
    "start_time": "2023-03-25T17:36:13.521Z"
   },
   {
    "duration": 105,
    "start_time": "2023-03-25T17:36:50.534Z"
   },
   {
    "duration": 102,
    "start_time": "2023-03-25T17:37:10.980Z"
   },
   {
    "duration": 159,
    "start_time": "2023-03-25T17:37:26.509Z"
   },
   {
    "duration": 1341,
    "start_time": "2023-03-25T17:40:12.192Z"
   },
   {
    "duration": 247,
    "start_time": "2023-03-25T17:40:13.535Z"
   },
   {
    "duration": 29,
    "start_time": "2023-03-25T17:40:13.784Z"
   },
   {
    "duration": 22,
    "start_time": "2023-03-25T17:40:13.815Z"
   },
   {
    "duration": 59,
    "start_time": "2023-03-25T17:40:13.839Z"
   },
   {
    "duration": 98,
    "start_time": "2023-03-25T17:40:13.900Z"
   },
   {
    "duration": 302,
    "start_time": "2023-03-25T17:40:14.000Z"
   },
   {
    "duration": 308,
    "start_time": "2023-03-25T17:40:14.305Z"
   },
   {
    "duration": 9,
    "start_time": "2023-03-25T17:40:14.614Z"
   },
   {
    "duration": 17,
    "start_time": "2023-03-25T17:40:14.626Z"
   },
   {
    "duration": 153,
    "start_time": "2023-03-25T17:40:14.645Z"
   },
   {
    "duration": 91,
    "start_time": "2023-03-25T17:40:14.802Z"
   },
   {
    "duration": 20,
    "start_time": "2023-03-25T17:40:14.895Z"
   },
   {
    "duration": 29,
    "start_time": "2023-03-25T17:40:14.917Z"
   },
   {
    "duration": 29,
    "start_time": "2023-03-25T17:40:14.948Z"
   },
   {
    "duration": 12,
    "start_time": "2023-03-25T17:40:14.979Z"
   },
   {
    "duration": 11,
    "start_time": "2023-03-25T17:40:14.993Z"
   },
   {
    "duration": 253,
    "start_time": "2023-03-25T17:40:15.006Z"
   },
   {
    "duration": 15,
    "start_time": "2023-03-25T17:40:15.260Z"
   },
   {
    "duration": 691,
    "start_time": "2023-03-25T17:40:15.277Z"
   },
   {
    "duration": 18,
    "start_time": "2023-03-25T17:40:15.970Z"
   },
   {
    "duration": 5,
    "start_time": "2023-03-25T17:40:15.990Z"
   },
   {
    "duration": 432,
    "start_time": "2023-03-25T17:40:15.997Z"
   },
   {
    "duration": 16,
    "start_time": "2023-03-25T17:40:16.431Z"
   },
   {
    "duration": 10,
    "start_time": "2023-03-25T17:40:16.449Z"
   },
   {
    "duration": 32,
    "start_time": "2023-03-25T17:40:16.460Z"
   },
   {
    "duration": 21,
    "start_time": "2023-03-25T17:40:16.494Z"
   },
   {
    "duration": 74,
    "start_time": "2023-03-25T17:40:16.518Z"
   },
   {
    "duration": 10,
    "start_time": "2023-03-25T17:40:16.594Z"
   },
   {
    "duration": 5,
    "start_time": "2023-03-25T17:40:16.605Z"
   },
   {
    "duration": 73,
    "start_time": "2023-03-25T17:40:16.611Z"
   },
   {
    "duration": 54,
    "start_time": "2023-03-25T17:40:16.685Z"
   },
   {
    "duration": 76,
    "start_time": "2023-03-25T17:40:16.741Z"
   },
   {
    "duration": 62,
    "start_time": "2023-03-25T17:40:16.818Z"
   },
   {
    "duration": 31,
    "start_time": "2023-03-25T17:40:16.882Z"
   },
   {
    "duration": 62,
    "start_time": "2023-03-25T17:40:16.916Z"
   },
   {
    "duration": 98,
    "start_time": "2023-03-25T17:40:16.980Z"
   },
   {
    "duration": 113,
    "start_time": "2023-03-25T17:40:17.080Z"
   },
   {
    "duration": 37,
    "start_time": "2023-03-25T17:40:17.196Z"
   },
   {
    "duration": 85,
    "start_time": "2023-03-25T17:40:17.235Z"
   },
   {
    "duration": 7,
    "start_time": "2023-03-25T17:40:17.321Z"
   },
   {
    "duration": 125,
    "start_time": "2023-03-25T17:40:17.330Z"
   },
   {
    "duration": 135,
    "start_time": "2023-03-25T17:40:17.457Z"
   },
   {
    "duration": 133,
    "start_time": "2023-03-25T17:40:17.594Z"
   },
   {
    "duration": 193,
    "start_time": "2023-03-25T17:40:17.729Z"
   },
   {
    "duration": 1141,
    "start_time": "2023-03-25T23:26:56.904Z"
   },
   {
    "duration": 244,
    "start_time": "2023-03-25T23:26:58.047Z"
   },
   {
    "duration": 27,
    "start_time": "2023-03-25T23:26:58.293Z"
   },
   {
    "duration": 44,
    "start_time": "2023-03-25T23:26:58.322Z"
   },
   {
    "duration": 31,
    "start_time": "2023-03-25T23:26:58.368Z"
   },
   {
    "duration": 104,
    "start_time": "2023-03-25T23:26:58.400Z"
   },
   {
    "duration": 255,
    "start_time": "2023-03-25T23:26:58.506Z"
   },
   {
    "duration": 254,
    "start_time": "2023-03-25T23:26:58.763Z"
   },
   {
    "duration": 7,
    "start_time": "2023-03-25T23:26:59.019Z"
   },
   {
    "duration": 32,
    "start_time": "2023-03-25T23:26:59.027Z"
   },
   {
    "duration": 132,
    "start_time": "2023-03-25T23:26:59.060Z"
   },
   {
    "duration": 61,
    "start_time": "2023-03-25T23:26:59.193Z"
   },
   {
    "duration": 17,
    "start_time": "2023-03-25T23:26:59.256Z"
   },
   {
    "duration": 23,
    "start_time": "2023-03-25T23:26:59.277Z"
   },
   {
    "duration": 3,
    "start_time": "2023-03-25T23:26:59.302Z"
   },
   {
    "duration": 7,
    "start_time": "2023-03-25T23:26:59.307Z"
   },
   {
    "duration": 39,
    "start_time": "2023-03-25T23:26:59.315Z"
   },
   {
    "duration": 204,
    "start_time": "2023-03-25T23:26:59.356Z"
   },
   {
    "duration": 6,
    "start_time": "2023-03-25T23:26:59.562Z"
   },
   {
    "duration": 612,
    "start_time": "2023-03-25T23:26:59.570Z"
   },
   {
    "duration": 15,
    "start_time": "2023-03-25T23:27:00.184Z"
   },
   {
    "duration": 21,
    "start_time": "2023-03-25T23:27:00.201Z"
   },
   {
    "duration": 367,
    "start_time": "2023-03-25T23:27:00.223Z"
   },
   {
    "duration": 7,
    "start_time": "2023-03-25T23:27:00.591Z"
   },
   {
    "duration": 31,
    "start_time": "2023-03-25T23:27:00.599Z"
   },
   {
    "duration": 56,
    "start_time": "2023-03-25T23:27:00.631Z"
   },
   {
    "duration": 21,
    "start_time": "2023-03-25T23:27:00.689Z"
   },
   {
    "duration": 73,
    "start_time": "2023-03-25T23:27:00.712Z"
   },
   {
    "duration": 8,
    "start_time": "2023-03-25T23:27:00.787Z"
   },
   {
    "duration": 9,
    "start_time": "2023-03-25T23:27:00.797Z"
   },
   {
    "duration": 83,
    "start_time": "2023-03-25T23:27:00.808Z"
   },
   {
    "duration": 64,
    "start_time": "2023-03-25T23:27:00.893Z"
   },
   {
    "duration": 55,
    "start_time": "2023-03-25T23:27:00.959Z"
   },
   {
    "duration": 77,
    "start_time": "2023-03-25T23:27:01.016Z"
   },
   {
    "duration": 29,
    "start_time": "2023-03-25T23:27:01.095Z"
   },
   {
    "duration": 61,
    "start_time": "2023-03-25T23:27:01.126Z"
   },
   {
    "duration": 105,
    "start_time": "2023-03-25T23:27:01.188Z"
   },
   {
    "duration": 126,
    "start_time": "2023-03-25T23:27:01.294Z"
   },
   {
    "duration": 38,
    "start_time": "2023-03-25T23:27:01.422Z"
   },
   {
    "duration": 99,
    "start_time": "2023-03-25T23:27:01.462Z"
   },
   {
    "duration": 7,
    "start_time": "2023-03-25T23:27:01.564Z"
   },
   {
    "duration": 121,
    "start_time": "2023-03-25T23:27:01.572Z"
   },
   {
    "duration": 152,
    "start_time": "2023-03-25T23:27:01.694Z"
   },
   {
    "duration": 136,
    "start_time": "2023-03-25T23:27:01.854Z"
   },
   {
    "duration": 184,
    "start_time": "2023-03-25T23:27:01.992Z"
   },
   {
    "duration": 14,
    "start_time": "2023-03-25T23:27:44.674Z"
   },
   {
    "duration": 84,
    "start_time": "2023-03-26T05:08:39.140Z"
   },
   {
    "duration": 1838,
    "start_time": "2023-03-26T05:08:50.332Z"
   },
   {
    "duration": 511,
    "start_time": "2023-03-26T05:08:52.173Z"
   },
   {
    "duration": 53,
    "start_time": "2023-03-26T05:08:52.686Z"
   },
   {
    "duration": 47,
    "start_time": "2023-03-26T05:08:52.742Z"
   },
   {
    "duration": 73,
    "start_time": "2023-03-26T05:08:52.792Z"
   },
   {
    "duration": 132,
    "start_time": "2023-03-26T05:08:52.867Z"
   },
   {
    "duration": 313,
    "start_time": "2023-03-26T05:08:53.003Z"
   },
   {
    "duration": 359,
    "start_time": "2023-03-26T05:08:53.319Z"
   },
   {
    "duration": 16,
    "start_time": "2023-03-26T05:08:53.694Z"
   },
   {
    "duration": 32,
    "start_time": "2023-03-26T05:08:53.714Z"
   },
   {
    "duration": 224,
    "start_time": "2023-03-26T05:08:53.749Z"
   },
   {
    "duration": 93,
    "start_time": "2023-03-26T05:08:53.976Z"
   },
   {
    "duration": 45,
    "start_time": "2023-03-26T05:08:54.071Z"
   },
   {
    "duration": 35,
    "start_time": "2023-03-26T05:08:54.118Z"
   },
   {
    "duration": 5,
    "start_time": "2023-03-26T05:08:54.155Z"
   },
   {
    "duration": 46,
    "start_time": "2023-03-26T05:08:54.162Z"
   },
   {
    "duration": 12,
    "start_time": "2023-03-26T05:08:54.210Z"
   },
   {
    "duration": 277,
    "start_time": "2023-03-26T05:08:54.224Z"
   },
   {
    "duration": 10,
    "start_time": "2023-03-26T05:08:54.503Z"
   },
   {
    "duration": 1101,
    "start_time": "2023-03-26T05:08:54.515Z"
   },
   {
    "duration": 25,
    "start_time": "2023-03-26T05:08:55.619Z"
   },
   {
    "duration": 8,
    "start_time": "2023-03-26T05:08:55.646Z"
   },
   {
    "duration": 650,
    "start_time": "2023-03-26T05:08:55.657Z"
   },
   {
    "duration": 11,
    "start_time": "2023-03-26T05:08:56.310Z"
   },
   {
    "duration": 25,
    "start_time": "2023-03-26T05:08:56.323Z"
   },
   {
    "duration": 55,
    "start_time": "2023-03-26T05:08:56.350Z"
   },
   {
    "duration": 46,
    "start_time": "2023-03-26T05:08:56.408Z"
   },
   {
    "duration": 101,
    "start_time": "2023-03-26T05:08:56.460Z"
   },
   {
    "duration": 26,
    "start_time": "2023-03-26T05:08:56.565Z"
   },
   {
    "duration": 7,
    "start_time": "2023-03-26T05:08:56.594Z"
   },
   {
    "duration": 117,
    "start_time": "2023-03-26T05:08:56.604Z"
   },
   {
    "duration": 105,
    "start_time": "2023-03-26T05:08:56.724Z"
   },
   {
    "duration": 103,
    "start_time": "2023-03-26T05:08:56.831Z"
   },
   {
    "duration": 112,
    "start_time": "2023-03-26T05:08:56.937Z"
   },
   {
    "duration": 61,
    "start_time": "2023-03-26T05:08:57.051Z"
   },
   {
    "duration": 63,
    "start_time": "2023-03-26T05:08:57.114Z"
   },
   {
    "duration": 135,
    "start_time": "2023-03-26T05:08:57.188Z"
   },
   {
    "duration": 152,
    "start_time": "2023-03-26T05:08:57.325Z"
   },
   {
    "duration": 52,
    "start_time": "2023-03-26T05:08:57.479Z"
   },
   {
    "duration": 151,
    "start_time": "2023-03-26T05:08:57.533Z"
   },
   {
    "duration": 106,
    "start_time": "2023-03-26T05:08:57.686Z"
   },
   {
    "duration": 17,
    "start_time": "2023-03-26T05:08:57.794Z"
   },
   {
    "duration": 192,
    "start_time": "2023-03-26T05:08:57.815Z"
   },
   {
    "duration": 163,
    "start_time": "2023-03-26T05:08:58.009Z"
   },
   {
    "duration": 195,
    "start_time": "2023-03-26T05:08:58.174Z"
   },
   {
    "duration": 290,
    "start_time": "2023-03-26T05:08:58.371Z"
   },
   {
    "duration": 1107,
    "start_time": "2023-03-26T05:51:18.526Z"
   },
   {
    "duration": 180,
    "start_time": "2023-03-26T05:53:59.463Z"
   },
   {
    "duration": 26,
    "start_time": "2023-03-26T05:58:51.886Z"
   },
   {
    "duration": 41,
    "start_time": "2023-03-26T05:59:54.780Z"
   },
   {
    "duration": 24,
    "start_time": "2023-03-26T06:01:03.274Z"
   },
   {
    "duration": 1053,
    "start_time": "2023-03-26T22:08:01.315Z"
   },
   {
    "duration": 233,
    "start_time": "2023-03-26T22:08:02.370Z"
   },
   {
    "duration": 22,
    "start_time": "2023-03-26T22:08:02.605Z"
   },
   {
    "duration": 18,
    "start_time": "2023-03-26T22:08:02.629Z"
   },
   {
    "duration": 43,
    "start_time": "2023-03-26T22:08:02.648Z"
   },
   {
    "duration": 78,
    "start_time": "2023-03-26T22:08:02.692Z"
   },
   {
    "duration": 176,
    "start_time": "2023-03-26T22:08:02.772Z"
   },
   {
    "duration": 202,
    "start_time": "2023-03-26T22:08:02.950Z"
   },
   {
    "duration": 15,
    "start_time": "2023-03-26T22:08:03.153Z"
   },
   {
    "duration": 13,
    "start_time": "2023-03-26T22:08:03.170Z"
   },
   {
    "duration": 107,
    "start_time": "2023-03-26T22:08:03.184Z"
   },
   {
    "duration": 45,
    "start_time": "2023-03-26T22:08:03.293Z"
   },
   {
    "duration": 30,
    "start_time": "2023-03-26T22:08:03.339Z"
   },
   {
    "duration": 15,
    "start_time": "2023-03-26T22:08:03.372Z"
   },
   {
    "duration": 5,
    "start_time": "2023-03-26T22:08:03.388Z"
   },
   {
    "duration": 7,
    "start_time": "2023-03-26T22:08:03.394Z"
   },
   {
    "duration": 6,
    "start_time": "2023-03-26T22:08:03.403Z"
   },
   {
    "duration": 197,
    "start_time": "2023-03-26T22:08:03.410Z"
   },
   {
    "duration": 6,
    "start_time": "2023-03-26T22:08:03.608Z"
   },
   {
    "duration": 546,
    "start_time": "2023-03-26T22:08:03.615Z"
   },
   {
    "duration": 15,
    "start_time": "2023-03-26T22:08:04.168Z"
   },
   {
    "duration": 4,
    "start_time": "2023-03-26T22:08:04.184Z"
   },
   {
    "duration": 326,
    "start_time": "2023-03-26T22:08:04.189Z"
   },
   {
    "duration": 7,
    "start_time": "2023-03-26T22:08:04.516Z"
   },
   {
    "duration": 7,
    "start_time": "2023-03-26T22:08:04.524Z"
   },
   {
    "duration": 46,
    "start_time": "2023-03-26T22:08:04.532Z"
   },
   {
    "duration": 17,
    "start_time": "2023-03-26T22:08:04.579Z"
   },
   {
    "duration": 43,
    "start_time": "2023-03-26T22:08:04.597Z"
   },
   {
    "duration": 8,
    "start_time": "2023-03-26T22:08:04.641Z"
   },
   {
    "duration": 4,
    "start_time": "2023-03-26T22:08:04.650Z"
   },
   {
    "duration": 47,
    "start_time": "2023-03-26T22:08:04.668Z"
   },
   {
    "duration": 56,
    "start_time": "2023-03-26T22:08:04.717Z"
   },
   {
    "duration": 43,
    "start_time": "2023-03-26T22:08:04.774Z"
   },
   {
    "duration": 55,
    "start_time": "2023-03-26T22:08:04.818Z"
   },
   {
    "duration": 24,
    "start_time": "2023-03-26T22:08:04.874Z"
   },
   {
    "duration": 35,
    "start_time": "2023-03-26T22:08:04.900Z"
   },
   {
    "duration": 97,
    "start_time": "2023-03-26T22:08:04.937Z"
   },
   {
    "duration": 100,
    "start_time": "2023-03-26T22:08:05.035Z"
   },
   {
    "duration": 37,
    "start_time": "2023-03-26T22:08:05.137Z"
   },
   {
    "duration": 107,
    "start_time": "2023-03-26T22:08:05.176Z"
   },
   {
    "duration": 4,
    "start_time": "2023-03-26T22:08:05.286Z"
   },
   {
    "duration": 97,
    "start_time": "2023-03-26T22:08:05.291Z"
   },
   {
    "duration": 0,
    "start_time": "2023-03-26T22:08:05.389Z"
   },
   {
    "duration": 0,
    "start_time": "2023-03-26T22:08:05.391Z"
   },
   {
    "duration": 0,
    "start_time": "2023-03-26T22:08:05.392Z"
   },
   {
    "duration": 0,
    "start_time": "2023-03-26T22:08:05.393Z"
   },
   {
    "duration": 0,
    "start_time": "2023-03-26T22:08:05.394Z"
   },
   {
    "duration": 0,
    "start_time": "2023-03-26T22:08:05.394Z"
   },
   {
    "duration": 1372,
    "start_time": "2023-03-27T03:21:43.393Z"
   },
   {
    "duration": 395,
    "start_time": "2023-03-27T03:21:44.767Z"
   },
   {
    "duration": 32,
    "start_time": "2023-03-27T03:21:45.163Z"
   },
   {
    "duration": 28,
    "start_time": "2023-03-27T03:21:45.197Z"
   },
   {
    "duration": 56,
    "start_time": "2023-03-27T03:21:45.227Z"
   },
   {
    "duration": 105,
    "start_time": "2023-03-27T03:21:45.285Z"
   },
   {
    "duration": 256,
    "start_time": "2023-03-27T03:21:45.391Z"
   },
   {
    "duration": 224,
    "start_time": "2023-03-27T03:21:45.649Z"
   },
   {
    "duration": 8,
    "start_time": "2023-03-27T03:21:45.874Z"
   },
   {
    "duration": 24,
    "start_time": "2023-03-27T03:21:45.884Z"
   },
   {
    "duration": 161,
    "start_time": "2023-03-27T03:21:45.910Z"
   },
   {
    "duration": 82,
    "start_time": "2023-03-27T03:21:46.073Z"
   },
   {
    "duration": 18,
    "start_time": "2023-03-27T03:21:46.157Z"
   },
   {
    "duration": 20,
    "start_time": "2023-03-27T03:21:46.177Z"
   },
   {
    "duration": 3,
    "start_time": "2023-03-27T03:21:46.199Z"
   },
   {
    "duration": 43,
    "start_time": "2023-03-27T03:21:46.203Z"
   },
   {
    "duration": 9,
    "start_time": "2023-03-27T03:21:46.248Z"
   },
   {
    "duration": 232,
    "start_time": "2023-03-27T03:21:46.259Z"
   },
   {
    "duration": 7,
    "start_time": "2023-03-27T03:21:46.493Z"
   },
   {
    "duration": 709,
    "start_time": "2023-03-27T03:21:46.502Z"
   },
   {
    "duration": 32,
    "start_time": "2023-03-27T03:21:47.213Z"
   },
   {
    "duration": 6,
    "start_time": "2023-03-27T03:21:47.247Z"
   },
   {
    "duration": 395,
    "start_time": "2023-03-27T03:21:47.254Z"
   },
   {
    "duration": 7,
    "start_time": "2023-03-27T03:21:47.651Z"
   },
   {
    "duration": 10,
    "start_time": "2023-03-27T03:21:47.660Z"
   },
   {
    "duration": 29,
    "start_time": "2023-03-27T03:21:47.672Z"
   },
   {
    "duration": 24,
    "start_time": "2023-03-27T03:21:47.703Z"
   },
   {
    "duration": 53,
    "start_time": "2023-03-27T03:21:47.750Z"
   },
   {
    "duration": 9,
    "start_time": "2023-03-27T03:21:47.805Z"
   },
   {
    "duration": 8,
    "start_time": "2023-03-27T03:21:47.816Z"
   },
   {
    "duration": 75,
    "start_time": "2023-03-27T03:21:47.825Z"
   },
   {
    "duration": 58,
    "start_time": "2023-03-27T03:21:47.901Z"
   },
   {
    "duration": 52,
    "start_time": "2023-03-27T03:21:47.961Z"
   },
   {
    "duration": 83,
    "start_time": "2023-03-27T03:21:48.014Z"
   },
   {
    "duration": 31,
    "start_time": "2023-03-27T03:21:48.099Z"
   },
   {
    "duration": 52,
    "start_time": "2023-03-27T03:21:48.141Z"
   },
   {
    "duration": 111,
    "start_time": "2023-03-27T03:21:48.194Z"
   },
   {
    "duration": 111,
    "start_time": "2023-03-27T03:21:48.307Z"
   },
   {
    "duration": 48,
    "start_time": "2023-03-27T03:21:48.420Z"
   },
   {
    "duration": 124,
    "start_time": "2023-03-27T03:21:48.469Z"
   },
   {
    "duration": 5,
    "start_time": "2023-03-27T03:21:48.595Z"
   },
   {
    "duration": 129,
    "start_time": "2023-03-27T03:21:48.601Z"
   },
   {
    "duration": 0,
    "start_time": "2023-03-27T03:21:48.734Z"
   },
   {
    "duration": 0,
    "start_time": "2023-03-27T03:21:48.735Z"
   },
   {
    "duration": 0,
    "start_time": "2023-03-27T03:21:48.736Z"
   },
   {
    "duration": 0,
    "start_time": "2023-03-27T03:21:48.738Z"
   },
   {
    "duration": 0,
    "start_time": "2023-03-27T03:21:48.739Z"
   },
   {
    "duration": 0,
    "start_time": "2023-03-27T03:21:48.740Z"
   },
   {
    "duration": 14,
    "start_time": "2023-03-27T03:24:51.859Z"
   },
   {
    "duration": 5,
    "start_time": "2023-03-27T03:25:18.025Z"
   },
   {
    "duration": 11,
    "start_time": "2023-03-27T03:25:22.474Z"
   },
   {
    "duration": 11,
    "start_time": "2023-03-27T03:26:16.458Z"
   },
   {
    "duration": 11,
    "start_time": "2023-03-27T03:26:49.881Z"
   },
   {
    "duration": 10,
    "start_time": "2023-03-27T03:27:11.413Z"
   },
   {
    "duration": 1265,
    "start_time": "2023-03-27T04:12:31.714Z"
   },
   {
    "duration": 232,
    "start_time": "2023-03-27T04:12:32.981Z"
   },
   {
    "duration": 52,
    "start_time": "2023-03-27T04:12:33.214Z"
   },
   {
    "duration": 29,
    "start_time": "2023-03-27T04:12:33.270Z"
   },
   {
    "duration": 58,
    "start_time": "2023-03-27T04:12:33.301Z"
   },
   {
    "duration": 93,
    "start_time": "2023-03-27T04:12:33.361Z"
   },
   {
    "duration": 219,
    "start_time": "2023-03-27T04:12:33.455Z"
   },
   {
    "duration": 216,
    "start_time": "2023-03-27T04:12:33.675Z"
   },
   {
    "duration": 13,
    "start_time": "2023-03-27T04:12:33.893Z"
   },
   {
    "duration": 46,
    "start_time": "2023-03-27T04:12:33.909Z"
   },
   {
    "duration": 121,
    "start_time": "2023-03-27T04:12:33.956Z"
   },
   {
    "duration": 63,
    "start_time": "2023-03-27T04:12:34.078Z"
   },
   {
    "duration": 17,
    "start_time": "2023-03-27T04:12:34.142Z"
   },
   {
    "duration": 35,
    "start_time": "2023-03-27T04:12:34.161Z"
   },
   {
    "duration": 4,
    "start_time": "2023-03-27T04:12:34.197Z"
   },
   {
    "duration": 16,
    "start_time": "2023-03-27T04:12:34.203Z"
   },
   {
    "duration": 12,
    "start_time": "2023-03-27T04:12:34.235Z"
   },
   {
    "duration": 215,
    "start_time": "2023-03-27T04:12:34.249Z"
   },
   {
    "duration": 5,
    "start_time": "2023-03-27T04:12:34.466Z"
   },
   {
    "duration": 723,
    "start_time": "2023-03-27T04:12:34.472Z"
   },
   {
    "duration": 16,
    "start_time": "2023-03-27T04:12:35.197Z"
   },
   {
    "duration": 23,
    "start_time": "2023-03-27T04:12:35.214Z"
   },
   {
    "duration": 382,
    "start_time": "2023-03-27T04:12:35.239Z"
   },
   {
    "duration": 12,
    "start_time": "2023-03-27T04:12:35.623Z"
   },
   {
    "duration": 8,
    "start_time": "2023-03-27T04:12:35.636Z"
   },
   {
    "duration": 23,
    "start_time": "2023-03-27T04:12:35.645Z"
   },
   {
    "duration": 21,
    "start_time": "2023-03-27T04:12:35.670Z"
   },
   {
    "duration": 80,
    "start_time": "2023-03-27T04:12:35.694Z"
   },
   {
    "duration": 9,
    "start_time": "2023-03-27T04:12:35.776Z"
   },
   {
    "duration": 4,
    "start_time": "2023-03-27T04:12:35.787Z"
   },
   {
    "duration": 77,
    "start_time": "2023-03-27T04:12:35.793Z"
   },
   {
    "duration": 51,
    "start_time": "2023-03-27T04:12:35.871Z"
   },
   {
    "duration": 60,
    "start_time": "2023-03-27T04:12:35.934Z"
   },
   {
    "duration": 67,
    "start_time": "2023-03-27T04:12:35.996Z"
   },
   {
    "duration": 27,
    "start_time": "2023-03-27T04:12:36.064Z"
   },
   {
    "duration": 55,
    "start_time": "2023-03-27T04:12:36.093Z"
   },
   {
    "duration": 97,
    "start_time": "2023-03-27T04:12:36.150Z"
   },
   {
    "duration": 121,
    "start_time": "2023-03-27T04:12:36.249Z"
   },
   {
    "duration": 34,
    "start_time": "2023-03-27T04:12:36.371Z"
   },
   {
    "duration": 117,
    "start_time": "2023-03-27T04:12:36.406Z"
   },
   {
    "duration": 11,
    "start_time": "2023-03-27T04:12:36.524Z"
   },
   {
    "duration": 13,
    "start_time": "2023-03-27T04:12:36.536Z"
   },
   {
    "duration": 14,
    "start_time": "2023-03-27T04:12:36.551Z"
   },
   {
    "duration": 16,
    "start_time": "2023-03-27T04:12:36.568Z"
   },
   {
    "duration": 11,
    "start_time": "2023-03-27T04:12:36.585Z"
   },
   {
    "duration": 100,
    "start_time": "2023-03-27T04:12:36.598Z"
   },
   {
    "duration": 6,
    "start_time": "2023-03-27T04:12:36.700Z"
   },
   {
    "duration": 127,
    "start_time": "2023-03-27T04:12:36.708Z"
   },
   {
    "duration": 137,
    "start_time": "2023-03-27T04:12:36.838Z"
   },
   {
    "duration": 138,
    "start_time": "2023-03-27T04:12:36.977Z"
   },
   {
    "duration": 176,
    "start_time": "2023-03-27T04:12:37.117Z"
   },
   {
    "duration": 1201,
    "start_time": "2023-03-27T04:17:19.711Z"
   },
   {
    "duration": 259,
    "start_time": "2023-03-27T04:17:20.914Z"
   },
   {
    "duration": 46,
    "start_time": "2023-03-27T04:17:21.175Z"
   },
   {
    "duration": 31,
    "start_time": "2023-03-27T04:17:21.236Z"
   },
   {
    "duration": 55,
    "start_time": "2023-03-27T04:17:21.269Z"
   },
   {
    "duration": 143,
    "start_time": "2023-03-27T04:17:21.325Z"
   },
   {
    "duration": 233,
    "start_time": "2023-03-27T04:17:21.471Z"
   },
   {
    "duration": 245,
    "start_time": "2023-03-27T04:17:21.706Z"
   },
   {
    "duration": 16,
    "start_time": "2023-03-27T04:17:21.953Z"
   },
   {
    "duration": 24,
    "start_time": "2023-03-27T04:17:21.971Z"
   },
   {
    "duration": 154,
    "start_time": "2023-03-27T04:17:21.996Z"
   },
   {
    "duration": 58,
    "start_time": "2023-03-27T04:17:22.152Z"
   },
   {
    "duration": 35,
    "start_time": "2023-03-27T04:17:22.212Z"
   },
   {
    "duration": 41,
    "start_time": "2023-03-27T04:17:22.251Z"
   },
   {
    "duration": 6,
    "start_time": "2023-03-27T04:17:22.294Z"
   },
   {
    "duration": 13,
    "start_time": "2023-03-27T04:17:22.301Z"
   },
   {
    "duration": 27,
    "start_time": "2023-03-27T04:17:22.315Z"
   },
   {
    "duration": 226,
    "start_time": "2023-03-27T04:17:22.344Z"
   },
   {
    "duration": 7,
    "start_time": "2023-03-27T04:17:22.572Z"
   },
   {
    "duration": 665,
    "start_time": "2023-03-27T04:17:22.581Z"
   },
   {
    "duration": 24,
    "start_time": "2023-03-27T04:17:23.248Z"
   },
   {
    "duration": 29,
    "start_time": "2023-03-27T04:17:23.274Z"
   },
   {
    "duration": 376,
    "start_time": "2023-03-27T04:17:23.306Z"
   },
   {
    "duration": 8,
    "start_time": "2023-03-27T04:17:23.684Z"
   },
   {
    "duration": 17,
    "start_time": "2023-03-27T04:17:23.693Z"
   },
   {
    "duration": 46,
    "start_time": "2023-03-27T04:17:23.711Z"
   },
   {
    "duration": 36,
    "start_time": "2023-03-27T04:17:23.759Z"
   },
   {
    "duration": 90,
    "start_time": "2023-03-27T04:17:23.797Z"
   },
   {
    "duration": 8,
    "start_time": "2023-03-27T04:17:23.889Z"
   },
   {
    "duration": 5,
    "start_time": "2023-03-27T04:17:23.899Z"
   },
   {
    "duration": 70,
    "start_time": "2023-03-27T04:17:23.905Z"
   },
   {
    "duration": 68,
    "start_time": "2023-03-27T04:17:23.977Z"
   },
   {
    "duration": 48,
    "start_time": "2023-03-27T04:17:24.046Z"
   },
   {
    "duration": 79,
    "start_time": "2023-03-27T04:17:24.095Z"
   },
   {
    "duration": 28,
    "start_time": "2023-03-27T04:17:24.176Z"
   },
   {
    "duration": 52,
    "start_time": "2023-03-27T04:17:24.206Z"
   },
   {
    "duration": 92,
    "start_time": "2023-03-27T04:17:24.260Z"
   },
   {
    "duration": 97,
    "start_time": "2023-03-27T04:17:24.353Z"
   },
   {
    "duration": 35,
    "start_time": "2023-03-27T04:17:24.451Z"
   },
   {
    "duration": 210,
    "start_time": "2023-03-27T04:17:24.487Z"
   },
   {
    "duration": 7,
    "start_time": "2023-03-27T04:17:24.702Z"
   },
   {
    "duration": 39,
    "start_time": "2023-03-27T04:17:24.711Z"
   },
   {
    "duration": 27,
    "start_time": "2023-03-27T04:17:24.752Z"
   },
   {
    "duration": 56,
    "start_time": "2023-03-27T04:17:24.781Z"
   },
   {
    "duration": 11,
    "start_time": "2023-03-27T04:17:24.840Z"
   },
   {
    "duration": 134,
    "start_time": "2023-03-27T04:17:24.852Z"
   },
   {
    "duration": 6,
    "start_time": "2023-03-27T04:17:24.987Z"
   },
   {
    "duration": 155,
    "start_time": "2023-03-27T04:17:24.995Z"
   },
   {
    "duration": 127,
    "start_time": "2023-03-27T04:17:25.151Z"
   },
   {
    "duration": 140,
    "start_time": "2023-03-27T04:17:25.280Z"
   },
   {
    "duration": 213,
    "start_time": "2023-03-27T04:17:25.422Z"
   },
   {
    "duration": 1058,
    "start_time": "2023-03-27T20:17:40.912Z"
   },
   {
    "duration": 765,
    "start_time": "2023-03-27T20:17:41.971Z"
   },
   {
    "duration": 30,
    "start_time": "2023-03-27T20:17:42.738Z"
   },
   {
    "duration": 24,
    "start_time": "2023-03-27T20:17:42.770Z"
   },
   {
    "duration": 52,
    "start_time": "2023-03-27T20:17:42.797Z"
   },
   {
    "duration": 85,
    "start_time": "2023-03-27T20:17:42.852Z"
   },
   {
    "duration": 209,
    "start_time": "2023-03-27T20:17:42.939Z"
   },
   {
    "duration": 253,
    "start_time": "2023-03-27T20:17:43.150Z"
   },
   {
    "duration": 12,
    "start_time": "2023-03-27T20:17:43.405Z"
   },
   {
    "duration": 43,
    "start_time": "2023-03-27T20:17:43.418Z"
   },
   {
    "duration": 148,
    "start_time": "2023-03-27T20:17:43.463Z"
   },
   {
    "duration": 63,
    "start_time": "2023-03-27T20:17:43.612Z"
   },
   {
    "duration": 19,
    "start_time": "2023-03-27T20:17:43.677Z"
   },
   {
    "duration": 24,
    "start_time": "2023-03-27T20:17:43.700Z"
   },
   {
    "duration": 4,
    "start_time": "2023-03-27T20:17:43.726Z"
   },
   {
    "duration": 12,
    "start_time": "2023-03-27T20:17:43.756Z"
   },
   {
    "duration": 21,
    "start_time": "2023-03-27T20:17:43.771Z"
   },
   {
    "duration": 193,
    "start_time": "2023-03-27T20:17:43.794Z"
   },
   {
    "duration": 4,
    "start_time": "2023-03-27T20:17:43.989Z"
   },
   {
    "duration": 546,
    "start_time": "2023-03-27T20:17:43.994Z"
   },
   {
    "duration": 17,
    "start_time": "2023-03-27T20:17:44.542Z"
   },
   {
    "duration": 4,
    "start_time": "2023-03-27T20:17:44.561Z"
   },
   {
    "duration": 373,
    "start_time": "2023-03-27T20:17:44.566Z"
   },
   {
    "duration": 13,
    "start_time": "2023-03-27T20:17:44.940Z"
   },
   {
    "duration": 9,
    "start_time": "2023-03-27T20:17:44.954Z"
   },
   {
    "duration": 18,
    "start_time": "2023-03-27T20:17:44.964Z"
   },
   {
    "duration": 21,
    "start_time": "2023-03-27T20:17:44.983Z"
   },
   {
    "duration": 111,
    "start_time": "2023-03-27T20:17:45.005Z"
   },
   {
    "duration": 14,
    "start_time": "2023-03-27T20:17:45.117Z"
   },
   {
    "duration": 4,
    "start_time": "2023-03-27T20:17:45.133Z"
   },
   {
    "duration": 51,
    "start_time": "2023-03-27T20:17:45.138Z"
   },
   {
    "duration": 48,
    "start_time": "2023-03-27T20:17:45.191Z"
   },
   {
    "duration": 46,
    "start_time": "2023-03-27T20:17:45.248Z"
   },
   {
    "duration": 61,
    "start_time": "2023-03-27T20:17:45.296Z"
   },
   {
    "duration": 26,
    "start_time": "2023-03-27T20:17:45.358Z"
   },
   {
    "duration": 40,
    "start_time": "2023-03-27T20:17:45.385Z"
   },
   {
    "duration": 95,
    "start_time": "2023-03-27T20:17:45.427Z"
   },
   {
    "duration": 99,
    "start_time": "2023-03-27T20:17:45.524Z"
   },
   {
    "duration": 44,
    "start_time": "2023-03-27T20:17:45.625Z"
   },
   {
    "duration": 100,
    "start_time": "2023-03-27T20:17:45.671Z"
   },
   {
    "duration": 4,
    "start_time": "2023-03-27T20:17:45.776Z"
   },
   {
    "duration": 28,
    "start_time": "2023-03-27T20:17:45.781Z"
   },
   {
    "duration": 12,
    "start_time": "2023-03-27T20:17:45.810Z"
   },
   {
    "duration": 26,
    "start_time": "2023-03-27T20:17:45.824Z"
   },
   {
    "duration": 16,
    "start_time": "2023-03-27T20:17:45.852Z"
   },
   {
    "duration": 62,
    "start_time": "2023-03-27T20:17:45.870Z"
   },
   {
    "duration": 6,
    "start_time": "2023-03-27T20:17:45.933Z"
   },
   {
    "duration": 99,
    "start_time": "2023-03-27T20:17:45.954Z"
   },
   {
    "duration": 126,
    "start_time": "2023-03-27T20:17:46.055Z"
   },
   {
    "duration": 146,
    "start_time": "2023-03-27T20:17:46.182Z"
   },
   {
    "duration": 178,
    "start_time": "2023-03-27T20:17:46.329Z"
   }
  ],
  "kernelspec": {
   "display_name": "Python 3 (ipykernel)",
   "language": "python",
   "name": "python3"
  },
  "language_info": {
   "codemirror_mode": {
    "name": "ipython",
    "version": 3
   },
   "file_extension": ".py",
   "mimetype": "text/x-python",
   "name": "python",
   "nbconvert_exporter": "python",
   "pygments_lexer": "ipython3",
   "version": "3.9.12"
  },
  "toc": {
   "base_numbering": 1,
   "nav_menu": {},
   "number_sections": false,
   "sideBar": true,
   "skip_h1_title": false,
   "title_cell": "Table of Contents",
   "title_sidebar": "Contents",
   "toc_cell": false,
   "toc_position": {
    "height": "calc(100% - 180px)",
    "left": "10px",
    "top": "150px",
    "width": "268.581px"
   },
   "toc_section_display": true,
   "toc_window_display": true
  }
 },
 "nbformat": 4,
 "nbformat_minor": 5
}
